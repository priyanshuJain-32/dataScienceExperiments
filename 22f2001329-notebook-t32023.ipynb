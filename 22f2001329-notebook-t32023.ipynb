{
 "cells": [
  {
   "cell_type": "markdown",
   "id": "050e5000",
   "metadata": {
    "papermill": {
     "duration": 0.009911,
     "end_time": "2023-10-15T14:58:08.521135",
     "exception": false,
     "start_time": "2023-10-15T14:58:08.511224",
     "status": "completed"
    },
    "tags": []
   },
   "source": [
    "# Hello and welcome to my Notebook"
   ]
  },
  {
   "cell_type": "markdown",
   "id": "d3f25c36",
   "metadata": {
    "papermill": {
     "duration": 0.00861,
     "end_time": "2023-10-15T14:58:08.538874",
     "exception": false,
     "start_time": "2023-10-15T14:58:08.530264",
     "status": "completed"
    },
    "tags": []
   },
   "source": [
    "#### Today we will explore the world of taxis using this dataset and understand what goes into predicting the prices for taxis when we try to book them and how historical data can play a role in making better and accurate predictions. \n",
    "\n",
    "#### We will understand the dataset then move to creating visuals to better that understanding. We will use statistical methods to know nature of dataset and fix missing values or outliers effecting our data. After that we will build different models and pick the one that works best for our data."
   ]
  },
  {
   "cell_type": "code",
   "execution_count": 1,
   "id": "3c134eb2",
   "metadata": {
    "_cell_guid": "b1076dfc-b9ad-4769-8c92-a6c4dae69d19",
    "_uuid": "8f2839f25d086af736a60e9eeb907d3b93b6e0e5",
    "execution": {
     "iopub.execute_input": "2023-10-15T14:58:08.558977Z",
     "iopub.status.busy": "2023-10-15T14:58:08.558223Z",
     "iopub.status.idle": "2023-10-15T14:58:10.509393Z",
     "shell.execute_reply": "2023-10-15T14:58:10.508239Z"
    },
    "papermill": {
     "duration": 1.963805,
     "end_time": "2023-10-15T14:58:10.511536",
     "exception": false,
     "start_time": "2023-10-15T14:58:08.547731",
     "status": "completed"
    },
    "tags": []
   },
   "outputs": [
    {
     "name": "stdout",
     "output_type": "stream",
     "text": [
      "/kaggle/input/taxi-fare-guru-total-amount-prediction-challenge/sample.csv.csv\n",
      "/kaggle/input/taxi-fare-guru-total-amount-prediction-challenge/train.csv\n",
      "/kaggle/input/taxi-fare-guru-total-amount-prediction-challenge/test.csv\n"
     ]
    }
   ],
   "source": [
    "# Loading libraries\n",
    "\n",
    "import numpy as np # linear algebra\n",
    "import pandas as pd # to handle and read datasets\n",
    "import datetime # to handle time and date data\n",
    "import matplotlib.pyplot as plt\n",
    "from sklearn.impute import KNNImputer\n",
    "\n",
    "# Print path to files stored here in kaggle database\n",
    "import os\n",
    "for dirname, _, filenames in os.walk('/kaggle/input'):\n",
    "    for filename in filenames:\n",
    "        print(os.path.join(dirname, filename))"
   ]
  },
  {
   "cell_type": "code",
   "execution_count": 2,
   "id": "ccc46b3b",
   "metadata": {
    "execution": {
     "iopub.execute_input": "2023-10-15T14:58:10.531692Z",
     "iopub.status.busy": "2023-10-15T14:58:10.531205Z",
     "iopub.status.idle": "2023-10-15T14:58:11.430295Z",
     "shell.execute_reply": "2023-10-15T14:58:11.429247Z"
    },
    "papermill": {
     "duration": 0.911622,
     "end_time": "2023-10-15T14:58:11.432617",
     "exception": false,
     "start_time": "2023-10-15T14:58:10.520995",
     "status": "completed"
    },
    "tags": []
   },
   "outputs": [],
   "source": [
    "# Let us read the data from train.csv file\n",
    "train_data = pd.read_csv('/kaggle/input/taxi-fare-guru-total-amount-prediction-challenge/train.csv')\n",
    "test_data = pd.read_csv('/kaggle/input/taxi-fare-guru-total-amount-prediction-challenge/test.csv')"
   ]
  },
  {
   "cell_type": "code",
   "execution_count": 3,
   "id": "24570d3a",
   "metadata": {
    "execution": {
     "iopub.execute_input": "2023-10-15T14:58:11.452666Z",
     "iopub.status.busy": "2023-10-15T14:58:11.452039Z",
     "iopub.status.idle": "2023-10-15T14:58:11.483265Z",
     "shell.execute_reply": "2023-10-15T14:58:11.482176Z"
    },
    "papermill": {
     "duration": 0.04393,
     "end_time": "2023-10-15T14:58:11.485630",
     "exception": false,
     "start_time": "2023-10-15T14:58:11.441700",
     "status": "completed"
    },
    "tags": []
   },
   "outputs": [
    {
     "name": "stdout",
     "output_type": "stream",
     "text": [
      "(175000, 17)\n"
     ]
    },
    {
     "data": {
      "text/html": [
       "<div>\n",
       "<style scoped>\n",
       "    .dataframe tbody tr th:only-of-type {\n",
       "        vertical-align: middle;\n",
       "    }\n",
       "\n",
       "    .dataframe tbody tr th {\n",
       "        vertical-align: top;\n",
       "    }\n",
       "\n",
       "    .dataframe thead th {\n",
       "        text-align: right;\n",
       "    }\n",
       "</style>\n",
       "<table border=\"1\" class=\"dataframe\">\n",
       "  <thead>\n",
       "    <tr style=\"text-align: right;\">\n",
       "      <th></th>\n",
       "      <th>VendorID</th>\n",
       "      <th>tpep_pickup_datetime</th>\n",
       "      <th>tpep_dropoff_datetime</th>\n",
       "      <th>passenger_count</th>\n",
       "      <th>trip_distance</th>\n",
       "      <th>RatecodeID</th>\n",
       "      <th>store_and_fwd_flag</th>\n",
       "      <th>PULocationID</th>\n",
       "      <th>DOLocationID</th>\n",
       "      <th>payment_type</th>\n",
       "      <th>extra</th>\n",
       "      <th>tip_amount</th>\n",
       "      <th>tolls_amount</th>\n",
       "      <th>improvement_surcharge</th>\n",
       "      <th>total_amount</th>\n",
       "      <th>congestion_surcharge</th>\n",
       "      <th>Airport_fee</th>\n",
       "    </tr>\n",
       "  </thead>\n",
       "  <tbody>\n",
       "    <tr>\n",
       "      <th>0</th>\n",
       "      <td>1</td>\n",
       "      <td>2023-06-28 17:20:21</td>\n",
       "      <td>2023-06-28 16:34:45</td>\n",
       "      <td>1.0</td>\n",
       "      <td>2.14</td>\n",
       "      <td>1.0</td>\n",
       "      <td>N</td>\n",
       "      <td>120</td>\n",
       "      <td>9</td>\n",
       "      <td>Credit Card</td>\n",
       "      <td>2.5</td>\n",
       "      <td>7.165589</td>\n",
       "      <td>0.0</td>\n",
       "      <td>1.0</td>\n",
       "      <td>20.64</td>\n",
       "      <td>2.5</td>\n",
       "      <td>0.0</td>\n",
       "    </tr>\n",
       "    <tr>\n",
       "      <th>1</th>\n",
       "      <td>0</td>\n",
       "      <td>2023-06-29 23:05:01</td>\n",
       "      <td>2023-06-29 22:01:35</td>\n",
       "      <td>1.0</td>\n",
       "      <td>2.70</td>\n",
       "      <td>1.0</td>\n",
       "      <td>N</td>\n",
       "      <td>15</td>\n",
       "      <td>215</td>\n",
       "      <td>Credit Card</td>\n",
       "      <td>3.5</td>\n",
       "      <td>6.067401</td>\n",
       "      <td>0.0</td>\n",
       "      <td>1.0</td>\n",
       "      <td>25.55</td>\n",
       "      <td>2.5</td>\n",
       "      <td>0.0</td>\n",
       "    </tr>\n",
       "    <tr>\n",
       "      <th>2</th>\n",
       "      <td>1</td>\n",
       "      <td>2023-06-30 10:19:31</td>\n",
       "      <td>2023-06-30 11:13:10</td>\n",
       "      <td>1.0</td>\n",
       "      <td>1.15</td>\n",
       "      <td>1.0</td>\n",
       "      <td>N</td>\n",
       "      <td>167</td>\n",
       "      <td>223</td>\n",
       "      <td>Credit Card</td>\n",
       "      <td>0.0</td>\n",
       "      <td>4.111547</td>\n",
       "      <td>0.0</td>\n",
       "      <td>1.0</td>\n",
       "      <td>17.64</td>\n",
       "      <td>2.5</td>\n",
       "      <td>0.0</td>\n",
       "    </tr>\n",
       "    <tr>\n",
       "      <th>3</th>\n",
       "      <td>0</td>\n",
       "      <td>2023-06-29 13:23:09</td>\n",
       "      <td>2023-06-29 14:20:01</td>\n",
       "      <td>1.0</td>\n",
       "      <td>0.40</td>\n",
       "      <td>1.0</td>\n",
       "      <td>N</td>\n",
       "      <td>128</td>\n",
       "      <td>239</td>\n",
       "      <td>Credit Card</td>\n",
       "      <td>2.5</td>\n",
       "      <td>6.411079</td>\n",
       "      <td>0.0</td>\n",
       "      <td>1.0</td>\n",
       "      <td>12.80</td>\n",
       "      <td>2.5</td>\n",
       "      <td>0.0</td>\n",
       "    </tr>\n",
       "    <tr>\n",
       "      <th>4</th>\n",
       "      <td>1</td>\n",
       "      <td>2023-06-29 22:03:32</td>\n",
       "      <td>2023-06-29 22:22:22</td>\n",
       "      <td>3.0</td>\n",
       "      <td>1.10</td>\n",
       "      <td>1.0</td>\n",
       "      <td>N</td>\n",
       "      <td>203</td>\n",
       "      <td>52</td>\n",
       "      <td>Credit Card</td>\n",
       "      <td>1.0</td>\n",
       "      <td>4.769377</td>\n",
       "      <td>0.0</td>\n",
       "      <td>1.0</td>\n",
       "      <td>18.00</td>\n",
       "      <td>2.5</td>\n",
       "      <td>0.0</td>\n",
       "    </tr>\n",
       "  </tbody>\n",
       "</table>\n",
       "</div>"
      ],
      "text/plain": [
       "   VendorID tpep_pickup_datetime tpep_dropoff_datetime  passenger_count  \\\n",
       "0         1  2023-06-28 17:20:21   2023-06-28 16:34:45              1.0   \n",
       "1         0  2023-06-29 23:05:01   2023-06-29 22:01:35              1.0   \n",
       "2         1  2023-06-30 10:19:31   2023-06-30 11:13:10              1.0   \n",
       "3         0  2023-06-29 13:23:09   2023-06-29 14:20:01              1.0   \n",
       "4         1  2023-06-29 22:03:32   2023-06-29 22:22:22              3.0   \n",
       "\n",
       "   trip_distance  RatecodeID store_and_fwd_flag  PULocationID  DOLocationID  \\\n",
       "0           2.14         1.0                  N           120             9   \n",
       "1           2.70         1.0                  N            15           215   \n",
       "2           1.15         1.0                  N           167           223   \n",
       "3           0.40         1.0                  N           128           239   \n",
       "4           1.10         1.0                  N           203            52   \n",
       "\n",
       "  payment_type  extra  tip_amount  tolls_amount  improvement_surcharge  \\\n",
       "0  Credit Card    2.5    7.165589           0.0                    1.0   \n",
       "1  Credit Card    3.5    6.067401           0.0                    1.0   \n",
       "2  Credit Card    0.0    4.111547           0.0                    1.0   \n",
       "3  Credit Card    2.5    6.411079           0.0                    1.0   \n",
       "4  Credit Card    1.0    4.769377           0.0                    1.0   \n",
       "\n",
       "   total_amount  congestion_surcharge  Airport_fee  \n",
       "0         20.64                   2.5          0.0  \n",
       "1         25.55                   2.5          0.0  \n",
       "2         17.64                   2.5          0.0  \n",
       "3         12.80                   2.5          0.0  \n",
       "4         18.00                   2.5          0.0  "
      ]
     },
     "execution_count": 3,
     "metadata": {},
     "output_type": "execute_result"
    }
   ],
   "source": [
    "# We will start with inspecting the data\n",
    "print(train_data.shape) # dataset contains 1,75,000 rows and 17 columns with target_amount as the 'y'\n",
    "train_data.head(5)"
   ]
  },
  {
   "cell_type": "markdown",
   "id": "fc81e208",
   "metadata": {
    "papermill": {
     "duration": 0.009508,
     "end_time": "2023-10-15T14:58:11.504744",
     "exception": false,
     "start_time": "2023-10-15T14:58:11.495236",
     "status": "completed"
    },
    "tags": []
   },
   "source": []
  },
  {
   "cell_type": "code",
   "execution_count": 4,
   "id": "785e7946",
   "metadata": {
    "execution": {
     "iopub.execute_input": "2023-10-15T14:58:11.525867Z",
     "iopub.status.busy": "2023-10-15T14:58:11.525095Z",
     "iopub.status.idle": "2023-10-15T14:58:11.544943Z",
     "shell.execute_reply": "2023-10-15T14:58:11.544010Z"
    },
    "papermill": {
     "duration": 0.032489,
     "end_time": "2023-10-15T14:58:11.546753",
     "exception": false,
     "start_time": "2023-10-15T14:58:11.514264",
     "status": "completed"
    },
    "tags": []
   },
   "outputs": [
    {
     "name": "stdout",
     "output_type": "stream",
     "text": [
      "(50000, 16)\n"
     ]
    },
    {
     "data": {
      "text/html": [
       "<div>\n",
       "<style scoped>\n",
       "    .dataframe tbody tr th:only-of-type {\n",
       "        vertical-align: middle;\n",
       "    }\n",
       "\n",
       "    .dataframe tbody tr th {\n",
       "        vertical-align: top;\n",
       "    }\n",
       "\n",
       "    .dataframe thead th {\n",
       "        text-align: right;\n",
       "    }\n",
       "</style>\n",
       "<table border=\"1\" class=\"dataframe\">\n",
       "  <thead>\n",
       "    <tr style=\"text-align: right;\">\n",
       "      <th></th>\n",
       "      <th>VendorID</th>\n",
       "      <th>tpep_pickup_datetime</th>\n",
       "      <th>tpep_dropoff_datetime</th>\n",
       "      <th>passenger_count</th>\n",
       "      <th>trip_distance</th>\n",
       "      <th>RatecodeID</th>\n",
       "      <th>store_and_fwd_flag</th>\n",
       "      <th>PULocationID</th>\n",
       "      <th>DOLocationID</th>\n",
       "      <th>payment_type</th>\n",
       "      <th>extra</th>\n",
       "      <th>tip_amount</th>\n",
       "      <th>tolls_amount</th>\n",
       "      <th>improvement_surcharge</th>\n",
       "      <th>congestion_surcharge</th>\n",
       "      <th>Airport_fee</th>\n",
       "    </tr>\n",
       "  </thead>\n",
       "  <tbody>\n",
       "    <tr>\n",
       "      <th>0</th>\n",
       "      <td>1</td>\n",
       "      <td>2023-06-29 00:21:20</td>\n",
       "      <td>2023-06-29 00:25:20</td>\n",
       "      <td>1.0</td>\n",
       "      <td>4.95</td>\n",
       "      <td>1.0</td>\n",
       "      <td>N</td>\n",
       "      <td>20</td>\n",
       "      <td>3</td>\n",
       "      <td>Credit Card</td>\n",
       "      <td>1.0</td>\n",
       "      <td>6.067612</td>\n",
       "      <td>0.0</td>\n",
       "      <td>1.0</td>\n",
       "      <td>2.5</td>\n",
       "      <td>0.0</td>\n",
       "    </tr>\n",
       "    <tr>\n",
       "      <th>1</th>\n",
       "      <td>1</td>\n",
       "      <td>2023-06-30 17:44:43</td>\n",
       "      <td>2023-06-30 17:53:13</td>\n",
       "      <td>1.0</td>\n",
       "      <td>2.10</td>\n",
       "      <td>1.0</td>\n",
       "      <td>N</td>\n",
       "      <td>9</td>\n",
       "      <td>81</td>\n",
       "      <td>Credit Card</td>\n",
       "      <td>2.5</td>\n",
       "      <td>6.191269</td>\n",
       "      <td>0.0</td>\n",
       "      <td>1.0</td>\n",
       "      <td>2.5</td>\n",
       "      <td>0.0</td>\n",
       "    </tr>\n",
       "    <tr>\n",
       "      <th>2</th>\n",
       "      <td>1</td>\n",
       "      <td>2023-06-29 18:17:04</td>\n",
       "      <td>2023-06-29 19:23:48</td>\n",
       "      <td>1.0</td>\n",
       "      <td>0.95</td>\n",
       "      <td>1.0</td>\n",
       "      <td>N</td>\n",
       "      <td>92</td>\n",
       "      <td>90</td>\n",
       "      <td>Cash</td>\n",
       "      <td>2.5</td>\n",
       "      <td>3.983872</td>\n",
       "      <td>0.0</td>\n",
       "      <td>1.0</td>\n",
       "      <td>2.5</td>\n",
       "      <td>0.0</td>\n",
       "    </tr>\n",
       "    <tr>\n",
       "      <th>3</th>\n",
       "      <td>0</td>\n",
       "      <td>2023-06-30 21:33:53</td>\n",
       "      <td>2023-06-30 21:46:20</td>\n",
       "      <td>1.0</td>\n",
       "      <td>0.80</td>\n",
       "      <td>1.0</td>\n",
       "      <td>N</td>\n",
       "      <td>19</td>\n",
       "      <td>102</td>\n",
       "      <td>Credit Card</td>\n",
       "      <td>3.5</td>\n",
       "      <td>6.839341</td>\n",
       "      <td>0.0</td>\n",
       "      <td>1.0</td>\n",
       "      <td>2.5</td>\n",
       "      <td>0.0</td>\n",
       "    </tr>\n",
       "    <tr>\n",
       "      <th>4</th>\n",
       "      <td>1</td>\n",
       "      <td>2023-06-29 14:53:54</td>\n",
       "      <td>2023-06-29 15:22:17</td>\n",
       "      <td>1.0</td>\n",
       "      <td>4.01</td>\n",
       "      <td>1.0</td>\n",
       "      <td>N</td>\n",
       "      <td>131</td>\n",
       "      <td>229</td>\n",
       "      <td>Cash</td>\n",
       "      <td>0.0</td>\n",
       "      <td>1.468943</td>\n",
       "      <td>0.0</td>\n",
       "      <td>1.0</td>\n",
       "      <td>0.0</td>\n",
       "      <td>0.0</td>\n",
       "    </tr>\n",
       "  </tbody>\n",
       "</table>\n",
       "</div>"
      ],
      "text/plain": [
       "   VendorID tpep_pickup_datetime tpep_dropoff_datetime  passenger_count  \\\n",
       "0         1  2023-06-29 00:21:20   2023-06-29 00:25:20              1.0   \n",
       "1         1  2023-06-30 17:44:43   2023-06-30 17:53:13              1.0   \n",
       "2         1  2023-06-29 18:17:04   2023-06-29 19:23:48              1.0   \n",
       "3         0  2023-06-30 21:33:53   2023-06-30 21:46:20              1.0   \n",
       "4         1  2023-06-29 14:53:54   2023-06-29 15:22:17              1.0   \n",
       "\n",
       "   trip_distance  RatecodeID store_and_fwd_flag  PULocationID  DOLocationID  \\\n",
       "0           4.95         1.0                  N            20             3   \n",
       "1           2.10         1.0                  N             9            81   \n",
       "2           0.95         1.0                  N            92            90   \n",
       "3           0.80         1.0                  N            19           102   \n",
       "4           4.01         1.0                  N           131           229   \n",
       "\n",
       "  payment_type  extra  tip_amount  tolls_amount  improvement_surcharge  \\\n",
       "0  Credit Card    1.0    6.067612           0.0                    1.0   \n",
       "1  Credit Card    2.5    6.191269           0.0                    1.0   \n",
       "2         Cash    2.5    3.983872           0.0                    1.0   \n",
       "3  Credit Card    3.5    6.839341           0.0                    1.0   \n",
       "4         Cash    0.0    1.468943           0.0                    1.0   \n",
       "\n",
       "   congestion_surcharge  Airport_fee  \n",
       "0                   2.5          0.0  \n",
       "1                   2.5          0.0  \n",
       "2                   2.5          0.0  \n",
       "3                   2.5          0.0  \n",
       "4                   0.0          0.0  "
      ]
     },
     "execution_count": 4,
     "metadata": {},
     "output_type": "execute_result"
    }
   ],
   "source": [
    "# Inspecting the test.csv on which we will make the predictions\n",
    "print(test_data.shape) # dataset contains 50,000 rows and 16 columns\n",
    "test_data.head(5)"
   ]
  },
  {
   "cell_type": "code",
   "execution_count": 5,
   "id": "cf0ec152",
   "metadata": {
    "execution": {
     "iopub.execute_input": "2023-10-15T14:58:11.567824Z",
     "iopub.status.busy": "2023-10-15T14:58:11.567046Z",
     "iopub.status.idle": "2023-10-15T14:58:11.635058Z",
     "shell.execute_reply": "2023-10-15T14:58:11.633817Z"
    },
    "papermill": {
     "duration": 0.08078,
     "end_time": "2023-10-15T14:58:11.637113",
     "exception": false,
     "start_time": "2023-10-15T14:58:11.556333",
     "status": "completed"
    },
    "tags": []
   },
   "outputs": [
    {
     "name": "stdout",
     "output_type": "stream",
     "text": [
      "Columns:  ['VendorID' 'tpep_pickup_datetime' 'tpep_dropoff_datetime'\n",
      " 'passenger_count' 'trip_distance' 'RatecodeID' 'store_and_fwd_flag'\n",
      " 'PULocationID' 'DOLocationID' 'payment_type' 'extra' 'tip_amount'\n",
      " 'tolls_amount' 'improvement_surcharge' 'total_amount'\n",
      " 'congestion_surcharge' 'Airport_fee']\n",
      "<class 'pandas.core.frame.DataFrame'>\n",
      "RangeIndex: 175000 entries, 0 to 174999\n",
      "Data columns (total 17 columns):\n",
      " #   Column                 Non-Null Count   Dtype  \n",
      "---  ------                 --------------   -----  \n",
      " 0   VendorID               175000 non-null  int64  \n",
      " 1   tpep_pickup_datetime   175000 non-null  object \n",
      " 2   tpep_dropoff_datetime  175000 non-null  object \n",
      " 3   passenger_count        168923 non-null  float64\n",
      " 4   trip_distance          175000 non-null  float64\n",
      " 5   RatecodeID             168923 non-null  float64\n",
      " 6   store_and_fwd_flag     168923 non-null  object \n",
      " 7   PULocationID           175000 non-null  int64  \n",
      " 8   DOLocationID           175000 non-null  int64  \n",
      " 9   payment_type           175000 non-null  object \n",
      " 10  extra                  175000 non-null  float64\n",
      " 11  tip_amount             175000 non-null  float64\n",
      " 12  tolls_amount           175000 non-null  float64\n",
      " 13  improvement_surcharge  175000 non-null  float64\n",
      " 14  total_amount           175000 non-null  float64\n",
      " 15  congestion_surcharge   168923 non-null  float64\n",
      " 16  Airport_fee            168923 non-null  float64\n",
      "dtypes: float64(10), int64(3), object(4)\n",
      "memory usage: 22.7+ MB\n",
      "None\n"
     ]
    }
   ],
   "source": [
    "# From understanding of the dataset and description focus will be on predicting the total_amount.\n",
    "# Before we get onto that let us understand the dataset more.\n",
    "print(\"Columns: \", train_data.columns.values)\n",
    "print(train_data.info()) # We can see that passenger_count, RatecodeID, store_and_fwd_flag, congestion_surcharge, Airport_fee have 6077 null values each\n",
    "\n",
    "# We can observe that pickup_datetime and dropoff_datetime will need to be converted to datetime datatype and \n",
    "# payment_type and store_and_fwd_flag will need to be encoded into categories"
   ]
  },
  {
   "cell_type": "markdown",
   "id": "212da084",
   "metadata": {
    "execution": {
     "iopub.execute_input": "2023-10-03T04:13:58.557252Z",
     "iopub.status.busy": "2023-10-03T04:13:58.556966Z",
     "iopub.status.idle": "2023-10-03T04:13:58.566173Z",
     "shell.execute_reply": "2023-10-03T04:13:58.564328Z",
     "shell.execute_reply.started": "2023-10-03T04:13:58.557234Z"
    },
    "papermill": {
     "duration": 0.009377,
     "end_time": "2023-10-15T14:58:11.656335",
     "exception": false,
     "start_time": "2023-10-15T14:58:11.646958",
     "status": "completed"
    },
    "tags": []
   },
   "source": [
    "### From the analysis and the problem statement we can divide the columns into\n",
    "#### Features\n",
    "1. VendorID\n",
    "2. tpep_pickup_datetime\n",
    "3. tpep_dropoff_datetime\n",
    "4. passenger_count\n",
    "5. trip_distance\n",
    "6. RatecodeID\n",
    "7. store_and_fwd_flag\n",
    "8. PULocationID\n",
    "9. DOLocationID\n",
    "10. payment_type\n",
    "11. extra\n",
    "12. tip_amount\n",
    "13. tolls_amount\n",
    "14. improvement_surcharge\n",
    "15. congestion_surcharge\n",
    "16. Airport_fee\n",
    "\n",
    "#### Label\n",
    "1. total_amount"
   ]
  },
  {
   "cell_type": "code",
   "execution_count": 6,
   "id": "49ccef87",
   "metadata": {
    "execution": {
     "iopub.execute_input": "2023-10-15T14:58:11.678899Z",
     "iopub.status.busy": "2023-10-15T14:58:11.677630Z",
     "iopub.status.idle": "2023-10-15T14:58:11.700108Z",
     "shell.execute_reply": "2023-10-15T14:58:11.698877Z"
    },
    "papermill": {
     "duration": 0.035423,
     "end_time": "2023-10-15T14:58:11.702280",
     "exception": false,
     "start_time": "2023-10-15T14:58:11.666857",
     "status": "completed"
    },
    "tags": []
   },
   "outputs": [
    {
     "name": "stdout",
     "output_type": "stream",
     "text": [
      "Columns:  ['VendorID' 'tpep_pickup_datetime' 'tpep_dropoff_datetime'\n",
      " 'passenger_count' 'trip_distance' 'RatecodeID' 'store_and_fwd_flag'\n",
      " 'PULocationID' 'DOLocationID' 'payment_type' 'extra' 'tip_amount'\n",
      " 'tolls_amount' 'improvement_surcharge' 'congestion_surcharge'\n",
      " 'Airport_fee']\n",
      "<class 'pandas.core.frame.DataFrame'>\n",
      "RangeIndex: 50000 entries, 0 to 49999\n",
      "Data columns (total 16 columns):\n",
      " #   Column                 Non-Null Count  Dtype  \n",
      "---  ------                 --------------  -----  \n",
      " 0   VendorID               50000 non-null  int64  \n",
      " 1   tpep_pickup_datetime   50000 non-null  object \n",
      " 2   tpep_dropoff_datetime  50000 non-null  object \n",
      " 3   passenger_count        48221 non-null  float64\n",
      " 4   trip_distance          50000 non-null  float64\n",
      " 5   RatecodeID             48221 non-null  float64\n",
      " 6   store_and_fwd_flag     48221 non-null  object \n",
      " 7   PULocationID           50000 non-null  int64  \n",
      " 8   DOLocationID           50000 non-null  int64  \n",
      " 9   payment_type           50000 non-null  object \n",
      " 10  extra                  50000 non-null  float64\n",
      " 11  tip_amount             50000 non-null  float64\n",
      " 12  tolls_amount           50000 non-null  float64\n",
      " 13  improvement_surcharge  50000 non-null  float64\n",
      " 14  congestion_surcharge   48221 non-null  float64\n",
      " 15  Airport_fee            48221 non-null  float64\n",
      "dtypes: float64(9), int64(3), object(4)\n",
      "memory usage: 6.1+ MB\n",
      "None\n"
     ]
    }
   ],
   "source": [
    "print(\"Columns: \", test_data.columns.values)\n",
    "print(test_data.info()) # We can see that passenger_count, RatecodeID, store_and_fwd_flag, congestion_surcharge, Airport_fee have 1799 null values each"
   ]
  },
  {
   "cell_type": "code",
   "execution_count": 7,
   "id": "b5196759",
   "metadata": {
    "execution": {
     "iopub.execute_input": "2023-10-15T14:58:11.723669Z",
     "iopub.status.busy": "2023-10-15T14:58:11.723330Z",
     "iopub.status.idle": "2023-10-15T14:58:11.853558Z",
     "shell.execute_reply": "2023-10-15T14:58:11.852502Z"
    },
    "papermill": {
     "duration": 0.143585,
     "end_time": "2023-10-15T14:58:11.855750",
     "exception": false,
     "start_time": "2023-10-15T14:58:11.712165",
     "status": "completed"
    },
    "tags": []
   },
   "outputs": [
    {
     "data": {
      "text/html": [
       "<div>\n",
       "<style scoped>\n",
       "    .dataframe tbody tr th:only-of-type {\n",
       "        vertical-align: middle;\n",
       "    }\n",
       "\n",
       "    .dataframe tbody tr th {\n",
       "        vertical-align: top;\n",
       "    }\n",
       "\n",
       "    .dataframe thead th {\n",
       "        text-align: right;\n",
       "    }\n",
       "</style>\n",
       "<table border=\"1\" class=\"dataframe\">\n",
       "  <thead>\n",
       "    <tr style=\"text-align: right;\">\n",
       "      <th></th>\n",
       "      <th>VendorID</th>\n",
       "      <th>passenger_count</th>\n",
       "      <th>trip_distance</th>\n",
       "      <th>RatecodeID</th>\n",
       "      <th>PULocationID</th>\n",
       "      <th>DOLocationID</th>\n",
       "      <th>extra</th>\n",
       "      <th>tip_amount</th>\n",
       "      <th>tolls_amount</th>\n",
       "      <th>improvement_surcharge</th>\n",
       "      <th>total_amount</th>\n",
       "      <th>congestion_surcharge</th>\n",
       "      <th>Airport_fee</th>\n",
       "    </tr>\n",
       "  </thead>\n",
       "  <tbody>\n",
       "    <tr>\n",
       "      <th>count</th>\n",
       "      <td>175000.000000</td>\n",
       "      <td>168923.000000</td>\n",
       "      <td>175000.000000</td>\n",
       "      <td>168923.000000</td>\n",
       "      <td>175000.000000</td>\n",
       "      <td>175000.000000</td>\n",
       "      <td>175000.000000</td>\n",
       "      <td>175000.000000</td>\n",
       "      <td>175000.000000</td>\n",
       "      <td>175000.000000</td>\n",
       "      <td>175000.000000</td>\n",
       "      <td>168923.000000</td>\n",
       "      <td>168923.000000</td>\n",
       "    </tr>\n",
       "    <tr>\n",
       "      <th>mean</th>\n",
       "      <td>0.728377</td>\n",
       "      <td>1.357678</td>\n",
       "      <td>5.145930</td>\n",
       "      <td>1.518307</td>\n",
       "      <td>132.710349</td>\n",
       "      <td>132.701429</td>\n",
       "      <td>1.932143</td>\n",
       "      <td>6.127497</td>\n",
       "      <td>0.646816</td>\n",
       "      <td>0.979689</td>\n",
       "      <td>29.633901</td>\n",
       "      <td>2.246971</td>\n",
       "      <td>0.158825</td>\n",
       "    </tr>\n",
       "    <tr>\n",
       "      <th>std</th>\n",
       "      <td>0.445606</td>\n",
       "      <td>0.891283</td>\n",
       "      <td>394.971052</td>\n",
       "      <td>6.514678</td>\n",
       "      <td>76.148799</td>\n",
       "      <td>76.192493</td>\n",
       "      <td>1.948497</td>\n",
       "      <td>4.610834</td>\n",
       "      <td>2.328274</td>\n",
       "      <td>0.198775</td>\n",
       "      <td>25.425206</td>\n",
       "      <td>0.819216</td>\n",
       "      <td>0.511968</td>\n",
       "    </tr>\n",
       "    <tr>\n",
       "      <th>min</th>\n",
       "      <td>0.000000</td>\n",
       "      <td>0.000000</td>\n",
       "      <td>0.000000</td>\n",
       "      <td>1.000000</td>\n",
       "      <td>1.000000</td>\n",
       "      <td>1.000000</td>\n",
       "      <td>-7.500000</td>\n",
       "      <td>0.000079</td>\n",
       "      <td>-29.300000</td>\n",
       "      <td>-1.000000</td>\n",
       "      <td>-576.750000</td>\n",
       "      <td>-2.500000</td>\n",
       "      <td>-1.750000</td>\n",
       "    </tr>\n",
       "    <tr>\n",
       "      <th>25%</th>\n",
       "      <td>0.000000</td>\n",
       "      <td>1.000000</td>\n",
       "      <td>1.080000</td>\n",
       "      <td>1.000000</td>\n",
       "      <td>67.000000</td>\n",
       "      <td>67.000000</td>\n",
       "      <td>0.000000</td>\n",
       "      <td>3.473321</td>\n",
       "      <td>0.000000</td>\n",
       "      <td>1.000000</td>\n",
       "      <td>16.300000</td>\n",
       "      <td>2.500000</td>\n",
       "      <td>0.000000</td>\n",
       "    </tr>\n",
       "    <tr>\n",
       "      <th>50%</th>\n",
       "      <td>1.000000</td>\n",
       "      <td>1.000000</td>\n",
       "      <td>1.840000</td>\n",
       "      <td>1.000000</td>\n",
       "      <td>133.000000</td>\n",
       "      <td>133.000000</td>\n",
       "      <td>1.000000</td>\n",
       "      <td>5.286217</td>\n",
       "      <td>0.000000</td>\n",
       "      <td>1.000000</td>\n",
       "      <td>21.450000</td>\n",
       "      <td>2.500000</td>\n",
       "      <td>0.000000</td>\n",
       "    </tr>\n",
       "    <tr>\n",
       "      <th>75%</th>\n",
       "      <td>1.000000</td>\n",
       "      <td>1.000000</td>\n",
       "      <td>3.610000</td>\n",
       "      <td>1.000000</td>\n",
       "      <td>199.000000</td>\n",
       "      <td>199.000000</td>\n",
       "      <td>2.500000</td>\n",
       "      <td>7.502746</td>\n",
       "      <td>0.000000</td>\n",
       "      <td>1.000000</td>\n",
       "      <td>31.800000</td>\n",
       "      <td>2.500000</td>\n",
       "      <td>0.000000</td>\n",
       "    </tr>\n",
       "    <tr>\n",
       "      <th>max</th>\n",
       "      <td>2.000000</td>\n",
       "      <td>9.000000</td>\n",
       "      <td>135182.060000</td>\n",
       "      <td>99.000000</td>\n",
       "      <td>264.000000</td>\n",
       "      <td>264.000000</td>\n",
       "      <td>11.750000</td>\n",
       "      <td>484.876151</td>\n",
       "      <td>80.000000</td>\n",
       "      <td>1.000000</td>\n",
       "      <td>587.250000</td>\n",
       "      <td>2.500000</td>\n",
       "      <td>1.750000</td>\n",
       "    </tr>\n",
       "  </tbody>\n",
       "</table>\n",
       "</div>"
      ],
      "text/plain": [
       "            VendorID  passenger_count  trip_distance     RatecodeID  \\\n",
       "count  175000.000000    168923.000000  175000.000000  168923.000000   \n",
       "mean        0.728377         1.357678       5.145930       1.518307   \n",
       "std         0.445606         0.891283     394.971052       6.514678   \n",
       "min         0.000000         0.000000       0.000000       1.000000   \n",
       "25%         0.000000         1.000000       1.080000       1.000000   \n",
       "50%         1.000000         1.000000       1.840000       1.000000   \n",
       "75%         1.000000         1.000000       3.610000       1.000000   \n",
       "max         2.000000         9.000000  135182.060000      99.000000   \n",
       "\n",
       "        PULocationID   DOLocationID          extra     tip_amount  \\\n",
       "count  175000.000000  175000.000000  175000.000000  175000.000000   \n",
       "mean      132.710349     132.701429       1.932143       6.127497   \n",
       "std        76.148799      76.192493       1.948497       4.610834   \n",
       "min         1.000000       1.000000      -7.500000       0.000079   \n",
       "25%        67.000000      67.000000       0.000000       3.473321   \n",
       "50%       133.000000     133.000000       1.000000       5.286217   \n",
       "75%       199.000000     199.000000       2.500000       7.502746   \n",
       "max       264.000000     264.000000      11.750000     484.876151   \n",
       "\n",
       "        tolls_amount  improvement_surcharge   total_amount  \\\n",
       "count  175000.000000          175000.000000  175000.000000   \n",
       "mean        0.646816               0.979689      29.633901   \n",
       "std         2.328274               0.198775      25.425206   \n",
       "min       -29.300000              -1.000000    -576.750000   \n",
       "25%         0.000000               1.000000      16.300000   \n",
       "50%         0.000000               1.000000      21.450000   \n",
       "75%         0.000000               1.000000      31.800000   \n",
       "max        80.000000               1.000000     587.250000   \n",
       "\n",
       "       congestion_surcharge    Airport_fee  \n",
       "count         168923.000000  168923.000000  \n",
       "mean               2.246971       0.158825  \n",
       "std                0.819216       0.511968  \n",
       "min               -2.500000      -1.750000  \n",
       "25%                2.500000       0.000000  \n",
       "50%                2.500000       0.000000  \n",
       "75%                2.500000       0.000000  \n",
       "max                2.500000       1.750000  "
      ]
     },
     "execution_count": 7,
     "metadata": {},
     "output_type": "execute_result"
    }
   ],
   "source": [
    "# Let us understand the nature of train data\n",
    "train_data.describe()\n",
    "\n",
    "# Few observations - It seems trip distance's max value is way too high reaching 135182 which seems abnormal, tip amount also reaches 484 and total amount has large negative value also.\n",
    "# Improvement surcharge, extra, tolls_amount, congestion_surcharge and airport fee also has negative values."
   ]
  },
  {
   "cell_type": "code",
   "execution_count": 8,
   "id": "a0062f48",
   "metadata": {
    "execution": {
     "iopub.execute_input": "2023-10-15T14:58:11.877917Z",
     "iopub.status.busy": "2023-10-15T14:58:11.877530Z",
     "iopub.status.idle": "2023-10-15T14:58:11.936590Z",
     "shell.execute_reply": "2023-10-15T14:58:11.935482Z"
    },
    "papermill": {
     "duration": 0.072849,
     "end_time": "2023-10-15T14:58:11.938876",
     "exception": false,
     "start_time": "2023-10-15T14:58:11.866027",
     "status": "completed"
    },
    "tags": []
   },
   "outputs": [
    {
     "data": {
      "text/html": [
       "<div>\n",
       "<style scoped>\n",
       "    .dataframe tbody tr th:only-of-type {\n",
       "        vertical-align: middle;\n",
       "    }\n",
       "\n",
       "    .dataframe tbody tr th {\n",
       "        vertical-align: top;\n",
       "    }\n",
       "\n",
       "    .dataframe thead th {\n",
       "        text-align: right;\n",
       "    }\n",
       "</style>\n",
       "<table border=\"1\" class=\"dataframe\">\n",
       "  <thead>\n",
       "    <tr style=\"text-align: right;\">\n",
       "      <th></th>\n",
       "      <th>VendorID</th>\n",
       "      <th>passenger_count</th>\n",
       "      <th>trip_distance</th>\n",
       "      <th>RatecodeID</th>\n",
       "      <th>PULocationID</th>\n",
       "      <th>DOLocationID</th>\n",
       "      <th>extra</th>\n",
       "      <th>tip_amount</th>\n",
       "      <th>tolls_amount</th>\n",
       "      <th>improvement_surcharge</th>\n",
       "      <th>congestion_surcharge</th>\n",
       "      <th>Airport_fee</th>\n",
       "    </tr>\n",
       "  </thead>\n",
       "  <tbody>\n",
       "    <tr>\n",
       "      <th>count</th>\n",
       "      <td>50000.000000</td>\n",
       "      <td>48221.000000</td>\n",
       "      <td>50000.000000</td>\n",
       "      <td>48221.000000</td>\n",
       "      <td>50000.000000</td>\n",
       "      <td>50000.000000</td>\n",
       "      <td>50000.000000</td>\n",
       "      <td>50000.000000</td>\n",
       "      <td>50000.000000</td>\n",
       "      <td>50000.000000</td>\n",
       "      <td>48221.000000</td>\n",
       "      <td>48221.000000</td>\n",
       "    </tr>\n",
       "    <tr>\n",
       "      <th>mean</th>\n",
       "      <td>0.730280</td>\n",
       "      <td>1.358309</td>\n",
       "      <td>3.999013</td>\n",
       "      <td>1.567014</td>\n",
       "      <td>132.208160</td>\n",
       "      <td>132.559300</td>\n",
       "      <td>1.918050</td>\n",
       "      <td>6.107765</td>\n",
       "      <td>0.615867</td>\n",
       "      <td>0.981354</td>\n",
       "      <td>2.255345</td>\n",
       "      <td>0.152133</td>\n",
       "    </tr>\n",
       "    <tr>\n",
       "      <th>std</th>\n",
       "      <td>0.444584</td>\n",
       "      <td>0.879948</td>\n",
       "      <td>78.958759</td>\n",
       "      <td>6.875115</td>\n",
       "      <td>76.483766</td>\n",
       "      <td>76.410602</td>\n",
       "      <td>1.938568</td>\n",
       "      <td>4.408572</td>\n",
       "      <td>2.289421</td>\n",
       "      <td>0.190203</td>\n",
       "      <td>0.803190</td>\n",
       "      <td>0.502866</td>\n",
       "    </tr>\n",
       "    <tr>\n",
       "      <th>min</th>\n",
       "      <td>0.000000</td>\n",
       "      <td>0.000000</td>\n",
       "      <td>0.000000</td>\n",
       "      <td>1.000000</td>\n",
       "      <td>1.000000</td>\n",
       "      <td>1.000000</td>\n",
       "      <td>-7.500000</td>\n",
       "      <td>0.000409</td>\n",
       "      <td>-23.000000</td>\n",
       "      <td>-1.000000</td>\n",
       "      <td>-2.500000</td>\n",
       "      <td>-1.750000</td>\n",
       "    </tr>\n",
       "    <tr>\n",
       "      <th>25%</th>\n",
       "      <td>0.000000</td>\n",
       "      <td>1.000000</td>\n",
       "      <td>1.090000</td>\n",
       "      <td>1.000000</td>\n",
       "      <td>66.000000</td>\n",
       "      <td>67.000000</td>\n",
       "      <td>0.000000</td>\n",
       "      <td>3.464018</td>\n",
       "      <td>0.000000</td>\n",
       "      <td>1.000000</td>\n",
       "      <td>2.500000</td>\n",
       "      <td>0.000000</td>\n",
       "    </tr>\n",
       "    <tr>\n",
       "      <th>50%</th>\n",
       "      <td>1.000000</td>\n",
       "      <td>1.000000</td>\n",
       "      <td>1.850000</td>\n",
       "      <td>1.000000</td>\n",
       "      <td>132.000000</td>\n",
       "      <td>133.000000</td>\n",
       "      <td>1.000000</td>\n",
       "      <td>5.271687</td>\n",
       "      <td>0.000000</td>\n",
       "      <td>1.000000</td>\n",
       "      <td>2.500000</td>\n",
       "      <td>0.000000</td>\n",
       "    </tr>\n",
       "    <tr>\n",
       "      <th>75%</th>\n",
       "      <td>1.000000</td>\n",
       "      <td>1.000000</td>\n",
       "      <td>3.600000</td>\n",
       "      <td>1.000000</td>\n",
       "      <td>199.000000</td>\n",
       "      <td>199.000000</td>\n",
       "      <td>2.500000</td>\n",
       "      <td>7.504048</td>\n",
       "      <td>0.000000</td>\n",
       "      <td>1.000000</td>\n",
       "      <td>2.500000</td>\n",
       "      <td>0.000000</td>\n",
       "    </tr>\n",
       "    <tr>\n",
       "      <th>max</th>\n",
       "      <td>2.000000</td>\n",
       "      <td>8.000000</td>\n",
       "      <td>17624.430000</td>\n",
       "      <td>99.000000</td>\n",
       "      <td>264.000000</td>\n",
       "      <td>264.000000</td>\n",
       "      <td>11.750000</td>\n",
       "      <td>96.551343</td>\n",
       "      <td>47.750000</td>\n",
       "      <td>1.000000</td>\n",
       "      <td>2.500000</td>\n",
       "      <td>1.750000</td>\n",
       "    </tr>\n",
       "  </tbody>\n",
       "</table>\n",
       "</div>"
      ],
      "text/plain": [
       "           VendorID  passenger_count  trip_distance    RatecodeID  \\\n",
       "count  50000.000000     48221.000000   50000.000000  48221.000000   \n",
       "mean       0.730280         1.358309       3.999013      1.567014   \n",
       "std        0.444584         0.879948      78.958759      6.875115   \n",
       "min        0.000000         0.000000       0.000000      1.000000   \n",
       "25%        0.000000         1.000000       1.090000      1.000000   \n",
       "50%        1.000000         1.000000       1.850000      1.000000   \n",
       "75%        1.000000         1.000000       3.600000      1.000000   \n",
       "max        2.000000         8.000000   17624.430000     99.000000   \n",
       "\n",
       "       PULocationID  DOLocationID         extra    tip_amount  tolls_amount  \\\n",
       "count  50000.000000  50000.000000  50000.000000  50000.000000  50000.000000   \n",
       "mean     132.208160    132.559300      1.918050      6.107765      0.615867   \n",
       "std       76.483766     76.410602      1.938568      4.408572      2.289421   \n",
       "min        1.000000      1.000000     -7.500000      0.000409    -23.000000   \n",
       "25%       66.000000     67.000000      0.000000      3.464018      0.000000   \n",
       "50%      132.000000    133.000000      1.000000      5.271687      0.000000   \n",
       "75%      199.000000    199.000000      2.500000      7.504048      0.000000   \n",
       "max      264.000000    264.000000     11.750000     96.551343     47.750000   \n",
       "\n",
       "       improvement_surcharge  congestion_surcharge   Airport_fee  \n",
       "count           50000.000000          48221.000000  48221.000000  \n",
       "mean                0.981354              2.255345      0.152133  \n",
       "std                 0.190203              0.803190      0.502866  \n",
       "min                -1.000000             -2.500000     -1.750000  \n",
       "25%                 1.000000              2.500000      0.000000  \n",
       "50%                 1.000000              2.500000      0.000000  \n",
       "75%                 1.000000              2.500000      0.000000  \n",
       "max                 1.000000              2.500000      1.750000  "
      ]
     },
     "execution_count": 8,
     "metadata": {},
     "output_type": "execute_result"
    }
   ],
   "source": [
    "# Similarly inspecting the nature of test data\n",
    "test_data.describe()"
   ]
  },
  {
   "cell_type": "markdown",
   "id": "6a68bf58",
   "metadata": {
    "execution": {
     "iopub.execute_input": "2023-10-03T12:15:38.200663Z",
     "iopub.status.busy": "2023-10-03T12:15:38.200299Z",
     "iopub.status.idle": "2023-10-03T12:15:38.204448Z",
     "shell.execute_reply": "2023-10-03T12:15:38.203621Z",
     "shell.execute_reply.started": "2023-10-03T12:15:38.200637Z"
    },
    "papermill": {
     "duration": 0.010135,
     "end_time": "2023-10-15T14:58:12.020323",
     "exception": false,
     "start_time": "2023-10-15T14:58:12.010188",
     "status": "completed"
    },
    "tags": []
   },
   "source": [
    "## Visualizing Data\n",
    "Now we will look at the data and visualize it to understand more about the data and relationship between features"
   ]
  },
  {
   "cell_type": "code",
   "execution_count": 9,
   "id": "7f5b0efa",
   "metadata": {
    "execution": {
     "iopub.execute_input": "2023-10-15T14:58:12.042941Z",
     "iopub.status.busy": "2023-10-15T14:58:12.042531Z",
     "iopub.status.idle": "2023-10-15T14:58:12.346238Z",
     "shell.execute_reply": "2023-10-15T14:58:12.345137Z"
    },
    "papermill": {
     "duration": 0.317709,
     "end_time": "2023-10-15T14:58:12.348472",
     "exception": false,
     "start_time": "2023-10-15T14:58:12.030763",
     "status": "completed"
    },
    "tags": []
   },
   "outputs": [
    {
     "data": {
      "text/plain": [
       "{'whiskers': [<matplotlib.lines.Line2D at 0x7ca751d514b0>,\n",
       "  <matplotlib.lines.Line2D at 0x7ca751d50bb0>],\n",
       " 'caps': [<matplotlib.lines.Line2D at 0x7ca751d50100>,\n",
       "  <matplotlib.lines.Line2D at 0x7ca751d507c0>],\n",
       " 'boxes': [<matplotlib.lines.Line2D at 0x7ca751d52ec0>],\n",
       " 'medians': [<matplotlib.lines.Line2D at 0x7ca751d50a60>],\n",
       " 'fliers': [<matplotlib.lines.Line2D at 0x7ca751d533a0>],\n",
       " 'means': []}"
      ]
     },
     "execution_count": 9,
     "metadata": {},
     "output_type": "execute_result"
    },
    {
     "data": {
      "image/png": "[encoded data removed]",
      "text/plain": [
       "<Figure size 640x480 with 1 Axes>"
      ]
     },
     "metadata": {},
     "output_type": "display_data"
    }
   ],
   "source": [
    "plt.boxplot(train_data['trip_distance'])"
   ]
  },
  {
   "cell_type": "code",
   "execution_count": 10,
   "id": "e1247b6e",
   "metadata": {
    "execution": {
     "iopub.execute_input": "2023-10-15T14:58:12.372765Z",
     "iopub.status.busy": "2023-10-15T14:58:12.371746Z",
     "iopub.status.idle": "2023-10-15T14:58:12.609147Z",
     "shell.execute_reply": "2023-10-15T14:58:12.607972Z"
    },
    "papermill": {
     "duration": 0.252047,
     "end_time": "2023-10-15T14:58:12.611683",
     "exception": false,
     "start_time": "2023-10-15T14:58:12.359636",
     "status": "completed"
    },
    "tags": []
   },
   "outputs": [
    {
     "data": {
      "text/plain": [
       "{'whiskers': [<matplotlib.lines.Line2D at 0x7ca751b023e0>,\n",
       "  <matplotlib.lines.Line2D at 0x7ca751b02680>],\n",
       " 'caps': [<matplotlib.lines.Line2D at 0x7ca751b03e20>,\n",
       "  <matplotlib.lines.Line2D at 0x7ca751b03b80>],\n",
       " 'boxes': [<matplotlib.lines.Line2D at 0x7ca751b02140>],\n",
       " 'medians': [<matplotlib.lines.Line2D at 0x7ca751b02bc0>],\n",
       " 'fliers': [<matplotlib.lines.Line2D at 0x7ca751b02f80>],\n",
       " 'means': []}"
      ]
     },
     "execution_count": 10,
     "metadata": {},
     "output_type": "execute_result"
    },
    {
     "data": {
      "image/png": "[encoded data removed]",
      "text/plain": [
       "<Figure size 640x480 with 1 Axes>"
      ]
     },
     "metadata": {},
     "output_type": "display_data"
    }
   ],
   "source": [
    "plt.boxplot(train_data['tolls_amount'])"
   ]
  },
  {
   "cell_type": "code",
   "execution_count": 11,
   "id": "3e2a188d",
   "metadata": {
    "execution": {
     "iopub.execute_input": "2023-10-15T14:58:12.636133Z",
     "iopub.status.busy": "2023-10-15T14:58:12.635715Z",
     "iopub.status.idle": "2023-10-15T14:58:12.857664Z",
     "shell.execute_reply": "2023-10-15T14:58:12.856629Z"
    },
    "papermill": {
     "duration": 0.236683,
     "end_time": "2023-10-15T14:58:12.859916",
     "exception": false,
     "start_time": "2023-10-15T14:58:12.623233",
     "status": "completed"
    },
    "tags": []
   },
   "outputs": [
    {
     "data": {
      "text/plain": [
       "{'whiskers': [<matplotlib.lines.Line2D at 0x7ca74fb2d9c0>,\n",
       "  <matplotlib.lines.Line2D at 0x7ca74fb2dc60>],\n",
       " 'caps': [<matplotlib.lines.Line2D at 0x7ca74fb2df00>,\n",
       "  <matplotlib.lines.Line2D at 0x7ca74fb2e1a0>],\n",
       " 'boxes': [<matplotlib.lines.Line2D at 0x7ca74fb2d720>],\n",
       " 'medians': [<matplotlib.lines.Line2D at 0x7ca74fb2e440>],\n",
       " 'fliers': [<matplotlib.lines.Line2D at 0x7ca74fb2e6e0>],\n",
       " 'means': []}"
      ]
     },
     "execution_count": 11,
     "metadata": {},
     "output_type": "execute_result"
    },
    {
     "data": {
      "image/png": "[encoded data removed]",
      "text/plain": [
       "<Figure size 640x480 with 1 Axes>"
      ]
     },
     "metadata": {},
     "output_type": "display_data"
    }
   ],
   "source": [
    "plt.boxplot(train_data['extra'])"
   ]
  },
  {
   "cell_type": "markdown",
   "id": "131f8308",
   "metadata": {
    "papermill": {
     "duration": 0.011614,
     "end_time": "2023-10-15T14:58:12.883277",
     "exception": false,
     "start_time": "2023-10-15T14:58:12.871663",
     "status": "completed"
    },
    "tags": []
   },
   "source": [
    "## Feature Transformation\n",
    "Pickup time and Dropoff time can give us very good information\n",
    "1. Information on trip duration by taking difference of dropoff and pickup time\n",
    "2. Time of day when trip was started and ended also may have some correlation to the prices charged\n",
    "3. We can use duration to calculate speed of travel as we have the trip distance. It can give us idea of whether traffic or waiting times have correlation to charges. Slow average speeds could mean more overall charges."
   ]
  },
  {
   "cell_type": "markdown",
   "id": "088a1aed",
   "metadata": {
    "execution": {
     "iopub.execute_input": "2023-10-03T11:33:52.306447Z",
     "iopub.status.busy": "2023-10-03T11:33:52.306099Z",
     "iopub.status.idle": "2023-10-03T11:33:52.331967Z",
     "shell.execute_reply": "2023-10-03T11:33:52.330700Z",
     "shell.execute_reply.started": "2023-10-03T11:33:52.306417Z"
    },
    "papermill": {
     "duration": 0.011433,
     "end_time": "2023-10-15T14:58:12.906517",
     "exception": false,
     "start_time": "2023-10-15T14:58:12.895084",
     "status": "completed"
    },
    "tags": []
   },
   "source": [
    "train_data.payment_type.value_counts()"
   ]
  },
  {
   "cell_type": "code",
   "execution_count": 12,
   "id": "91879330",
   "metadata": {
    "execution": {
     "iopub.execute_input": "2023-10-15T14:58:12.931616Z",
     "iopub.status.busy": "2023-10-15T14:58:12.930872Z",
     "iopub.status.idle": "2023-10-15T14:58:13.096537Z",
     "shell.execute_reply": "2023-10-15T14:58:13.095084Z"
    },
    "papermill": {
     "duration": 0.180783,
     "end_time": "2023-10-15T14:58:13.098933",
     "exception": false,
     "start_time": "2023-10-15T14:58:12.918150",
     "status": "completed"
    },
    "tags": []
   },
   "outputs": [],
   "source": [
    "# Converting datetime strings to datetime objects in both train and test data\n",
    "train_data.tpep_pickup_datetime = pd.to_datetime(train_data.tpep_pickup_datetime)\n",
    "train_data.tpep_dropoff_datetime = pd.to_datetime(train_data.tpep_dropoff_datetime)\n",
    "\n",
    "# Doing the same for test set\n",
    "test_data.tpep_pickup_datetime = pd.to_datetime(test_data.tpep_pickup_datetime)\n",
    "test_data.tpep_dropoff_datetime = pd.to_datetime(test_data.tpep_dropoff_datetime)"
   ]
  },
  {
   "cell_type": "code",
   "execution_count": 13,
   "id": "1e36b5f7",
   "metadata": {
    "execution": {
     "iopub.execute_input": "2023-10-15T14:58:13.123917Z",
     "iopub.status.busy": "2023-10-15T14:58:13.123505Z",
     "iopub.status.idle": "2023-10-15T14:58:13.608067Z",
     "shell.execute_reply": "2023-10-15T14:58:13.606918Z"
    },
    "papermill": {
     "duration": 0.499705,
     "end_time": "2023-10-15T14:58:13.610424",
     "exception": false,
     "start_time": "2023-10-15T14:58:13.110719",
     "status": "completed"
    },
    "tags": []
   },
   "outputs": [],
   "source": [
    "# calculating the duration of trip and converting to minutes using datetime.timedelta.total_seconds\n",
    "train_data['trip_duration'] = pd.DataFrame(map(datetime.timedelta.total_seconds,(train_data.tpep_dropoff_datetime - train_data.tpep_pickup_datetime)))/60\n",
    "\n",
    "# Performing same for test data\n",
    "test_data['trip_duration'] = pd.DataFrame(map(datetime.timedelta.total_seconds,(test_data.tpep_dropoff_datetime - test_data.tpep_pickup_datetime)))/60"
   ]
  },
  {
   "cell_type": "code",
   "execution_count": 14,
   "id": "f9d3b6d8",
   "metadata": {
    "execution": {
     "iopub.execute_input": "2023-10-15T14:58:13.638437Z",
     "iopub.status.busy": "2023-10-15T14:58:13.638038Z",
     "iopub.status.idle": "2023-10-15T14:58:13.649918Z",
     "shell.execute_reply": "2023-10-15T14:58:13.648679Z"
    },
    "papermill": {
     "duration": 0.029425,
     "end_time": "2023-10-15T14:58:13.651829",
     "exception": false,
     "start_time": "2023-10-15T14:58:13.622404",
     "status": "completed"
    },
    "tags": []
   },
   "outputs": [
    {
     "name": "stdout",
     "output_type": "stream",
     "text": [
      "Train Data negative trip durations 65674\n",
      "Test Data negative trip durations 18578\n"
     ]
    }
   ],
   "source": [
    "print(\"Train Data negative trip durations\", train_data.trip_duration[train_data.trip_duration<0].count())\n",
    "# Strangely in 65674 cases time duration is negative\n",
    "\n",
    "print(\"Test Data negative trip durations\", test_data.trip_duration[test_data.trip_duration<0].count())\n",
    "# Similarly in 18578 cases time duration is negative"
   ]
  },
  {
   "cell_type": "code",
   "execution_count": 15,
   "id": "0b255a9c",
   "metadata": {
    "execution": {
     "iopub.execute_input": "2023-10-15T14:58:13.678857Z",
     "iopub.status.busy": "2023-10-15T14:58:13.677894Z",
     "iopub.status.idle": "2023-10-15T14:58:13.692502Z",
     "shell.execute_reply": "2023-10-15T14:58:13.691716Z"
    },
    "papermill": {
     "duration": 0.031024,
     "end_time": "2023-10-15T14:58:13.694627",
     "exception": false,
     "start_time": "2023-10-15T14:58:13.663603",
     "status": "completed"
    },
    "tags": []
   },
   "outputs": [],
   "source": [
    "# Replacing the negative values by positive values by reversing the signs for them.\n",
    "train_data.loc[train_data['trip_duration'] < 0,'trip_duration'] = train_data.loc[train_data['trip_duration'] < 0,'trip_duration']*(-1)\n",
    "\n",
    "# Repeating same for the test data values\n",
    "test_data.loc[test_data['trip_duration'] < 0,'trip_duration'] = test_data.loc[test_data['trip_duration'] < 0,'trip_duration']*(-1)"
   ]
  },
  {
   "cell_type": "code",
   "execution_count": 16,
   "id": "0a6933e7",
   "metadata": {
    "execution": {
     "iopub.execute_input": "2023-10-15T14:58:13.721232Z",
     "iopub.status.busy": "2023-10-15T14:58:13.720443Z",
     "iopub.status.idle": "2023-10-15T14:58:13.738223Z",
     "shell.execute_reply": "2023-10-15T14:58:13.737095Z"
    },
    "papermill": {
     "duration": 0.033255,
     "end_time": "2023-10-15T14:58:13.740170",
     "exception": false,
     "start_time": "2023-10-15T14:58:13.706915",
     "status": "completed"
    },
    "tags": []
   },
   "outputs": [
    {
     "data": {
      "text/plain": [
       "count    175000.000000\n",
       "mean         44.570096\n",
       "std          47.014730\n",
       "min           0.000000\n",
       "25%          17.800000\n",
       "50%          37.933333\n",
       "75%          64.250000\n",
       "max        1537.150000\n",
       "Name: trip_duration, dtype: float64"
      ]
     },
     "execution_count": 16,
     "metadata": {},
     "output_type": "execute_result"
    }
   ],
   "source": [
    "# Performing a quick check to see the transformations were ok\n",
    "train_data['trip_duration'].describe()"
   ]
  },
  {
   "cell_type": "code",
   "execution_count": 17,
   "id": "94fbbb86",
   "metadata": {
    "execution": {
     "iopub.execute_input": "2023-10-15T14:58:13.765834Z",
     "iopub.status.busy": "2023-10-15T14:58:13.765265Z",
     "iopub.status.idle": "2023-10-15T14:58:13.815513Z",
     "shell.execute_reply": "2023-10-15T14:58:13.814698Z"
    },
    "papermill": {
     "duration": 0.065556,
     "end_time": "2023-10-15T14:58:13.817639",
     "exception": false,
     "start_time": "2023-10-15T14:58:13.752083",
     "status": "completed"
    },
    "tags": []
   },
   "outputs": [],
   "source": [
    "# Extracting time of the day only the hour from datetime data for pickup and dropoff\n",
    "\n",
    "train_data['pick_time_of_day'] = train_data['tpep_pickup_datetime'].dt.hour\n",
    "train_data['drop_time_of_day'] = train_data['tpep_dropoff_datetime'].dt.hour\n",
    "\n",
    "# Performing same for test data\n",
    "test_data['pick_time_of_day'] = test_data['tpep_pickup_datetime'].dt.hour\n",
    "test_data['drop_time_of_day'] = test_data['tpep_dropoff_datetime'].dt.hour"
   ]
  },
  {
   "cell_type": "code",
   "execution_count": 18,
   "id": "53808ed6",
   "metadata": {
    "execution": {
     "iopub.execute_input": "2023-10-15T14:58:13.843242Z",
     "iopub.status.busy": "2023-10-15T14:58:13.842672Z",
     "iopub.status.idle": "2023-10-15T14:58:13.863187Z",
     "shell.execute_reply": "2023-10-15T14:58:13.862153Z"
    },
    "papermill": {
     "duration": 0.035999,
     "end_time": "2023-10-15T14:58:13.865678",
     "exception": false,
     "start_time": "2023-10-15T14:58:13.829679",
     "status": "completed"
    },
    "tags": []
   },
   "outputs": [
    {
     "data": {
      "text/html": [
       "<div>\n",
       "<style scoped>\n",
       "    .dataframe tbody tr th:only-of-type {\n",
       "        vertical-align: middle;\n",
       "    }\n",
       "\n",
       "    .dataframe tbody tr th {\n",
       "        vertical-align: top;\n",
       "    }\n",
       "\n",
       "    .dataframe thead th {\n",
       "        text-align: right;\n",
       "    }\n",
       "</style>\n",
       "<table border=\"1\" class=\"dataframe\">\n",
       "  <thead>\n",
       "    <tr style=\"text-align: right;\">\n",
       "      <th></th>\n",
       "      <th>VendorID</th>\n",
       "      <th>tpep_pickup_datetime</th>\n",
       "      <th>tpep_dropoff_datetime</th>\n",
       "      <th>passenger_count</th>\n",
       "      <th>trip_distance</th>\n",
       "      <th>RatecodeID</th>\n",
       "      <th>store_and_fwd_flag</th>\n",
       "      <th>PULocationID</th>\n",
       "      <th>DOLocationID</th>\n",
       "      <th>payment_type</th>\n",
       "      <th>extra</th>\n",
       "      <th>tip_amount</th>\n",
       "      <th>tolls_amount</th>\n",
       "      <th>improvement_surcharge</th>\n",
       "      <th>total_amount</th>\n",
       "      <th>congestion_surcharge</th>\n",
       "      <th>Airport_fee</th>\n",
       "      <th>trip_duration</th>\n",
       "      <th>pick_time_of_day</th>\n",
       "      <th>drop_time_of_day</th>\n",
       "    </tr>\n",
       "  </thead>\n",
       "  <tbody>\n",
       "    <tr>\n",
       "      <th>0</th>\n",
       "      <td>1</td>\n",
       "      <td>2023-06-28 17:20:21</td>\n",
       "      <td>2023-06-28 16:34:45</td>\n",
       "      <td>1.0</td>\n",
       "      <td>2.14</td>\n",
       "      <td>1.0</td>\n",
       "      <td>N</td>\n",
       "      <td>120</td>\n",
       "      <td>9</td>\n",
       "      <td>Credit Card</td>\n",
       "      <td>2.5</td>\n",
       "      <td>7.165589</td>\n",
       "      <td>0.0</td>\n",
       "      <td>1.0</td>\n",
       "      <td>20.64</td>\n",
       "      <td>2.5</td>\n",
       "      <td>0.0</td>\n",
       "      <td>45.600000</td>\n",
       "      <td>17</td>\n",
       "      <td>16</td>\n",
       "    </tr>\n",
       "    <tr>\n",
       "      <th>1</th>\n",
       "      <td>0</td>\n",
       "      <td>2023-06-29 23:05:01</td>\n",
       "      <td>2023-06-29 22:01:35</td>\n",
       "      <td>1.0</td>\n",
       "      <td>2.70</td>\n",
       "      <td>1.0</td>\n",
       "      <td>N</td>\n",
       "      <td>15</td>\n",
       "      <td>215</td>\n",
       "      <td>Credit Card</td>\n",
       "      <td>3.5</td>\n",
       "      <td>6.067401</td>\n",
       "      <td>0.0</td>\n",
       "      <td>1.0</td>\n",
       "      <td>25.55</td>\n",
       "      <td>2.5</td>\n",
       "      <td>0.0</td>\n",
       "      <td>63.433333</td>\n",
       "      <td>23</td>\n",
       "      <td>22</td>\n",
       "    </tr>\n",
       "    <tr>\n",
       "      <th>2</th>\n",
       "      <td>1</td>\n",
       "      <td>2023-06-30 10:19:31</td>\n",
       "      <td>2023-06-30 11:13:10</td>\n",
       "      <td>1.0</td>\n",
       "      <td>1.15</td>\n",
       "      <td>1.0</td>\n",
       "      <td>N</td>\n",
       "      <td>167</td>\n",
       "      <td>223</td>\n",
       "      <td>Credit Card</td>\n",
       "      <td>0.0</td>\n",
       "      <td>4.111547</td>\n",
       "      <td>0.0</td>\n",
       "      <td>1.0</td>\n",
       "      <td>17.64</td>\n",
       "      <td>2.5</td>\n",
       "      <td>0.0</td>\n",
       "      <td>53.650000</td>\n",
       "      <td>10</td>\n",
       "      <td>11</td>\n",
       "    </tr>\n",
       "    <tr>\n",
       "      <th>3</th>\n",
       "      <td>0</td>\n",
       "      <td>2023-06-29 13:23:09</td>\n",
       "      <td>2023-06-29 14:20:01</td>\n",
       "      <td>1.0</td>\n",
       "      <td>0.40</td>\n",
       "      <td>1.0</td>\n",
       "      <td>N</td>\n",
       "      <td>128</td>\n",
       "      <td>239</td>\n",
       "      <td>Credit Card</td>\n",
       "      <td>2.5</td>\n",
       "      <td>6.411079</td>\n",
       "      <td>0.0</td>\n",
       "      <td>1.0</td>\n",
       "      <td>12.80</td>\n",
       "      <td>2.5</td>\n",
       "      <td>0.0</td>\n",
       "      <td>56.866667</td>\n",
       "      <td>13</td>\n",
       "      <td>14</td>\n",
       "    </tr>\n",
       "    <tr>\n",
       "      <th>4</th>\n",
       "      <td>1</td>\n",
       "      <td>2023-06-29 22:03:32</td>\n",
       "      <td>2023-06-29 22:22:22</td>\n",
       "      <td>3.0</td>\n",
       "      <td>1.10</td>\n",
       "      <td>1.0</td>\n",
       "      <td>N</td>\n",
       "      <td>203</td>\n",
       "      <td>52</td>\n",
       "      <td>Credit Card</td>\n",
       "      <td>1.0</td>\n",
       "      <td>4.769377</td>\n",
       "      <td>0.0</td>\n",
       "      <td>1.0</td>\n",
       "      <td>18.00</td>\n",
       "      <td>2.5</td>\n",
       "      <td>0.0</td>\n",
       "      <td>18.833333</td>\n",
       "      <td>22</td>\n",
       "      <td>22</td>\n",
       "    </tr>\n",
       "  </tbody>\n",
       "</table>\n",
       "</div>"
      ],
      "text/plain": [
       "   VendorID tpep_pickup_datetime tpep_dropoff_datetime  passenger_count  \\\n",
       "0         1  2023-06-28 17:20:21   2023-06-28 16:34:45              1.0   \n",
       "1         0  2023-06-29 23:05:01   2023-06-29 22:01:35              1.0   \n",
       "2         1  2023-06-30 10:19:31   2023-06-30 11:13:10              1.0   \n",
       "3         0  2023-06-29 13:23:09   2023-06-29 14:20:01              1.0   \n",
       "4         1  2023-06-29 22:03:32   2023-06-29 22:22:22              3.0   \n",
       "\n",
       "   trip_distance  RatecodeID store_and_fwd_flag  PULocationID  DOLocationID  \\\n",
       "0           2.14         1.0                  N           120             9   \n",
       "1           2.70         1.0                  N            15           215   \n",
       "2           1.15         1.0                  N           167           223   \n",
       "3           0.40         1.0                  N           128           239   \n",
       "4           1.10         1.0                  N           203            52   \n",
       "\n",
       "  payment_type  extra  tip_amount  tolls_amount  improvement_surcharge  \\\n",
       "0  Credit Card    2.5    7.165589           0.0                    1.0   \n",
       "1  Credit Card    3.5    6.067401           0.0                    1.0   \n",
       "2  Credit Card    0.0    4.111547           0.0                    1.0   \n",
       "3  Credit Card    2.5    6.411079           0.0                    1.0   \n",
       "4  Credit Card    1.0    4.769377           0.0                    1.0   \n",
       "\n",
       "   total_amount  congestion_surcharge  Airport_fee  trip_duration  \\\n",
       "0         20.64                   2.5          0.0      45.600000   \n",
       "1         25.55                   2.5          0.0      63.433333   \n",
       "2         17.64                   2.5          0.0      53.650000   \n",
       "3         12.80                   2.5          0.0      56.866667   \n",
       "4         18.00                   2.5          0.0      18.833333   \n",
       "\n",
       "   pick_time_of_day  drop_time_of_day  \n",
       "0                17                16  \n",
       "1                23                22  \n",
       "2                10                11  \n",
       "3                13                14  \n",
       "4                22                22  "
      ]
     },
     "execution_count": 18,
     "metadata": {},
     "output_type": "execute_result"
    }
   ],
   "source": [
    "# Checking once again whether all the transformations worked fine\n",
    "train_data.head()"
   ]
  },
  {
   "cell_type": "code",
   "execution_count": 19,
   "id": "ba59dd92",
   "metadata": {
    "execution": {
     "iopub.execute_input": "2023-10-15T14:58:13.891999Z",
     "iopub.status.busy": "2023-10-15T14:58:13.891600Z",
     "iopub.status.idle": "2023-10-15T14:58:13.912696Z",
     "shell.execute_reply": "2023-10-15T14:58:13.911311Z"
    },
    "papermill": {
     "duration": 0.036756,
     "end_time": "2023-10-15T14:58:13.914860",
     "exception": false,
     "start_time": "2023-10-15T14:58:13.878104",
     "status": "completed"
    },
    "tags": []
   },
   "outputs": [
    {
     "data": {
      "text/html": [
       "<div>\n",
       "<style scoped>\n",
       "    .dataframe tbody tr th:only-of-type {\n",
       "        vertical-align: middle;\n",
       "    }\n",
       "\n",
       "    .dataframe tbody tr th {\n",
       "        vertical-align: top;\n",
       "    }\n",
       "\n",
       "    .dataframe thead th {\n",
       "        text-align: right;\n",
       "    }\n",
       "</style>\n",
       "<table border=\"1\" class=\"dataframe\">\n",
       "  <thead>\n",
       "    <tr style=\"text-align: right;\">\n",
       "      <th></th>\n",
       "      <th>VendorID</th>\n",
       "      <th>tpep_pickup_datetime</th>\n",
       "      <th>tpep_dropoff_datetime</th>\n",
       "      <th>passenger_count</th>\n",
       "      <th>trip_distance</th>\n",
       "      <th>RatecodeID</th>\n",
       "      <th>store_and_fwd_flag</th>\n",
       "      <th>PULocationID</th>\n",
       "      <th>DOLocationID</th>\n",
       "      <th>payment_type</th>\n",
       "      <th>extra</th>\n",
       "      <th>tip_amount</th>\n",
       "      <th>tolls_amount</th>\n",
       "      <th>improvement_surcharge</th>\n",
       "      <th>congestion_surcharge</th>\n",
       "      <th>Airport_fee</th>\n",
       "      <th>trip_duration</th>\n",
       "      <th>pick_time_of_day</th>\n",
       "      <th>drop_time_of_day</th>\n",
       "    </tr>\n",
       "  </thead>\n",
       "  <tbody>\n",
       "    <tr>\n",
       "      <th>0</th>\n",
       "      <td>1</td>\n",
       "      <td>2023-06-29 00:21:20</td>\n",
       "      <td>2023-06-29 00:25:20</td>\n",
       "      <td>1.0</td>\n",
       "      <td>4.95</td>\n",
       "      <td>1.0</td>\n",
       "      <td>N</td>\n",
       "      <td>20</td>\n",
       "      <td>3</td>\n",
       "      <td>Credit Card</td>\n",
       "      <td>1.0</td>\n",
       "      <td>6.067612</td>\n",
       "      <td>0.0</td>\n",
       "      <td>1.0</td>\n",
       "      <td>2.5</td>\n",
       "      <td>0.0</td>\n",
       "      <td>4.000000</td>\n",
       "      <td>0</td>\n",
       "      <td>0</td>\n",
       "    </tr>\n",
       "    <tr>\n",
       "      <th>1</th>\n",
       "      <td>1</td>\n",
       "      <td>2023-06-30 17:44:43</td>\n",
       "      <td>2023-06-30 17:53:13</td>\n",
       "      <td>1.0</td>\n",
       "      <td>2.10</td>\n",
       "      <td>1.0</td>\n",
       "      <td>N</td>\n",
       "      <td>9</td>\n",
       "      <td>81</td>\n",
       "      <td>Credit Card</td>\n",
       "      <td>2.5</td>\n",
       "      <td>6.191269</td>\n",
       "      <td>0.0</td>\n",
       "      <td>1.0</td>\n",
       "      <td>2.5</td>\n",
       "      <td>0.0</td>\n",
       "      <td>8.500000</td>\n",
       "      <td>17</td>\n",
       "      <td>17</td>\n",
       "    </tr>\n",
       "    <tr>\n",
       "      <th>2</th>\n",
       "      <td>1</td>\n",
       "      <td>2023-06-29 18:17:04</td>\n",
       "      <td>2023-06-29 19:23:48</td>\n",
       "      <td>1.0</td>\n",
       "      <td>0.95</td>\n",
       "      <td>1.0</td>\n",
       "      <td>N</td>\n",
       "      <td>92</td>\n",
       "      <td>90</td>\n",
       "      <td>Cash</td>\n",
       "      <td>2.5</td>\n",
       "      <td>3.983872</td>\n",
       "      <td>0.0</td>\n",
       "      <td>1.0</td>\n",
       "      <td>2.5</td>\n",
       "      <td>0.0</td>\n",
       "      <td>66.733333</td>\n",
       "      <td>18</td>\n",
       "      <td>19</td>\n",
       "    </tr>\n",
       "    <tr>\n",
       "      <th>3</th>\n",
       "      <td>0</td>\n",
       "      <td>2023-06-30 21:33:53</td>\n",
       "      <td>2023-06-30 21:46:20</td>\n",
       "      <td>1.0</td>\n",
       "      <td>0.80</td>\n",
       "      <td>1.0</td>\n",
       "      <td>N</td>\n",
       "      <td>19</td>\n",
       "      <td>102</td>\n",
       "      <td>Credit Card</td>\n",
       "      <td>3.5</td>\n",
       "      <td>6.839341</td>\n",
       "      <td>0.0</td>\n",
       "      <td>1.0</td>\n",
       "      <td>2.5</td>\n",
       "      <td>0.0</td>\n",
       "      <td>12.450000</td>\n",
       "      <td>21</td>\n",
       "      <td>21</td>\n",
       "    </tr>\n",
       "    <tr>\n",
       "      <th>4</th>\n",
       "      <td>1</td>\n",
       "      <td>2023-06-29 14:53:54</td>\n",
       "      <td>2023-06-29 15:22:17</td>\n",
       "      <td>1.0</td>\n",
       "      <td>4.01</td>\n",
       "      <td>1.0</td>\n",
       "      <td>N</td>\n",
       "      <td>131</td>\n",
       "      <td>229</td>\n",
       "      <td>Cash</td>\n",
       "      <td>0.0</td>\n",
       "      <td>1.468943</td>\n",
       "      <td>0.0</td>\n",
       "      <td>1.0</td>\n",
       "      <td>0.0</td>\n",
       "      <td>0.0</td>\n",
       "      <td>28.383333</td>\n",
       "      <td>14</td>\n",
       "      <td>15</td>\n",
       "    </tr>\n",
       "  </tbody>\n",
       "</table>\n",
       "</div>"
      ],
      "text/plain": [
       "   VendorID tpep_pickup_datetime tpep_dropoff_datetime  passenger_count  \\\n",
       "0         1  2023-06-29 00:21:20   2023-06-29 00:25:20              1.0   \n",
       "1         1  2023-06-30 17:44:43   2023-06-30 17:53:13              1.0   \n",
       "2         1  2023-06-29 18:17:04   2023-06-29 19:23:48              1.0   \n",
       "3         0  2023-06-30 21:33:53   2023-06-30 21:46:20              1.0   \n",
       "4         1  2023-06-29 14:53:54   2023-06-29 15:22:17              1.0   \n",
       "\n",
       "   trip_distance  RatecodeID store_and_fwd_flag  PULocationID  DOLocationID  \\\n",
       "0           4.95         1.0                  N            20             3   \n",
       "1           2.10         1.0                  N             9            81   \n",
       "2           0.95         1.0                  N            92            90   \n",
       "3           0.80         1.0                  N            19           102   \n",
       "4           4.01         1.0                  N           131           229   \n",
       "\n",
       "  payment_type  extra  tip_amount  tolls_amount  improvement_surcharge  \\\n",
       "0  Credit Card    1.0    6.067612           0.0                    1.0   \n",
       "1  Credit Card    2.5    6.191269           0.0                    1.0   \n",
       "2         Cash    2.5    3.983872           0.0                    1.0   \n",
       "3  Credit Card    3.5    6.839341           0.0                    1.0   \n",
       "4         Cash    0.0    1.468943           0.0                    1.0   \n",
       "\n",
       "   congestion_surcharge  Airport_fee  trip_duration  pick_time_of_day  \\\n",
       "0                   2.5          0.0       4.000000                 0   \n",
       "1                   2.5          0.0       8.500000                17   \n",
       "2                   2.5          0.0      66.733333                18   \n",
       "3                   2.5          0.0      12.450000                21   \n",
       "4                   0.0          0.0      28.383333                14   \n",
       "\n",
       "   drop_time_of_day  \n",
       "0                 0  \n",
       "1                17  \n",
       "2                19  \n",
       "3                21  \n",
       "4                15  "
      ]
     },
     "execution_count": 19,
     "metadata": {},
     "output_type": "execute_result"
    }
   ],
   "source": [
    "test_data.head()"
   ]
  },
  {
   "cell_type": "code",
   "execution_count": 20,
   "id": "a8b53110",
   "metadata": {
    "execution": {
     "iopub.execute_input": "2023-10-15T14:58:13.941347Z",
     "iopub.status.busy": "2023-10-15T14:58:13.940960Z",
     "iopub.status.idle": "2023-10-15T14:58:13.970589Z",
     "shell.execute_reply": "2023-10-15T14:58:13.969389Z"
    },
    "papermill": {
     "duration": 0.045724,
     "end_time": "2023-10-15T14:58:13.972964",
     "exception": false,
     "start_time": "2023-10-15T14:58:13.927240",
     "status": "completed"
    },
    "tags": []
   },
   "outputs": [
    {
     "data": {
      "text/html": [
       "<div>\n",
       "<style scoped>\n",
       "    .dataframe tbody tr th:only-of-type {\n",
       "        vertical-align: middle;\n",
       "    }\n",
       "\n",
       "    .dataframe tbody tr th {\n",
       "        vertical-align: top;\n",
       "    }\n",
       "\n",
       "    .dataframe thead th {\n",
       "        text-align: right;\n",
       "    }\n",
       "</style>\n",
       "<table border=\"1\" class=\"dataframe\">\n",
       "  <thead>\n",
       "    <tr style=\"text-align: right;\">\n",
       "      <th></th>\n",
       "      <th>VendorID</th>\n",
       "      <th>tpep_pickup_datetime</th>\n",
       "      <th>tpep_dropoff_datetime</th>\n",
       "      <th>passenger_count</th>\n",
       "      <th>trip_distance</th>\n",
       "      <th>RatecodeID</th>\n",
       "      <th>store_and_fwd_flag</th>\n",
       "      <th>PULocationID</th>\n",
       "      <th>DOLocationID</th>\n",
       "      <th>payment_type</th>\n",
       "      <th>...</th>\n",
       "      <th>tip_amount</th>\n",
       "      <th>tolls_amount</th>\n",
       "      <th>improvement_surcharge</th>\n",
       "      <th>total_amount</th>\n",
       "      <th>congestion_surcharge</th>\n",
       "      <th>Airport_fee</th>\n",
       "      <th>trip_duration</th>\n",
       "      <th>pick_time_of_day</th>\n",
       "      <th>drop_time_of_day</th>\n",
       "      <th>net_amount</th>\n",
       "    </tr>\n",
       "  </thead>\n",
       "  <tbody>\n",
       "    <tr>\n",
       "      <th>0</th>\n",
       "      <td>1</td>\n",
       "      <td>2023-06-28 17:20:21</td>\n",
       "      <td>2023-06-28 16:34:45</td>\n",
       "      <td>1.0</td>\n",
       "      <td>2.14</td>\n",
       "      <td>1.0</td>\n",
       "      <td>N</td>\n",
       "      <td>120</td>\n",
       "      <td>9</td>\n",
       "      <td>Credit Card</td>\n",
       "      <td>...</td>\n",
       "      <td>7.165589</td>\n",
       "      <td>0.0</td>\n",
       "      <td>1.0</td>\n",
       "      <td>20.64</td>\n",
       "      <td>2.5</td>\n",
       "      <td>0.0</td>\n",
       "      <td>45.600000</td>\n",
       "      <td>17</td>\n",
       "      <td>16</td>\n",
       "      <td>7.474411</td>\n",
       "    </tr>\n",
       "    <tr>\n",
       "      <th>1</th>\n",
       "      <td>0</td>\n",
       "      <td>2023-06-29 23:05:01</td>\n",
       "      <td>2023-06-29 22:01:35</td>\n",
       "      <td>1.0</td>\n",
       "      <td>2.70</td>\n",
       "      <td>1.0</td>\n",
       "      <td>N</td>\n",
       "      <td>15</td>\n",
       "      <td>215</td>\n",
       "      <td>Credit Card</td>\n",
       "      <td>...</td>\n",
       "      <td>6.067401</td>\n",
       "      <td>0.0</td>\n",
       "      <td>1.0</td>\n",
       "      <td>25.55</td>\n",
       "      <td>2.5</td>\n",
       "      <td>0.0</td>\n",
       "      <td>63.433333</td>\n",
       "      <td>23</td>\n",
       "      <td>22</td>\n",
       "      <td>12.482599</td>\n",
       "    </tr>\n",
       "    <tr>\n",
       "      <th>2</th>\n",
       "      <td>1</td>\n",
       "      <td>2023-06-30 10:19:31</td>\n",
       "      <td>2023-06-30 11:13:10</td>\n",
       "      <td>1.0</td>\n",
       "      <td>1.15</td>\n",
       "      <td>1.0</td>\n",
       "      <td>N</td>\n",
       "      <td>167</td>\n",
       "      <td>223</td>\n",
       "      <td>Credit Card</td>\n",
       "      <td>...</td>\n",
       "      <td>4.111547</td>\n",
       "      <td>0.0</td>\n",
       "      <td>1.0</td>\n",
       "      <td>17.64</td>\n",
       "      <td>2.5</td>\n",
       "      <td>0.0</td>\n",
       "      <td>53.650000</td>\n",
       "      <td>10</td>\n",
       "      <td>11</td>\n",
       "      <td>10.028453</td>\n",
       "    </tr>\n",
       "    <tr>\n",
       "      <th>3</th>\n",
       "      <td>0</td>\n",
       "      <td>2023-06-29 13:23:09</td>\n",
       "      <td>2023-06-29 14:20:01</td>\n",
       "      <td>1.0</td>\n",
       "      <td>0.40</td>\n",
       "      <td>1.0</td>\n",
       "      <td>N</td>\n",
       "      <td>128</td>\n",
       "      <td>239</td>\n",
       "      <td>Credit Card</td>\n",
       "      <td>...</td>\n",
       "      <td>6.411079</td>\n",
       "      <td>0.0</td>\n",
       "      <td>1.0</td>\n",
       "      <td>12.80</td>\n",
       "      <td>2.5</td>\n",
       "      <td>0.0</td>\n",
       "      <td>56.866667</td>\n",
       "      <td>13</td>\n",
       "      <td>14</td>\n",
       "      <td>0.388921</td>\n",
       "    </tr>\n",
       "    <tr>\n",
       "      <th>4</th>\n",
       "      <td>1</td>\n",
       "      <td>2023-06-29 22:03:32</td>\n",
       "      <td>2023-06-29 22:22:22</td>\n",
       "      <td>3.0</td>\n",
       "      <td>1.10</td>\n",
       "      <td>1.0</td>\n",
       "      <td>N</td>\n",
       "      <td>203</td>\n",
       "      <td>52</td>\n",
       "      <td>Credit Card</td>\n",
       "      <td>...</td>\n",
       "      <td>4.769377</td>\n",
       "      <td>0.0</td>\n",
       "      <td>1.0</td>\n",
       "      <td>18.00</td>\n",
       "      <td>2.5</td>\n",
       "      <td>0.0</td>\n",
       "      <td>18.833333</td>\n",
       "      <td>22</td>\n",
       "      <td>22</td>\n",
       "      <td>8.730623</td>\n",
       "    </tr>\n",
       "  </tbody>\n",
       "</table>\n",
       "<p>5 rows × 21 columns</p>\n",
       "</div>"
      ],
      "text/plain": [
       "   VendorID tpep_pickup_datetime tpep_dropoff_datetime  passenger_count  \\\n",
       "0         1  2023-06-28 17:20:21   2023-06-28 16:34:45              1.0   \n",
       "1         0  2023-06-29 23:05:01   2023-06-29 22:01:35              1.0   \n",
       "2         1  2023-06-30 10:19:31   2023-06-30 11:13:10              1.0   \n",
       "3         0  2023-06-29 13:23:09   2023-06-29 14:20:01              1.0   \n",
       "4         1  2023-06-29 22:03:32   2023-06-29 22:22:22              3.0   \n",
       "\n",
       "   trip_distance  RatecodeID store_and_fwd_flag  PULocationID  DOLocationID  \\\n",
       "0           2.14         1.0                  N           120             9   \n",
       "1           2.70         1.0                  N            15           215   \n",
       "2           1.15         1.0                  N           167           223   \n",
       "3           0.40         1.0                  N           128           239   \n",
       "4           1.10         1.0                  N           203            52   \n",
       "\n",
       "  payment_type  ...  tip_amount  tolls_amount  improvement_surcharge  \\\n",
       "0  Credit Card  ...    7.165589           0.0                    1.0   \n",
       "1  Credit Card  ...    6.067401           0.0                    1.0   \n",
       "2  Credit Card  ...    4.111547           0.0                    1.0   \n",
       "3  Credit Card  ...    6.411079           0.0                    1.0   \n",
       "4  Credit Card  ...    4.769377           0.0                    1.0   \n",
       "\n",
       "   total_amount  congestion_surcharge  Airport_fee  trip_duration  \\\n",
       "0         20.64                   2.5          0.0      45.600000   \n",
       "1         25.55                   2.5          0.0      63.433333   \n",
       "2         17.64                   2.5          0.0      53.650000   \n",
       "3         12.80                   2.5          0.0      56.866667   \n",
       "4         18.00                   2.5          0.0      18.833333   \n",
       "\n",
       "   pick_time_of_day  drop_time_of_day  net_amount  \n",
       "0                17                16    7.474411  \n",
       "1                23                22   12.482599  \n",
       "2                10                11   10.028453  \n",
       "3                13                14    0.388921  \n",
       "4                22                22    8.730623  \n",
       "\n",
       "[5 rows x 21 columns]"
      ]
     },
     "execution_count": 20,
     "metadata": {},
     "output_type": "execute_result"
    }
   ],
   "source": [
    "# Since there are seperate amounts also mentioned we will calculate and keep net_amount = total_amount -extra -tip_amount -tolls_amount -improvement_surcharge -congestion_surcharge -Airport_fee\n",
    "\n",
    "train_data['net_amount'] = train_data['total_amount']-train_data['extra']-train_data['tip_amount']-train_data['tolls_amount']-train_data['improvement_surcharge']-train_data['congestion_surcharge']-train_data['Airport_fee']\n",
    "train_data.head()"
   ]
  },
  {
   "cell_type": "code",
   "execution_count": 21,
   "id": "a9c482a7",
   "metadata": {
    "execution": {
     "iopub.execute_input": "2023-10-15T14:58:14.002907Z",
     "iopub.status.busy": "2023-10-15T14:58:14.001609Z",
     "iopub.status.idle": "2023-10-15T14:58:14.006753Z",
     "shell.execute_reply": "2023-10-15T14:58:14.006032Z"
    },
    "papermill": {
     "duration": 0.022864,
     "end_time": "2023-10-15T14:58:14.008744",
     "exception": false,
     "start_time": "2023-10-15T14:58:13.985880",
     "status": "completed"
    },
    "tags": []
   },
   "outputs": [],
   "source": [
    "# test_data['net_amount'] = train_data['total_amount']-train_data['extra']-train_data['tip_amount']-train_data['tolls_amount']-train_data['improvement_surcharge']-train_data['congestion_surcharge']-train_data['Airport_fee']\n",
    "# train_data.head()"
   ]
  },
  {
   "cell_type": "code",
   "execution_count": 22,
   "id": "064b9c63",
   "metadata": {
    "execution": {
     "iopub.execute_input": "2023-10-15T14:58:14.037512Z",
     "iopub.status.busy": "2023-10-15T14:58:14.036502Z",
     "iopub.status.idle": "2023-10-15T14:58:14.158109Z",
     "shell.execute_reply": "2023-10-15T14:58:14.157069Z"
    },
    "papermill": {
     "duration": 0.138555,
     "end_time": "2023-10-15T14:58:14.160279",
     "exception": false,
     "start_time": "2023-10-15T14:58:14.021724",
     "status": "completed"
    },
    "tags": []
   },
   "outputs": [
    {
     "data": {
      "text/plain": [
       "([array(['N', 'Y', nan], dtype=object)],\n",
       " [array(['Cash', 'Credit Card', 'UPI', 'Wallet', 'unknown'], dtype=object)],\n",
       " [array(['N', 'Y', nan], dtype=object)],\n",
       " [array(['Cash', 'Credit Card', 'UPI', 'Wallet', 'unknown'], dtype=object)])"
      ]
     },
     "execution_count": 22,
     "metadata": {},
     "output_type": "execute_result"
    }
   ],
   "source": [
    "# We will need to convert the labels to numerical before we can use KNN imputer\n",
    "from sklearn.preprocessing import OrdinalEncoder\n",
    "oe_1 = OrdinalEncoder()\n",
    "oe_2 = OrdinalEncoder()\n",
    "oe_3 = OrdinalEncoder()\n",
    "oe_4 = OrdinalEncoder()\n",
    "train_data['store_and_fwd_flag'] = oe_1.fit_transform(train_data['store_and_fwd_flag'].values.reshape(-1,1))\n",
    "train_data['store_and_fwd_flag'].unique()\n",
    "\n",
    "train_data['payment_type'] = oe_2.fit_transform(train_data['payment_type'].values.reshape(-1,1))\n",
    "\n",
    "test_data['store_and_fwd_flag'] = oe_3.fit_transform(test_data['store_and_fwd_flag'].values.reshape(-1,1))\n",
    "test_data['store_and_fwd_flag'].unique()\n",
    "\n",
    "test_data['payment_type'] = oe_4.fit_transform(test_data['payment_type'].values.reshape(-1,1))\n",
    "train_data['store_and_fwd_flag'].unique(),train_data['payment_type'].unique(),test_data['store_and_fwd_flag'].unique(),test_data['payment_type'].unique()\n",
    "oe_1.categories_,oe_2.categories_,oe_3.categories_,oe_4.categories_"
   ]
  },
  {
   "cell_type": "code",
   "execution_count": 23,
   "id": "eca7f270",
   "metadata": {
    "execution": {
     "iopub.execute_input": "2023-10-15T14:58:14.187580Z",
     "iopub.status.busy": "2023-10-15T14:58:14.187225Z",
     "iopub.status.idle": "2023-10-15T14:58:14.206732Z",
     "shell.execute_reply": "2023-10-15T14:58:14.205642Z"
    },
    "papermill": {
     "duration": 0.036063,
     "end_time": "2023-10-15T14:58:14.209109",
     "exception": false,
     "start_time": "2023-10-15T14:58:14.173046",
     "status": "completed"
    },
    "tags": []
   },
   "outputs": [
    {
     "name": "stdout",
     "output_type": "stream",
     "text": [
      "<class 'pandas.core.frame.DataFrame'>\n",
      "RangeIndex: 175000 entries, 0 to 174999\n",
      "Data columns (total 21 columns):\n",
      " #   Column                 Non-Null Count   Dtype         \n",
      "---  ------                 --------------   -----         \n",
      " 0   VendorID               175000 non-null  int64         \n",
      " 1   tpep_pickup_datetime   175000 non-null  datetime64[ns]\n",
      " 2   tpep_dropoff_datetime  175000 non-null  datetime64[ns]\n",
      " 3   passenger_count        168923 non-null  float64       \n",
      " 4   trip_distance          175000 non-null  float64       \n",
      " 5   RatecodeID             168923 non-null  float64       \n",
      " 6   store_and_fwd_flag     168923 non-null  float64       \n",
      " 7   PULocationID           175000 non-null  int64         \n",
      " 8   DOLocationID           175000 non-null  int64         \n",
      " 9   payment_type           175000 non-null  float64       \n",
      " 10  extra                  175000 non-null  float64       \n",
      " 11  tip_amount             175000 non-null  float64       \n",
      " 12  tolls_amount           175000 non-null  float64       \n",
      " 13  improvement_surcharge  175000 non-null  float64       \n",
      " 14  total_amount           175000 non-null  float64       \n",
      " 15  congestion_surcharge   168923 non-null  float64       \n",
      " 16  Airport_fee            168923 non-null  float64       \n",
      " 17  trip_duration          175000 non-null  float64       \n",
      " 18  pick_time_of_day       175000 non-null  int32         \n",
      " 19  drop_time_of_day       175000 non-null  int32         \n",
      " 20  net_amount             168923 non-null  float64       \n",
      "dtypes: datetime64[ns](2), float64(14), int32(2), int64(3)\n",
      "memory usage: 26.7 MB\n"
     ]
    }
   ],
   "source": [
    "train_data.info()"
   ]
  },
  {
   "cell_type": "markdown",
   "id": "a23cf4be",
   "metadata": {
    "papermill": {
     "duration": 0.012812,
     "end_time": "2023-10-15T14:58:14.235139",
     "exception": false,
     "start_time": "2023-10-15T14:58:14.222327",
     "status": "completed"
    },
    "tags": []
   },
   "source": [
    "## Some more Graphs to understand calculated fields"
   ]
  },
  {
   "cell_type": "code",
   "execution_count": null,
   "id": "3bf1cd50",
   "metadata": {
    "papermill": {
     "duration": 0.012662,
     "end_time": "2023-10-15T14:58:14.260972",
     "exception": false,
     "start_time": "2023-10-15T14:58:14.248310",
     "status": "completed"
    },
    "tags": []
   },
   "outputs": [],
   "source": []
  },
  {
   "cell_type": "markdown",
   "id": "203c49ab",
   "metadata": {
    "papermill": {
     "duration": 0.012464,
     "end_time": "2023-10-15T14:58:14.286274",
     "exception": false,
     "start_time": "2023-10-15T14:58:14.273810",
     "status": "completed"
    },
    "tags": []
   },
   "source": [
    "## Missing Value Treatment"
   ]
  },
  {
   "cell_type": "code",
   "execution_count": 24,
   "id": "2a1c7a64",
   "metadata": {
    "execution": {
     "iopub.execute_input": "2023-10-15T14:58:14.313178Z",
     "iopub.status.busy": "2023-10-15T14:58:14.312794Z",
     "iopub.status.idle": "2023-10-15T15:02:06.711798Z",
     "shell.execute_reply": "2023-10-15T15:02:06.710644Z"
    },
    "papermill": {
     "duration": 232.428438,
     "end_time": "2023-10-15T15:02:06.727382",
     "exception": false,
     "start_time": "2023-10-15T14:58:14.298944",
     "status": "completed"
    },
    "tags": []
   },
   "outputs": [
    {
     "data": {
      "text/plain": [
       "array([[ 1.        ,  1.        ,  2.14      , ..., 17.        ,\n",
       "        16.        ,  7.47441139],\n",
       "       [ 0.        ,  1.        ,  2.7       , ..., 23.        ,\n",
       "        22.        , 12.4825992 ],\n",
       "       [ 1.        ,  1.        ,  1.15      , ..., 10.        ,\n",
       "        11.        , 10.02845251],\n",
       "       ...,\n",
       "       [ 0.        ,  1.        ,  2.4       , ..., 11.        ,\n",
       "        12.        , 23.25464613],\n",
       "       [ 1.        ,  1.        ,  4.71      , ..., 19.        ,\n",
       "        19.        , 24.32022368],\n",
       "       [ 1.        ,  1.        ,  1.01      , ..., 21.        ,\n",
       "        22.        ,  5.27830122]])"
      ]
     },
     "execution_count": 24,
     "metadata": {},
     "output_type": "execute_result"
    }
   ],
   "source": [
    "# Using KNNImputer to fill in the filling missing values with n_neighbors = 5\n",
    "\n",
    "imputer_1 = KNNImputer(n_neighbors=5)\n",
    "train_data_knn = imputer_1.fit_transform(train_data.drop(['tpep_pickup_datetime','tpep_dropoff_datetime'],axis=1))\n",
    "train_data_knn"
   ]
  },
  {
   "cell_type": "code",
   "execution_count": 25,
   "id": "05392e56",
   "metadata": {
    "execution": {
     "iopub.execute_input": "2023-10-15T15:02:06.757031Z",
     "iopub.status.busy": "2023-10-15T15:02:06.756638Z",
     "iopub.status.idle": "2023-10-15T15:02:21.941855Z",
     "shell.execute_reply": "2023-10-15T15:02:21.940731Z"
    },
    "papermill": {
     "duration": 15.202965,
     "end_time": "2023-10-15T15:02:21.944053",
     "exception": false,
     "start_time": "2023-10-15T15:02:06.741088",
     "status": "completed"
    },
    "tags": []
   },
   "outputs": [
    {
     "data": {
      "text/plain": [
       "array([[ 1.        ,  1.        ,  4.95      , ...,  4.        ,\n",
       "         0.        ,  0.        ],\n",
       "       [ 1.        ,  1.        ,  2.1       , ...,  8.5       ,\n",
       "        17.        , 17.        ],\n",
       "       [ 1.        ,  1.        ,  0.95      , ..., 66.73333333,\n",
       "        18.        , 19.        ],\n",
       "       ...,\n",
       "       [ 1.        ,  1.        ,  1.92      , ..., 39.11666667,\n",
       "        22.        , 21.        ],\n",
       "       [ 0.        ,  1.        ,  5.4       , ..., 26.75      ,\n",
       "         2.        ,  2.        ],\n",
       "       [ 1.        ,  1.        ,  1.31      , ..., 49.98333333,\n",
       "        18.        , 17.        ]])"
      ]
     },
     "execution_count": 25,
     "metadata": {},
     "output_type": "execute_result"
    }
   ],
   "source": [
    "# Using KNNImputer to fill in the filling missing values with n_neighbors = 5\n",
    "imputer_2 = KNNImputer(n_neighbors=5)\n",
    "test_data_knn = imputer_2.fit_transform(test_data.drop(['tpep_pickup_datetime','tpep_dropoff_datetime'],axis=1))\n",
    "test_data_knn"
   ]
  },
  {
   "cell_type": "code",
   "execution_count": 26,
   "id": "c449a42e",
   "metadata": {
    "execution": {
     "iopub.execute_input": "2023-10-15T15:02:21.972163Z",
     "iopub.status.busy": "2023-10-15T15:02:21.971796Z",
     "iopub.status.idle": "2023-10-15T15:02:22.008058Z",
     "shell.execute_reply": "2023-10-15T15:02:22.006750Z"
    },
    "papermill": {
     "duration": 0.052678,
     "end_time": "2023-10-15T15:02:22.010082",
     "exception": false,
     "start_time": "2023-10-15T15:02:21.957404",
     "status": "completed"
    },
    "tags": []
   },
   "outputs": [
    {
     "name": "stdout",
     "output_type": "stream",
     "text": [
      "<class 'pandas.core.frame.DataFrame'>\n",
      "RangeIndex: 175000 entries, 0 to 174999\n",
      "Data columns (total 19 columns):\n",
      " #   Column                 Non-Null Count   Dtype  \n",
      "---  ------                 --------------   -----  \n",
      " 0   VendorID               175000 non-null  float64\n",
      " 1   passenger_count        175000 non-null  float64\n",
      " 2   trip_distance          175000 non-null  float64\n",
      " 3   RatecodeID             175000 non-null  float64\n",
      " 4   store_and_fwd_flag     175000 non-null  float64\n",
      " 5   PULocationID           175000 non-null  float64\n",
      " 6   DOLocationID           175000 non-null  float64\n",
      " 7   payment_type           175000 non-null  float64\n",
      " 8   extra                  175000 non-null  float64\n",
      " 9   tip_amount             175000 non-null  float64\n",
      " 10  tolls_amount           175000 non-null  float64\n",
      " 11  improvement_surcharge  175000 non-null  float64\n",
      " 12  total_amount           175000 non-null  float64\n",
      " 13  congestion_surcharge   175000 non-null  float64\n",
      " 14  Airport_fee            175000 non-null  float64\n",
      " 15  trip_duration          175000 non-null  float64\n",
      " 16  pick_time_of_day       175000 non-null  float64\n",
      " 17  drop_time_of_day       175000 non-null  float64\n",
      " 18  net_amount             175000 non-null  float64\n",
      "dtypes: float64(19)\n",
      "memory usage: 25.4 MB\n"
     ]
    }
   ],
   "source": [
    "# creating a dataframe back from the output of the KNNImputer\n",
    "train_data_copy = train_data.drop(['tpep_pickup_datetime','tpep_dropoff_datetime'],axis=1)\n",
    "train_data_copy.iloc[:,:] = pd.DataFrame(train_data_knn)\n",
    "train_data_copy.info()"
   ]
  },
  {
   "cell_type": "code",
   "execution_count": 27,
   "id": "2cb3441f",
   "metadata": {
    "execution": {
     "iopub.execute_input": "2023-10-15T15:02:22.039068Z",
     "iopub.status.busy": "2023-10-15T15:02:22.038245Z",
     "iopub.status.idle": "2023-10-15T15:02:22.059674Z",
     "shell.execute_reply": "2023-10-15T15:02:22.058981Z"
    },
    "papermill": {
     "duration": 0.038177,
     "end_time": "2023-10-15T15:02:22.061752",
     "exception": false,
     "start_time": "2023-10-15T15:02:22.023575",
     "status": "completed"
    },
    "tags": []
   },
   "outputs": [
    {
     "name": "stdout",
     "output_type": "stream",
     "text": [
      "<class 'pandas.core.frame.DataFrame'>\n",
      "RangeIndex: 50000 entries, 0 to 49999\n",
      "Data columns (total 17 columns):\n",
      " #   Column                 Non-Null Count  Dtype  \n",
      "---  ------                 --------------  -----  \n",
      " 0   VendorID               50000 non-null  float64\n",
      " 1   passenger_count        50000 non-null  float64\n",
      " 2   trip_distance          50000 non-null  float64\n",
      " 3   RatecodeID             50000 non-null  float64\n",
      " 4   store_and_fwd_flag     50000 non-null  float64\n",
      " 5   PULocationID           50000 non-null  float64\n",
      " 6   DOLocationID           50000 non-null  float64\n",
      " 7   payment_type           50000 non-null  float64\n",
      " 8   extra                  50000 non-null  float64\n",
      " 9   tip_amount             50000 non-null  float64\n",
      " 10  tolls_amount           50000 non-null  float64\n",
      " 11  improvement_surcharge  50000 non-null  float64\n",
      " 12  congestion_surcharge   50000 non-null  float64\n",
      " 13  Airport_fee            50000 non-null  float64\n",
      " 14  trip_duration          50000 non-null  float64\n",
      " 15  pick_time_of_day       50000 non-null  float64\n",
      " 16  drop_time_of_day       50000 non-null  float64\n",
      "dtypes: float64(17)\n",
      "memory usage: 6.5 MB\n"
     ]
    }
   ],
   "source": [
    "# creating a dataframe back from the output of the KNNImputer\n",
    "test_data_copy = test_data.drop(['tpep_pickup_datetime','tpep_dropoff_datetime'],axis=1)\n",
    "test_data_copy.iloc[:,:] = pd.DataFrame(test_data_knn)\n",
    "test_data_copy.info()"
   ]
  },
  {
   "cell_type": "markdown",
   "id": "dab72b55",
   "metadata": {
    "papermill": {
     "duration": 0.013964,
     "end_time": "2023-10-15T15:02:22.089623",
     "exception": false,
     "start_time": "2023-10-15T15:02:22.075659",
     "status": "completed"
    },
    "tags": []
   },
   "source": [
    "## Find and Treat Outliers"
   ]
  },
  {
   "cell_type": "code",
   "execution_count": null,
   "id": "6390af47",
   "metadata": {
    "papermill": {
     "duration": 0.014214,
     "end_time": "2023-10-15T15:02:22.117454",
     "exception": false,
     "start_time": "2023-10-15T15:02:22.103240",
     "status": "completed"
    },
    "tags": []
   },
   "outputs": [],
   "source": []
  },
  {
   "cell_type": "code",
   "execution_count": null,
   "id": "83a87f70",
   "metadata": {
    "papermill": {
     "duration": 0.013168,
     "end_time": "2023-10-15T15:02:22.144284",
     "exception": false,
     "start_time": "2023-10-15T15:02:22.131116",
     "status": "completed"
    },
    "tags": []
   },
   "outputs": [],
   "source": []
  },
  {
   "cell_type": "code",
   "execution_count": null,
   "id": "c05e8039",
   "metadata": {
    "papermill": {
     "duration": 0.01315,
     "end_time": "2023-10-15T15:02:22.170718",
     "exception": false,
     "start_time": "2023-10-15T15:02:22.157568",
     "status": "completed"
    },
    "tags": []
   },
   "outputs": [],
   "source": []
  },
  {
   "cell_type": "markdown",
   "id": "873efd2f",
   "metadata": {
    "papermill": {
     "duration": 0.012962,
     "end_time": "2023-10-15T15:02:22.196912",
     "exception": false,
     "start_time": "2023-10-15T15:02:22.183950",
     "status": "completed"
    },
    "tags": []
   },
   "source": [
    "## Scaling Features"
   ]
  },
  {
   "cell_type": "code",
   "execution_count": null,
   "id": "e18fa5a6",
   "metadata": {
    "papermill": {
     "duration": 0.013277,
     "end_time": "2023-10-15T15:02:22.223996",
     "exception": false,
     "start_time": "2023-10-15T15:02:22.210719",
     "status": "completed"
    },
    "tags": []
   },
   "outputs": [],
   "source": []
  },
  {
   "cell_type": "markdown",
   "id": "0487194a",
   "metadata": {
    "papermill": {
     "duration": 0.013174,
     "end_time": "2023-10-15T15:02:22.250633",
     "exception": false,
     "start_time": "2023-10-15T15:02:22.237459",
     "status": "completed"
    },
    "tags": []
   },
   "source": [
    "## Splitting the train_data"
   ]
  },
  {
   "cell_type": "code",
   "execution_count": 28,
   "id": "095c2127",
   "metadata": {
    "execution": {
     "iopub.execute_input": "2023-10-15T15:02:22.279372Z",
     "iopub.status.busy": "2023-10-15T15:02:22.278628Z",
     "iopub.status.idle": "2023-10-15T15:02:22.294849Z",
     "shell.execute_reply": "2023-10-15T15:02:22.293577Z"
    },
    "papermill": {
     "duration": 0.033186,
     "end_time": "2023-10-15T15:02:22.297184",
     "exception": false,
     "start_time": "2023-10-15T15:02:22.263998",
     "status": "completed"
    },
    "tags": []
   },
   "outputs": [],
   "source": [
    "X = train_data_copy.drop(['total_amount','net_amount'],axis=1)\n",
    "y = train_data_copy['total_amount']"
   ]
  },
  {
   "cell_type": "code",
   "execution_count": 29,
   "id": "7d12b2a2",
   "metadata": {
    "execution": {
     "iopub.execute_input": "2023-10-15T15:02:22.325648Z",
     "iopub.status.busy": "2023-10-15T15:02:22.325278Z",
     "iopub.status.idle": "2023-10-15T15:02:22.389941Z",
     "shell.execute_reply": "2023-10-15T15:02:22.388711Z"
    },
    "papermill": {
     "duration": 0.081774,
     "end_time": "2023-10-15T15:02:22.392484",
     "exception": false,
     "start_time": "2023-10-15T15:02:22.310710",
     "status": "completed"
    },
    "tags": []
   },
   "outputs": [],
   "source": [
    "# splitting the data for training and testing\n",
    "from sklearn.model_selection import train_test_split\n",
    "\n",
    "X_train, X_test, y_train, y_test = train_test_split(X, y, test_size=0.2, random_state=42)"
   ]
  },
  {
   "cell_type": "code",
   "execution_count": null,
   "id": "4450a9e6",
   "metadata": {
    "papermill": {
     "duration": 0.013118,
     "end_time": "2023-10-15T15:02:22.419349",
     "exception": false,
     "start_time": "2023-10-15T15:02:22.406231",
     "status": "completed"
    },
    "tags": []
   },
   "outputs": [],
   "source": []
  },
  {
   "cell_type": "markdown",
   "id": "2bbc78a0",
   "metadata": {
    "papermill": {
     "duration": 0.013665,
     "end_time": "2023-10-15T15:02:22.447193",
     "exception": false,
     "start_time": "2023-10-15T15:02:22.433528",
     "status": "completed"
    },
    "tags": []
   },
   "source": [
    "## Model Building\n",
    "### Linear Model"
   ]
  },
  {
   "cell_type": "code",
   "execution_count": 30,
   "id": "40ea1151",
   "metadata": {
    "execution": {
     "iopub.execute_input": "2023-10-15T15:02:22.477096Z",
     "iopub.status.busy": "2023-10-15T15:02:22.476018Z",
     "iopub.status.idle": "2023-10-15T15:02:22.491999Z",
     "shell.execute_reply": "2023-10-15T15:02:22.490866Z"
    },
    "papermill": {
     "duration": 0.033039,
     "end_time": "2023-10-15T15:02:22.494102",
     "exception": false,
     "start_time": "2023-10-15T15:02:22.461063",
     "status": "completed"
    },
    "tags": []
   },
   "outputs": [
    {
     "data": {
      "text/plain": [
       "-3.7584352301278656e-05"
      ]
     },
     "execution_count": 30,
     "metadata": {},
     "output_type": "execute_result"
    }
   ],
   "source": [
    "# first base model using DummyRegressor\n",
    "from sklearn.dummy import DummyRegressor\n",
    "\n",
    "dummy_regr = DummyRegressor(strategy=\"mean\")\n",
    "dummy_regr.fit(X_train,y_train)\n",
    "dummy_regr.predict(X_test)\n",
    "dummy_regr.score(X_test,y_test)"
   ]
  },
  {
   "cell_type": "code",
   "execution_count": 31,
   "id": "486cb0f1",
   "metadata": {
    "execution": {
     "iopub.execute_input": "2023-10-15T15:02:22.523388Z",
     "iopub.status.busy": "2023-10-15T15:02:22.522999Z",
     "iopub.status.idle": "2023-10-15T15:02:22.683183Z",
     "shell.execute_reply": "2023-10-15T15:02:22.681723Z"
    },
    "papermill": {
     "duration": 0.178806,
     "end_time": "2023-10-15T15:02:22.686955",
     "exception": false,
     "start_time": "2023-10-15T15:02:22.508149",
     "status": "completed"
    },
    "tags": []
   },
   "outputs": [
    {
     "data": {
      "text/plain": [
       "0.7193851055621647"
      ]
     },
     "execution_count": 31,
     "metadata": {},
     "output_type": "execute_result"
    }
   ],
   "source": [
    "from sklearn.linear_model import LinearRegression\n",
    "linear_regressor = LinearRegression()\n",
    "linear_regressor.fit(X_train,y_train)\n",
    "linear_regressor.predict(X_test)\n",
    "linear_regressor.score(X_test,y_test)"
   ]
  },
  {
   "cell_type": "code",
   "execution_count": 32,
   "id": "c37ae7b2",
   "metadata": {
    "execution": {
     "iopub.execute_input": "2023-10-15T15:02:22.804264Z",
     "iopub.status.busy": "2023-10-15T15:02:22.803879Z",
     "iopub.status.idle": "2023-10-15T15:02:22.810633Z",
     "shell.execute_reply": "2023-10-15T15:02:22.809619Z"
    },
    "papermill": {
     "duration": 0.042065,
     "end_time": "2023-10-15T15:02:22.812629",
     "exception": false,
     "start_time": "2023-10-15T15:02:22.770564",
     "status": "completed"
    },
    "tags": []
   },
   "outputs": [
    {
     "data": {
      "text/plain": [
       "array([ 4.11650484e-01,  5.16776915e-01, -2.07510686e-05,  1.07430184e-01,\n",
       "        4.26869127e-01,  7.09569131e-04, -5.86185654e-05, -8.58386694e-01,\n",
       "       -2.29322757e-01,  2.00911091e+00,  4.37631886e+00,  2.52041895e+01,\n",
       "       -2.73712367e+00,  1.29186246e+01,  1.95993921e-02,  4.42266997e-02,\n",
       "        8.75746217e-03])"
      ]
     },
     "execution_count": 32,
     "metadata": {},
     "output_type": "execute_result"
    }
   ],
   "source": [
    "linear_regressor.coef_"
   ]
  },
  {
   "cell_type": "code",
   "execution_count": 33,
   "id": "57f3faa5",
   "metadata": {
    "execution": {
     "iopub.execute_input": "2023-10-15T15:02:22.843377Z",
     "iopub.status.busy": "2023-10-15T15:02:22.842630Z",
     "iopub.status.idle": "2023-10-15T15:02:23.051271Z",
     "shell.execute_reply": "2023-10-15T15:02:23.050304Z"
    },
    "papermill": {
     "duration": 0.22613,
     "end_time": "2023-10-15T15:02:23.053593",
     "exception": false,
     "start_time": "2023-10-15T15:02:22.827463",
     "status": "completed"
    },
    "tags": []
   },
   "outputs": [],
   "source": [
    "submission = linear_regressor.predict(test_data_copy)\n",
    "my_submission = pd.DataFrame({'ID': range(1,50001), 'total_amount': submission})\n",
    "# you could use any filename. We choose submission here\n",
    "my_submission.to_csv('submission.csv', index=False)"
   ]
  },
  {
   "cell_type": "markdown",
   "id": "bc30e254",
   "metadata": {
    "papermill": {
     "duration": 0.013129,
     "end_time": "2023-10-15T15:02:23.080445",
     "exception": false,
     "start_time": "2023-10-15T15:02:23.067316",
     "status": "completed"
    },
    "tags": []
   },
   "source": [
    "### Testing Linear Model"
   ]
  },
  {
   "cell_type": "code",
   "execution_count": 34,
   "id": "ab5f7f7e",
   "metadata": {
    "execution": {
     "iopub.execute_input": "2023-10-15T15:02:23.109222Z",
     "iopub.status.busy": "2023-10-15T15:02:23.108880Z",
     "iopub.status.idle": "2023-10-15T15:03:34.895828Z",
     "shell.execute_reply": "2023-10-15T15:03:34.894737Z"
    },
    "papermill": {
     "duration": 71.818026,
     "end_time": "2023-10-15T15:03:34.912033",
     "exception": false,
     "start_time": "2023-10-15T15:02:23.094007",
     "status": "completed"
    },
    "tags": []
   },
   "outputs": [
    {
     "data": {
      "text/plain": [
       "0.957257139166418"
      ]
     },
     "execution_count": 34,
     "metadata": {},
     "output_type": "execute_result"
    }
   ],
   "source": [
    "from sklearn.ensemble import RandomForestRegressor\n",
    "\n",
    "regr = RandomForestRegressor(n_estimators=50)\n",
    "regr.fit(X_train,y_train)\n",
    "regr.predict(X_test)\n",
    "regr.score(X_test,y_test)\n",
    "\n",
    "# 100 estimators - 0.9583965044644674\n",
    "# 1000 estimators - 0.9583448385695726"
   ]
  },
  {
   "cell_type": "code",
   "execution_count": 35,
   "id": "cec663a4",
   "metadata": {
    "execution": {
     "iopub.execute_input": "2023-10-15T15:03:34.941737Z",
     "iopub.status.busy": "2023-10-15T15:03:34.941412Z",
     "iopub.status.idle": "2023-10-15T15:03:36.408366Z",
     "shell.execute_reply": "2023-10-15T15:03:36.407145Z"
    },
    "papermill": {
     "duration": 1.485146,
     "end_time": "2023-10-15T15:03:36.410987",
     "exception": false,
     "start_time": "2023-10-15T15:03:34.925841",
     "status": "completed"
    },
    "tags": []
   },
   "outputs": [],
   "source": [
    "submission = regr.predict(test_data_copy)\n",
    "my_submission = pd.DataFrame({'ID': range(1,50001), 'total_amount': submission})\n",
    "# you could use any filename. We choose submission here\n",
    "my_submission.to_csv('submission_2.csv', index=False)"
   ]
  },
  {
   "cell_type": "code",
   "execution_count": null,
   "id": "3a6a9c37",
   "metadata": {
    "papermill": {
     "duration": 0.013786,
     "end_time": "2023-10-15T15:03:36.440005",
     "exception": false,
     "start_time": "2023-10-15T15:03:36.426219",
     "status": "completed"
    },
    "tags": []
   },
   "outputs": [],
   "source": []
  }
 ],
 "metadata": {
  "kernelspec": {
   "display_name": "Python 3",
   "language": "python",
   "name": "python3"
  },
  "language_info": {
   "codemirror_mode": {
    "name": "ipython",
    "version": 3
   },
   "file_extension": ".py",
   "mimetype": "text/x-python",
   "name": "python",
   "nbconvert_exporter": "python",
   "pygments_lexer": "ipython3",
   "version": "3.10.12"
  },
  "papermill": {
   "default_parameters": {},
   "duration": 331.782527,
   "end_time": "2023-10-15T15:03:37.175236",
   "environment_variables": {},
   "exception": null,
   "input_path": "__notebook__.ipynb",
   "output_path": "__notebook__.ipynb",
   "parameters": {},
   "start_time": "2023-10-15T14:58:05.392709",
   "version": "2.4.0"
  }
 },
 "nbformat": 4,
 "nbformat_minor": 5
}
