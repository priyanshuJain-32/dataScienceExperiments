{
  "cells": [
    {
      "cell_type": "code",
      "execution_count": 1,
      "metadata": {
        "id": "x6TIlbSsdyI9"
      },
      "outputs": [],
      "source": [
        "import pandas as pd"
      ]
    },
    {
      "cell_type": "markdown",
      "metadata": {
        "id": "IY1IKlLIfhKz"
      },
      "source": []
    },
    {
      "cell_type": "code",
      "execution_count": 2,
      "metadata": {
        "id": "hNkyxcoed7Zh"
      },
      "outputs": [],
      "source": [
        "data = pd.read_csv(\"V1.csv\")"
      ]
    },
    {
      "cell_type": "code",
      "execution_count": 3,
      "metadata": {
        "colab": {
          "base_uri": "https://localhost:8080/"
        },
        "id": "ngSCubvId9pp",
        "outputId": "7cf868a6-19ef-4750-b90d-aaea377ac24f"
      },
      "outputs": [
        {
          "data": {
            "text/plain": [
              "(20000, 15)"
            ]
          },
          "execution_count": 3,
          "metadata": {},
          "output_type": "execute_result"
        }
      ],
      "source": [
        "data.shape"
      ]
    },
    {
      "cell_type": "code",
      "execution_count": 4,
      "metadata": {
        "colab": {
          "base_uri": "https://localhost:8080/"
        },
        "id": "ga0xozZ5d_Wg",
        "outputId": "eb9204de-bc0f-43b9-f334-23bce64ee331"
      },
      "outputs": [
        {
          "name": "stdout",
          "output_type": "stream",
          "text": [
            "<class 'pandas.core.frame.DataFrame'>\n",
            "RangeIndex: 20000 entries, 0 to 19999\n",
            "Data columns (total 15 columns):\n",
            " #   Column          Non-Null Count  Dtype \n",
            "---  ------          --------------  ----- \n",
            " 0   age             20000 non-null  int64 \n",
            " 1   workclass       20000 non-null  object\n",
            " 2   fnlwgt          20000 non-null  int64 \n",
            " 3   education       20000 non-null  object\n",
            " 4   education-num   20000 non-null  int64 \n",
            " 5   marital-status  20000 non-null  object\n",
            " 6   occupation      20000 non-null  object\n",
            " 7   relationship    20000 non-null  object\n",
            " 8   race            20000 non-null  object\n",
            " 9   sex             20000 non-null  object\n",
            " 10  capital-gain    20000 non-null  int64 \n",
            " 11  capital-loss    20000 non-null  int64 \n",
            " 12  hours-per-week  20000 non-null  int64 \n",
            " 13  native-country  20000 non-null  object\n",
            " 14  IncomeGroup     20000 non-null  object\n",
            "dtypes: int64(6), object(9)\n",
            "memory usage: 2.3+ MB\n"
          ]
        }
      ],
      "source": [
        "data.info()"
      ]
    },
    {
      "cell_type": "code",
      "execution_count": 5,
      "metadata": {
        "colab": {
          "base_uri": "https://localhost:8080/"
        },
        "id": "d-OvHpQVeDKe",
        "outputId": "d8eaf2b1-afed-453e-f94b-04ee2835ec77"
      },
      "outputs": [
        {
          "data": {
            "text/plain": [
              "0"
            ]
          },
          "execution_count": 5,
          "metadata": {},
          "output_type": "execute_result"
        }
      ],
      "source": [
        "sum(data.occupation==\"?\")"
      ]
    },
    {
      "cell_type": "code",
      "execution_count": 6,
      "metadata": {
        "colab": {
          "base_uri": "https://localhost:8080/",
          "height": 348
        },
        "id": "7XEi8ZAjeL23",
        "outputId": "73a8456d-9112-43a4-ee2e-abbecd01c432"
      },
      "outputs": [
        {
          "data": {
            "text/html": [
              "<div>\n",
              "<style scoped>\n",
              "    .dataframe tbody tr th:only-of-type {\n",
              "        vertical-align: middle;\n",
              "    }\n",
              "\n",
              "    .dataframe tbody tr th {\n",
              "        vertical-align: top;\n",
              "    }\n",
              "\n",
              "    .dataframe thead th {\n",
              "        text-align: right;\n",
              "    }\n",
              "</style>\n",
              "<table border=\"1\" class=\"dataframe\">\n",
              "  <thead>\n",
              "    <tr style=\"text-align: right;\">\n",
              "      <th></th>\n",
              "      <th>age</th>\n",
              "      <th>workclass</th>\n",
              "      <th>fnlwgt</th>\n",
              "      <th>education</th>\n",
              "      <th>education-num</th>\n",
              "      <th>marital-status</th>\n",
              "      <th>occupation</th>\n",
              "      <th>relationship</th>\n",
              "      <th>race</th>\n",
              "      <th>sex</th>\n",
              "      <th>capital-gain</th>\n",
              "      <th>capital-loss</th>\n",
              "      <th>hours-per-week</th>\n",
              "      <th>native-country</th>\n",
              "      <th>IncomeGroup</th>\n",
              "    </tr>\n",
              "  </thead>\n",
              "  <tbody>\n",
              "    <tr>\n",
              "      <th>0</th>\n",
              "      <td>62</td>\n",
              "      <td>Self-emp-not-inc</td>\n",
              "      <td>26911</td>\n",
              "      <td>7th-8th</td>\n",
              "      <td>4</td>\n",
              "      <td>Widowed</td>\n",
              "      <td>Other-service</td>\n",
              "      <td>Not-in-family</td>\n",
              "      <td>White</td>\n",
              "      <td>Female</td>\n",
              "      <td>0</td>\n",
              "      <td>0</td>\n",
              "      <td>66</td>\n",
              "      <td>United-States</td>\n",
              "      <td>&lt;=50K</td>\n",
              "    </tr>\n",
              "    <tr>\n",
              "      <th>1</th>\n",
              "      <td>18</td>\n",
              "      <td>Private</td>\n",
              "      <td>208103</td>\n",
              "      <td>11th</td>\n",
              "      <td>7</td>\n",
              "      <td>Never-married</td>\n",
              "      <td>Other-service</td>\n",
              "      <td>Other-relative</td>\n",
              "      <td>White</td>\n",
              "      <td>Male</td>\n",
              "      <td>0</td>\n",
              "      <td>0</td>\n",
              "      <td>25</td>\n",
              "      <td>United-States</td>\n",
              "      <td>&lt;=50K</td>\n",
              "    </tr>\n",
              "    <tr>\n",
              "      <th>2</th>\n",
              "      <td>25</td>\n",
              "      <td>Private</td>\n",
              "      <td>102476</td>\n",
              "      <td>Bachelors</td>\n",
              "      <td>13</td>\n",
              "      <td>Never-married</td>\n",
              "      <td>Farming-fishing</td>\n",
              "      <td>Own-child</td>\n",
              "      <td>White</td>\n",
              "      <td>Male</td>\n",
              "      <td>27828</td>\n",
              "      <td>0</td>\n",
              "      <td>50</td>\n",
              "      <td>United-States</td>\n",
              "      <td>&gt;50K</td>\n",
              "    </tr>\n",
              "    <tr>\n",
              "      <th>3</th>\n",
              "      <td>33</td>\n",
              "      <td>Private</td>\n",
              "      <td>511517</td>\n",
              "      <td>HS-grad</td>\n",
              "      <td>9</td>\n",
              "      <td>Married-civ-spouse</td>\n",
              "      <td>Prof-specialty</td>\n",
              "      <td>Husband</td>\n",
              "      <td>White</td>\n",
              "      <td>Male</td>\n",
              "      <td>0</td>\n",
              "      <td>0</td>\n",
              "      <td>40</td>\n",
              "      <td>United-States</td>\n",
              "      <td>&lt;=50K</td>\n",
              "    </tr>\n",
              "    <tr>\n",
              "      <th>4</th>\n",
              "      <td>36</td>\n",
              "      <td>Private</td>\n",
              "      <td>292570</td>\n",
              "      <td>11th</td>\n",
              "      <td>7</td>\n",
              "      <td>Never-married</td>\n",
              "      <td>Machine-op-inspct</td>\n",
              "      <td>Unmarried</td>\n",
              "      <td>White</td>\n",
              "      <td>Female</td>\n",
              "      <td>0</td>\n",
              "      <td>0</td>\n",
              "      <td>40</td>\n",
              "      <td>United-States</td>\n",
              "      <td>&lt;=50K</td>\n",
              "    </tr>\n",
              "  </tbody>\n",
              "</table>\n",
              "</div>"
            ],
            "text/plain": [
              "   age          workclass  fnlwgt   education  education-num  \\\n",
              "0   62   Self-emp-not-inc   26911     7th-8th              4   \n",
              "1   18            Private  208103        11th              7   \n",
              "2   25            Private  102476   Bachelors             13   \n",
              "3   33            Private  511517     HS-grad              9   \n",
              "4   36            Private  292570        11th              7   \n",
              "\n",
              "        marital-status          occupation     relationship    race      sex  \\\n",
              "0              Widowed       Other-service    Not-in-family   White   Female   \n",
              "1        Never-married       Other-service   Other-relative   White     Male   \n",
              "2        Never-married     Farming-fishing        Own-child   White     Male   \n",
              "3   Married-civ-spouse      Prof-specialty          Husband   White     Male   \n",
              "4        Never-married   Machine-op-inspct        Unmarried   White   Female   \n",
              "\n",
              "   capital-gain  capital-loss  hours-per-week  native-country IncomeGroup  \n",
              "0             0             0              66   United-States       <=50K  \n",
              "1             0             0              25   United-States       <=50K  \n",
              "2         27828             0              50   United-States        >50K  \n",
              "3             0             0              40   United-States       <=50K  \n",
              "4             0             0              40   United-States       <=50K  "
            ]
          },
          "execution_count": 6,
          "metadata": {},
          "output_type": "execute_result"
        }
      ],
      "source": [
        "data.head()"
      ]
    },
    {
      "cell_type": "code",
      "execution_count": 7,
      "metadata": {
        "colab": {
          "base_uri": "https://localhost:8080/"
        },
        "id": "gFO3nKergb2L",
        "outputId": "bed72a5f-6574-4609-b462-bf8a57366e7d"
      },
      "outputs": [
        {
          "data": {
            "text/plain": [
              "76.51"
            ]
          },
          "execution_count": 7,
          "metadata": {},
          "output_type": "execute_result"
        }
      ],
      "source": [
        "sum(data.IncomeGroup==\" <=50K\")/data.shape[0]*100"
      ]
    },
    {
      "cell_type": "code",
      "execution_count": 8,
      "metadata": {
        "colab": {
          "base_uri": "https://localhost:8080/"
        },
        "id": "G7e3Hd2mgxXI",
        "outputId": "7400f046-1631-4361-eedf-8500daaed6e6"
      },
      "outputs": [
        {
          "data": {
            "text/plain": [
              "age                  0\n",
              "workclass         1137\n",
              "fnlwgt               0\n",
              "education            0\n",
              "education-num        0\n",
              "marital-status       0\n",
              "occupation        1140\n",
              "relationship         0\n",
              "race                 0\n",
              "sex                  0\n",
              "capital-gain         0\n",
              "capital-loss         0\n",
              "hours-per-week       0\n",
              "native-country     354\n",
              "IncomeGroup          0\n",
              "dtype: int64"
            ]
          },
          "execution_count": 8,
          "metadata": {},
          "output_type": "execute_result"
        }
      ],
      "source": [
        "(data==\" ?\").sum()"
      ]
    },
    {
      "cell_type": "code",
      "execution_count": 9,
      "metadata": {
        "colab": {
          "base_uri": "https://localhost:8080/"
        },
        "id": "sx3bV9U5hAGx",
        "outputId": "9aca7024-8bc3-4e54-df14-0b85e95edc58"
      },
      "outputs": [
        {
          "data": {
            "text/plain": [
              "5.7"
            ]
          },
          "execution_count": 9,
          "metadata": {},
          "output_type": "execute_result"
        }
      ],
      "source": [
        "1140/200"
      ]
    },
    {
      "cell_type": "code",
      "execution_count": 10,
      "metadata": {
        "colab": {
          "base_uri": "https://localhost:8080/"
        },
        "id": "-yMOP_gziJGE",
        "outputId": "818b5985-e54c-4641-a7fb-7ee29d51a547"
      },
      "outputs": [
        {
          "data": {
            "text/plain": [
              "38.553"
            ]
          },
          "execution_count": 10,
          "metadata": {},
          "output_type": "execute_result"
        }
      ],
      "source": [
        "data.age.mean()"
      ]
    },
    {
      "cell_type": "code",
      "execution_count": 11,
      "metadata": {
        "colab": {
          "base_uri": "https://localhost:8080/"
        },
        "id": "IXB2qfTeiQsQ",
        "outputId": "b146a08d-8adf-485b-ff52-4d3fc236fb92"
      },
      "outputs": [
        {
          "data": {
            "text/plain": [
              "32"
            ]
          },
          "execution_count": 11,
          "metadata": {},
          "output_type": "execute_result"
        }
      ],
      "source": [
        "sum(data.education==' Preschool')"
      ]
    },
    {
      "cell_type": "code",
      "execution_count": null,
      "metadata": {
        "id": "6Au8QlSfj3kz"
      },
      "outputs": [],
      "source": []
    },
    {
      "cell_type": "code",
      "execution_count": 12,
      "metadata": {
        "colab": {
          "base_uri": "https://localhost:8080/"
        },
        "id": "IGwyLUq7iWkR",
        "outputId": "162f77e8-355f-4ef6-8204-bda26bea2d61"
      },
      "outputs": [
        {
          "data": {
            "text/plain": [
              "array([[1.        , 0.12456728],\n",
              "       [0.12456728, 1.        ]])"
            ]
          },
          "execution_count": 12,
          "metadata": {},
          "output_type": "execute_result"
        }
      ],
      "source": [
        "import numpy as np\n",
        "np.corrcoef(data['education-num'], data['capital-gain'])"
      ]
    },
    {
      "cell_type": "code",
      "execution_count": 13,
      "metadata": {
        "id": "aGALV4VLjyh1"
      },
      "outputs": [],
      "source": [
        "data[data==\" ?\"] = np.nan"
      ]
    },
    {
      "cell_type": "code",
      "execution_count": 14,
      "metadata": {
        "colab": {
          "base_uri": "https://localhost:8080/"
        },
        "id": "AdYeLLk5kKWn",
        "outputId": "9af11378-77c4-4f47-b8b0-a2a3053a3f06"
      },
      "outputs": [
        {
          "data": {
            "text/plain": [
              "age                  0\n",
              "workclass         1137\n",
              "fnlwgt               0\n",
              "education            0\n",
              "education-num        0\n",
              "marital-status       0\n",
              "occupation        1140\n",
              "relationship         0\n",
              "race                 0\n",
              "sex                  0\n",
              "capital-gain         0\n",
              "capital-loss         0\n",
              "hours-per-week       0\n",
              "native-country     354\n",
              "IncomeGroup          0\n",
              "dtype: int64"
            ]
          },
          "execution_count": 14,
          "metadata": {},
          "output_type": "execute_result"
        }
      ],
      "source": [
        "data.isna().sum()"
      ]
    },
    {
      "cell_type": "code",
      "execution_count": 15,
      "metadata": {
        "id": "QCksAdt-kL0-"
      },
      "outputs": [],
      "source": [
        "from sklearn.impute import SimpleImputer\n",
        "\n",
        "si = SimpleImputer(strategy='most_frequent')"
      ]
    },
    {
      "cell_type": "code",
      "execution_count": 16,
      "metadata": {
        "id": "MBVAN4-tkYyf"
      },
      "outputs": [],
      "source": [
        "data = pd.DataFrame(si.fit_transform(data), columns = list(data.columns))"
      ]
    },
    {
      "cell_type": "code",
      "execution_count": 17,
      "metadata": {
        "colab": {
          "base_uri": "https://localhost:8080/"
        },
        "id": "IxcXeFR2koaq",
        "outputId": "ddea543f-909a-4e2f-f3bb-556d99e5e5b6"
      },
      "outputs": [
        {
          "data": {
            "text/plain": [
              "age               0\n",
              "workclass         0\n",
              "fnlwgt            0\n",
              "education         0\n",
              "education-num     0\n",
              "marital-status    0\n",
              "occupation        0\n",
              "relationship      0\n",
              "race              0\n",
              "sex               0\n",
              "capital-gain      0\n",
              "capital-loss      0\n",
              "hours-per-week    0\n",
              "native-country    0\n",
              "IncomeGroup       0\n",
              "dtype: int64"
            ]
          },
          "execution_count": 17,
          "metadata": {},
          "output_type": "execute_result"
        }
      ],
      "source": [
        "data.isna().sum()"
      ]
    },
    {
      "cell_type": "code",
      "execution_count": 18,
      "metadata": {
        "colab": {
          "base_uri": "https://localhost:8080/"
        },
        "id": "8ywpYgIkksTe",
        "outputId": "52b4df3d-cc1b-45d0-dc6e-9d8425c35147"
      },
      "outputs": [
        {
          "data": {
            "text/plain": [
              "0     Prof-specialty\n",
              "Name: occupation, dtype: object"
            ]
          },
          "execution_count": 18,
          "metadata": {},
          "output_type": "execute_result"
        }
      ],
      "source": [
        "data.occupation.mode()"
      ]
    },
    {
      "cell_type": "code",
      "execution_count": 19,
      "metadata": {
        "colab": {
          "base_uri": "https://localhost:8080/",
          "height": 741
        },
        "id": "NmucwcTQl7Ew",
        "outputId": "23d90585-34f0-4228-9ca3-e84c5eb1bf91"
      },
      "outputs": [
        {
          "name": "stdout",
          "output_type": "stream",
          "text": [
            "<class 'pandas.core.frame.DataFrame'>\n",
            "RangeIndex: 20000 entries, 0 to 19999\n",
            "Data columns (total 15 columns):\n",
            " #   Column          Non-Null Count  Dtype \n",
            "---  ------          --------------  ----- \n",
            " 0   age             20000 non-null  object\n",
            " 1   workclass       20000 non-null  object\n",
            " 2   fnlwgt          20000 non-null  object\n",
            " 3   education       20000 non-null  object\n",
            " 4   education-num   20000 non-null  object\n",
            " 5   marital-status  20000 non-null  object\n",
            " 6   occupation      20000 non-null  object\n",
            " 7   relationship    20000 non-null  object\n",
            " 8   race            20000 non-null  object\n",
            " 9   sex             20000 non-null  object\n",
            " 10  capital-gain    20000 non-null  object\n",
            " 11  capital-loss    20000 non-null  object\n",
            " 12  hours-per-week  20000 non-null  object\n",
            " 13  native-country  20000 non-null  object\n",
            " 14  IncomeGroup     20000 non-null  object\n",
            "dtypes: object(15)\n",
            "memory usage: 2.3+ MB\n"
          ]
        },
        {
          "data": {
            "text/html": [
              "<div>\n",
              "<style scoped>\n",
              "    .dataframe tbody tr th:only-of-type {\n",
              "        vertical-align: middle;\n",
              "    }\n",
              "\n",
              "    .dataframe tbody tr th {\n",
              "        vertical-align: top;\n",
              "    }\n",
              "\n",
              "    .dataframe thead th {\n",
              "        text-align: right;\n",
              "    }\n",
              "</style>\n",
              "<table border=\"1\" class=\"dataframe\">\n",
              "  <thead>\n",
              "    <tr style=\"text-align: right;\">\n",
              "      <th></th>\n",
              "      <th>age</th>\n",
              "      <th>workclass</th>\n",
              "      <th>fnlwgt</th>\n",
              "      <th>education</th>\n",
              "      <th>education-num</th>\n",
              "      <th>marital-status</th>\n",
              "      <th>occupation</th>\n",
              "      <th>relationship</th>\n",
              "      <th>race</th>\n",
              "      <th>sex</th>\n",
              "      <th>capital-gain</th>\n",
              "      <th>capital-loss</th>\n",
              "      <th>hours-per-week</th>\n",
              "      <th>native-country</th>\n",
              "      <th>IncomeGroup</th>\n",
              "    </tr>\n",
              "  </thead>\n",
              "  <tbody>\n",
              "    <tr>\n",
              "      <th>0</th>\n",
              "      <td>62</td>\n",
              "      <td>Self-emp-not-inc</td>\n",
              "      <td>26911</td>\n",
              "      <td>7th-8th</td>\n",
              "      <td>4</td>\n",
              "      <td>Widowed</td>\n",
              "      <td>Other-service</td>\n",
              "      <td>Not-in-family</td>\n",
              "      <td>White</td>\n",
              "      <td>Female</td>\n",
              "      <td>0</td>\n",
              "      <td>0</td>\n",
              "      <td>66</td>\n",
              "      <td>United-States</td>\n",
              "      <td>&lt;=50K</td>\n",
              "    </tr>\n",
              "    <tr>\n",
              "      <th>1</th>\n",
              "      <td>18</td>\n",
              "      <td>Private</td>\n",
              "      <td>208103</td>\n",
              "      <td>11th</td>\n",
              "      <td>7</td>\n",
              "      <td>Never-married</td>\n",
              "      <td>Other-service</td>\n",
              "      <td>Other-relative</td>\n",
              "      <td>White</td>\n",
              "      <td>Male</td>\n",
              "      <td>0</td>\n",
              "      <td>0</td>\n",
              "      <td>25</td>\n",
              "      <td>United-States</td>\n",
              "      <td>&lt;=50K</td>\n",
              "    </tr>\n",
              "    <tr>\n",
              "      <th>2</th>\n",
              "      <td>25</td>\n",
              "      <td>Private</td>\n",
              "      <td>102476</td>\n",
              "      <td>Bachelors</td>\n",
              "      <td>13</td>\n",
              "      <td>Never-married</td>\n",
              "      <td>Farming-fishing</td>\n",
              "      <td>Own-child</td>\n",
              "      <td>White</td>\n",
              "      <td>Male</td>\n",
              "      <td>27828</td>\n",
              "      <td>0</td>\n",
              "      <td>50</td>\n",
              "      <td>United-States</td>\n",
              "      <td>&gt;50K</td>\n",
              "    </tr>\n",
              "    <tr>\n",
              "      <th>3</th>\n",
              "      <td>33</td>\n",
              "      <td>Private</td>\n",
              "      <td>511517</td>\n",
              "      <td>HS-grad</td>\n",
              "      <td>9</td>\n",
              "      <td>Married-civ-spouse</td>\n",
              "      <td>Prof-specialty</td>\n",
              "      <td>Husband</td>\n",
              "      <td>White</td>\n",
              "      <td>Male</td>\n",
              "      <td>0</td>\n",
              "      <td>0</td>\n",
              "      <td>40</td>\n",
              "      <td>United-States</td>\n",
              "      <td>&lt;=50K</td>\n",
              "    </tr>\n",
              "    <tr>\n",
              "      <th>4</th>\n",
              "      <td>36</td>\n",
              "      <td>Private</td>\n",
              "      <td>292570</td>\n",
              "      <td>11th</td>\n",
              "      <td>7</td>\n",
              "      <td>Never-married</td>\n",
              "      <td>Machine-op-inspct</td>\n",
              "      <td>Unmarried</td>\n",
              "      <td>White</td>\n",
              "      <td>Female</td>\n",
              "      <td>0</td>\n",
              "      <td>0</td>\n",
              "      <td>40</td>\n",
              "      <td>United-States</td>\n",
              "      <td>&lt;=50K</td>\n",
              "    </tr>\n",
              "  </tbody>\n",
              "</table>\n",
              "</div>"
            ],
            "text/plain": [
              "  age          workclass  fnlwgt   education education-num  \\\n",
              "0  62   Self-emp-not-inc   26911     7th-8th             4   \n",
              "1  18            Private  208103        11th             7   \n",
              "2  25            Private  102476   Bachelors            13   \n",
              "3  33            Private  511517     HS-grad             9   \n",
              "4  36            Private  292570        11th             7   \n",
              "\n",
              "        marital-status          occupation     relationship    race      sex  \\\n",
              "0              Widowed       Other-service    Not-in-family   White   Female   \n",
              "1        Never-married       Other-service   Other-relative   White     Male   \n",
              "2        Never-married     Farming-fishing        Own-child   White     Male   \n",
              "3   Married-civ-spouse      Prof-specialty          Husband   White     Male   \n",
              "4        Never-married   Machine-op-inspct        Unmarried   White   Female   \n",
              "\n",
              "  capital-gain capital-loss hours-per-week  native-country IncomeGroup  \n",
              "0            0            0             66   United-States       <=50K  \n",
              "1            0            0             25   United-States       <=50K  \n",
              "2        27828            0             50   United-States        >50K  \n",
              "3            0            0             40   United-States       <=50K  \n",
              "4            0            0             40   United-States       <=50K  "
            ]
          },
          "execution_count": 19,
          "metadata": {},
          "output_type": "execute_result"
        }
      ],
      "source": [
        "data.info()\n",
        "data.head()"
      ]
    },
    {
      "cell_type": "code",
      "execution_count": 20,
      "metadata": {
        "id": "_cbVpBNFmBb_"
      },
      "outputs": [],
      "source": [
        "X1 = data[['age','fnlwgt','education-num','capital-gain','capital-loss','hours-per-week']] # 6 columns\n",
        "X2 = data[['workclass','education','marital-status','occupation','relationship','race','sex','native-country']] # 8 columns\n",
        "y = data.IncomeGroup"
      ]
    },
    {
      "cell_type": "code",
      "execution_count": 21,
      "metadata": {
        "id": "_G6hX4oKndvk"
      },
      "outputs": [],
      "source": [
        "from sklearn.preprocessing import OneHotEncoder, StandardScaler\n",
        "\n",
        "ohc = OneHotEncoder(sparse=False)\n",
        "ss = StandardScaler()"
      ]
    },
    {
      "cell_type": "code",
      "execution_count": 22,
      "metadata": {
        "colab": {
          "base_uri": "https://localhost:8080/",
          "height": 568
        },
        "id": "KhW1QPFcodgj",
        "outputId": "c2ae547e-b65c-4cfc-d50e-cbcd9dace00d"
      },
      "outputs": [
        {
          "name": "stderr",
          "output_type": "stream",
          "text": [
            "/var/folders/29/f90pvtgj0f533wht42wjvwcm0000gn/T/ipykernel_45547/2773923790.py:3: SettingWithCopyWarning: \n",
            "A value is trying to be set on a copy of a slice from a DataFrame.\n",
            "Try using .loc[row_indexer,col_indexer] = value instead\n",
            "\n",
            "See the caveats in the documentation: https://pandas.pydata.org/pandas-docs/stable/user_guide/indexing.html#returning-a-view-versus-a-copy\n",
            "  X1[i] = X1[i].apply(int)\n",
            "/var/folders/29/f90pvtgj0f533wht42wjvwcm0000gn/T/ipykernel_45547/2773923790.py:3: SettingWithCopyWarning: \n",
            "A value is trying to be set on a copy of a slice from a DataFrame.\n",
            "Try using .loc[row_indexer,col_indexer] = value instead\n",
            "\n",
            "See the caveats in the documentation: https://pandas.pydata.org/pandas-docs/stable/user_guide/indexing.html#returning-a-view-versus-a-copy\n",
            "  X1[i] = X1[i].apply(int)\n",
            "/var/folders/29/f90pvtgj0f533wht42wjvwcm0000gn/T/ipykernel_45547/2773923790.py:3: SettingWithCopyWarning: \n",
            "A value is trying to be set on a copy of a slice from a DataFrame.\n",
            "Try using .loc[row_indexer,col_indexer] = value instead\n",
            "\n",
            "See the caveats in the documentation: https://pandas.pydata.org/pandas-docs/stable/user_guide/indexing.html#returning-a-view-versus-a-copy\n",
            "  X1[i] = X1[i].apply(int)\n",
            "/var/folders/29/f90pvtgj0f533wht42wjvwcm0000gn/T/ipykernel_45547/2773923790.py:3: SettingWithCopyWarning: \n",
            "A value is trying to be set on a copy of a slice from a DataFrame.\n",
            "Try using .loc[row_indexer,col_indexer] = value instead\n",
            "\n",
            "See the caveats in the documentation: https://pandas.pydata.org/pandas-docs/stable/user_guide/indexing.html#returning-a-view-versus-a-copy\n",
            "  X1[i] = X1[i].apply(int)\n",
            "/var/folders/29/f90pvtgj0f533wht42wjvwcm0000gn/T/ipykernel_45547/2773923790.py:3: SettingWithCopyWarning: \n",
            "A value is trying to be set on a copy of a slice from a DataFrame.\n",
            "Try using .loc[row_indexer,col_indexer] = value instead\n",
            "\n",
            "See the caveats in the documentation: https://pandas.pydata.org/pandas-docs/stable/user_guide/indexing.html#returning-a-view-versus-a-copy\n",
            "  X1[i] = X1[i].apply(int)\n",
            "/var/folders/29/f90pvtgj0f533wht42wjvwcm0000gn/T/ipykernel_45547/2773923790.py:3: SettingWithCopyWarning: \n",
            "A value is trying to be set on a copy of a slice from a DataFrame.\n",
            "Try using .loc[row_indexer,col_indexer] = value instead\n",
            "\n",
            "See the caveats in the documentation: https://pandas.pydata.org/pandas-docs/stable/user_guide/indexing.html#returning-a-view-versus-a-copy\n",
            "  X1[i] = X1[i].apply(int)\n"
          ]
        },
        {
          "data": {
            "text/html": [
              "<div>\n",
              "<style scoped>\n",
              "    .dataframe tbody tr th:only-of-type {\n",
              "        vertical-align: middle;\n",
              "    }\n",
              "\n",
              "    .dataframe tbody tr th {\n",
              "        vertical-align: top;\n",
              "    }\n",
              "\n",
              "    .dataframe thead th {\n",
              "        text-align: right;\n",
              "    }\n",
              "</style>\n",
              "<table border=\"1\" class=\"dataframe\">\n",
              "  <thead>\n",
              "    <tr style=\"text-align: right;\">\n",
              "      <th></th>\n",
              "      <th>age</th>\n",
              "      <th>fnlwgt</th>\n",
              "      <th>education-num</th>\n",
              "      <th>capital-gain</th>\n",
              "      <th>capital-loss</th>\n",
              "      <th>hours-per-week</th>\n",
              "    </tr>\n",
              "  </thead>\n",
              "  <tbody>\n",
              "    <tr>\n",
              "      <th>0</th>\n",
              "      <td>62</td>\n",
              "      <td>26911</td>\n",
              "      <td>4</td>\n",
              "      <td>0</td>\n",
              "      <td>0</td>\n",
              "      <td>66</td>\n",
              "    </tr>\n",
              "    <tr>\n",
              "      <th>1</th>\n",
              "      <td>18</td>\n",
              "      <td>208103</td>\n",
              "      <td>7</td>\n",
              "      <td>0</td>\n",
              "      <td>0</td>\n",
              "      <td>25</td>\n",
              "    </tr>\n",
              "    <tr>\n",
              "      <th>2</th>\n",
              "      <td>25</td>\n",
              "      <td>102476</td>\n",
              "      <td>13</td>\n",
              "      <td>27828</td>\n",
              "      <td>0</td>\n",
              "      <td>50</td>\n",
              "    </tr>\n",
              "    <tr>\n",
              "      <th>3</th>\n",
              "      <td>33</td>\n",
              "      <td>511517</td>\n",
              "      <td>9</td>\n",
              "      <td>0</td>\n",
              "      <td>0</td>\n",
              "      <td>40</td>\n",
              "    </tr>\n",
              "    <tr>\n",
              "      <th>4</th>\n",
              "      <td>36</td>\n",
              "      <td>292570</td>\n",
              "      <td>7</td>\n",
              "      <td>0</td>\n",
              "      <td>0</td>\n",
              "      <td>40</td>\n",
              "    </tr>\n",
              "    <tr>\n",
              "      <th>...</th>\n",
              "      <td>...</td>\n",
              "      <td>...</td>\n",
              "      <td>...</td>\n",
              "      <td>...</td>\n",
              "      <td>...</td>\n",
              "      <td>...</td>\n",
              "    </tr>\n",
              "    <tr>\n",
              "      <th>19995</th>\n",
              "      <td>26</td>\n",
              "      <td>62438</td>\n",
              "      <td>13</td>\n",
              "      <td>0</td>\n",
              "      <td>0</td>\n",
              "      <td>40</td>\n",
              "    </tr>\n",
              "    <tr>\n",
              "      <th>19996</th>\n",
              "      <td>62</td>\n",
              "      <td>57970</td>\n",
              "      <td>4</td>\n",
              "      <td>0</td>\n",
              "      <td>0</td>\n",
              "      <td>40</td>\n",
              "    </tr>\n",
              "    <tr>\n",
              "      <th>19997</th>\n",
              "      <td>31</td>\n",
              "      <td>137290</td>\n",
              "      <td>13</td>\n",
              "      <td>0</td>\n",
              "      <td>0</td>\n",
              "      <td>55</td>\n",
              "    </tr>\n",
              "    <tr>\n",
              "      <th>19998</th>\n",
              "      <td>25</td>\n",
              "      <td>29020</td>\n",
              "      <td>12</td>\n",
              "      <td>0</td>\n",
              "      <td>0</td>\n",
              "      <td>45</td>\n",
              "    </tr>\n",
              "    <tr>\n",
              "      <th>19999</th>\n",
              "      <td>55</td>\n",
              "      <td>256953</td>\n",
              "      <td>9</td>\n",
              "      <td>0</td>\n",
              "      <td>0</td>\n",
              "      <td>44</td>\n",
              "    </tr>\n",
              "  </tbody>\n",
              "</table>\n",
              "<p>20000 rows × 6 columns</p>\n",
              "</div>"
            ],
            "text/plain": [
              "       age  fnlwgt  education-num  capital-gain  capital-loss  hours-per-week\n",
              "0       62   26911              4             0             0              66\n",
              "1       18  208103              7             0             0              25\n",
              "2       25  102476             13         27828             0              50\n",
              "3       33  511517              9             0             0              40\n",
              "4       36  292570              7             0             0              40\n",
              "...    ...     ...            ...           ...           ...             ...\n",
              "19995   26   62438             13             0             0              40\n",
              "19996   62   57970              4             0             0              40\n",
              "19997   31  137290             13             0             0              55\n",
              "19998   25   29020             12             0             0              45\n",
              "19999   55  256953              9             0             0              44\n",
              "\n",
              "[20000 rows x 6 columns]"
            ]
          },
          "execution_count": 22,
          "metadata": {},
          "output_type": "execute_result"
        }
      ],
      "source": [
        "L = list(X1.columns)\n",
        "for i in L:\n",
        "  X1[i] = X1[i].apply(int)\n",
        "X1"
      ]
    },
    {
      "cell_type": "code",
      "execution_count": 23,
      "metadata": {
        "colab": {
          "base_uri": "https://localhost:8080/"
        },
        "id": "AwvPS8CBn1fz",
        "outputId": "63b6f0ab-4d28-40db-a44b-c801a9dc23ab"
      },
      "outputs": [
        {
          "name": "stderr",
          "output_type": "stream",
          "text": [
            "/Users/priyanshu/Library/Python/3.9/lib/python/site-packages/sklearn/preprocessing/_encoders.py:868: FutureWarning: `sparse` was renamed to `sparse_output` in version 1.2 and will be removed in 1.4. `sparse_output` is ignored unless you leave `sparse` to its default value.\n",
            "  warnings.warn(\n"
          ]
        }
      ],
      "source": [
        "X1_t = ss.fit_transform(X1)\n",
        "X2_t = ohc.fit_transform(X2)"
      ]
    },
    {
      "cell_type": "code",
      "execution_count": 24,
      "metadata": {
        "colab": {
          "base_uri": "https://localhost:8080/"
        },
        "id": "mPPQy70moVEg",
        "outputId": "81317f14-5130-4ac8-90ac-52ca317cc82b"
      },
      "outputs": [
        {
          "data": {
            "text/plain": [
              "(numpy.ndarray, numpy.ndarray)"
            ]
          },
          "execution_count": 24,
          "metadata": {},
          "output_type": "execute_result"
        }
      ],
      "source": [
        "type(X1_t), type(X2_t)"
      ]
    },
    {
      "cell_type": "code",
      "execution_count": 25,
      "metadata": {
        "colab": {
          "base_uri": "https://localhost:8080/"
        },
        "id": "hNdt2pE3par-",
        "outputId": "a3a1eeda-ed01-4666-faaa-7bcde5ef4a86"
      },
      "outputs": [
        {
          "data": {
            "text/plain": [
              "((20000, 6), (20000, 99))"
            ]
          },
          "execution_count": 25,
          "metadata": {},
          "output_type": "execute_result"
        }
      ],
      "source": [
        "X1_t.shape, X2_t.shape"
      ]
    },
    {
      "cell_type": "code",
      "execution_count": 26,
      "metadata": {
        "id": "QqM097SGpgDc"
      },
      "outputs": [],
      "source": [
        "X = np.concatenate((X1_t, X2_t), axis=1)"
      ]
    },
    {
      "cell_type": "code",
      "execution_count": 27,
      "metadata": {
        "colab": {
          "base_uri": "https://localhost:8080/"
        },
        "id": "QTzh9tBGp3JA",
        "outputId": "7e11f2b5-a956-4eca-d9a6-0ce883ae49f2"
      },
      "outputs": [
        {
          "data": {
            "text/plain": [
              "(20000, 105)"
            ]
          },
          "execution_count": 27,
          "metadata": {},
          "output_type": "execute_result"
        }
      ],
      "source": [
        "X.shape"
      ]
    },
    {
      "cell_type": "code",
      "execution_count": 28,
      "metadata": {
        "id": "_15p_-8KqHbR"
      },
      "outputs": [],
      "source": [
        "from sklearn.model_selection import train_test_split\n",
        "X_train, X_test, y_train, y_test = train_test_split(X, y, test_size = .2, random_state=64)"
      ]
    },
    {
      "cell_type": "code",
      "execution_count": 29,
      "metadata": {
        "colab": {
          "base_uri": "https://localhost:8080/"
        },
        "id": "f8kn7RpAq5md",
        "outputId": "b74c5aaa-28db-4714-8e2d-98801f1f9db4"
      },
      "outputs": [
        {
          "data": {
            "text/plain": [
              "(16000,)"
            ]
          },
          "execution_count": 29,
          "metadata": {},
          "output_type": "execute_result"
        }
      ],
      "source": [
        "y_train.shape"
      ]
    },
    {
      "cell_type": "code",
      "execution_count": 30,
      "metadata": {
        "id": "SXAiRrg0q7KS"
      },
      "outputs": [],
      "source": [
        "from sklearn.linear_model import Perceptron"
      ]
    },
    {
      "cell_type": "code",
      "execution_count": 31,
      "metadata": {
        "id": "S7eIJyUBrFc7"
      },
      "outputs": [
        {
          "name": "stdout",
          "output_type": "stream",
          "text": [
            "\u001b[0;31mInit signature:\u001b[0m\n",
            "\u001b[0mPerceptron\u001b[0m\u001b[0;34m(\u001b[0m\u001b[0;34m\u001b[0m\n",
            "\u001b[0;34m\u001b[0m    \u001b[0;34m*\u001b[0m\u001b[0;34m,\u001b[0m\u001b[0;34m\u001b[0m\n",
            "\u001b[0;34m\u001b[0m    \u001b[0mpenalty\u001b[0m\u001b[0;34m=\u001b[0m\u001b[0;32mNone\u001b[0m\u001b[0;34m,\u001b[0m\u001b[0;34m\u001b[0m\n",
            "\u001b[0;34m\u001b[0m    \u001b[0malpha\u001b[0m\u001b[0;34m=\u001b[0m\u001b[0;36m0.0001\u001b[0m\u001b[0;34m,\u001b[0m\u001b[0;34m\u001b[0m\n",
            "\u001b[0;34m\u001b[0m    \u001b[0ml1_ratio\u001b[0m\u001b[0;34m=\u001b[0m\u001b[0;36m0.15\u001b[0m\u001b[0;34m,\u001b[0m\u001b[0;34m\u001b[0m\n",
            "\u001b[0;34m\u001b[0m    \u001b[0mfit_intercept\u001b[0m\u001b[0;34m=\u001b[0m\u001b[0;32mTrue\u001b[0m\u001b[0;34m,\u001b[0m\u001b[0;34m\u001b[0m\n",
            "\u001b[0;34m\u001b[0m    \u001b[0mmax_iter\u001b[0m\u001b[0;34m=\u001b[0m\u001b[0;36m1000\u001b[0m\u001b[0;34m,\u001b[0m\u001b[0;34m\u001b[0m\n",
            "\u001b[0;34m\u001b[0m    \u001b[0mtol\u001b[0m\u001b[0;34m=\u001b[0m\u001b[0;36m0.001\u001b[0m\u001b[0;34m,\u001b[0m\u001b[0;34m\u001b[0m\n",
            "\u001b[0;34m\u001b[0m    \u001b[0mshuffle\u001b[0m\u001b[0;34m=\u001b[0m\u001b[0;32mTrue\u001b[0m\u001b[0;34m,\u001b[0m\u001b[0;34m\u001b[0m\n",
            "\u001b[0;34m\u001b[0m    \u001b[0mverbose\u001b[0m\u001b[0;34m=\u001b[0m\u001b[0;36m0\u001b[0m\u001b[0;34m,\u001b[0m\u001b[0;34m\u001b[0m\n",
            "\u001b[0;34m\u001b[0m    \u001b[0meta0\u001b[0m\u001b[0;34m=\u001b[0m\u001b[0;36m1.0\u001b[0m\u001b[0;34m,\u001b[0m\u001b[0;34m\u001b[0m\n",
            "\u001b[0;34m\u001b[0m    \u001b[0mn_jobs\u001b[0m\u001b[0;34m=\u001b[0m\u001b[0;32mNone\u001b[0m\u001b[0;34m,\u001b[0m\u001b[0;34m\u001b[0m\n",
            "\u001b[0;34m\u001b[0m    \u001b[0mrandom_state\u001b[0m\u001b[0;34m=\u001b[0m\u001b[0;36m0\u001b[0m\u001b[0;34m,\u001b[0m\u001b[0;34m\u001b[0m\n",
            "\u001b[0;34m\u001b[0m    \u001b[0mearly_stopping\u001b[0m\u001b[0;34m=\u001b[0m\u001b[0;32mFalse\u001b[0m\u001b[0;34m,\u001b[0m\u001b[0;34m\u001b[0m\n",
            "\u001b[0;34m\u001b[0m    \u001b[0mvalidation_fraction\u001b[0m\u001b[0;34m=\u001b[0m\u001b[0;36m0.1\u001b[0m\u001b[0;34m,\u001b[0m\u001b[0;34m\u001b[0m\n",
            "\u001b[0;34m\u001b[0m    \u001b[0mn_iter_no_change\u001b[0m\u001b[0;34m=\u001b[0m\u001b[0;36m5\u001b[0m\u001b[0;34m,\u001b[0m\u001b[0;34m\u001b[0m\n",
            "\u001b[0;34m\u001b[0m    \u001b[0mclass_weight\u001b[0m\u001b[0;34m=\u001b[0m\u001b[0;32mNone\u001b[0m\u001b[0;34m,\u001b[0m\u001b[0;34m\u001b[0m\n",
            "\u001b[0;34m\u001b[0m    \u001b[0mwarm_start\u001b[0m\u001b[0;34m=\u001b[0m\u001b[0;32mFalse\u001b[0m\u001b[0;34m,\u001b[0m\u001b[0;34m\u001b[0m\n",
            "\u001b[0;34m\u001b[0m\u001b[0;34m)\u001b[0m\u001b[0;34m\u001b[0m\u001b[0;34m\u001b[0m\u001b[0m\n",
            "\u001b[0;31mDocstring:\u001b[0m     \n",
            "Linear perceptron classifier.\n",
            "\n",
            "Read more in the :ref:`User Guide <perceptron>`.\n",
            "\n",
            "Parameters\n",
            "----------\n",
            "\n",
            "penalty : {'l2','l1','elasticnet'}, default=None\n",
            "    The penalty (aka regularization term) to be used.\n",
            "\n",
            "alpha : float, default=0.0001\n",
            "    Constant that multiplies the regularization term if regularization is\n",
            "    used.\n",
            "\n",
            "l1_ratio : float, default=0.15\n",
            "    The Elastic Net mixing parameter, with `0 <= l1_ratio <= 1`.\n",
            "    `l1_ratio=0` corresponds to L2 penalty, `l1_ratio=1` to L1.\n",
            "    Only used if `penalty='elasticnet'`.\n",
            "\n",
            "    .. versionadded:: 0.24\n",
            "\n",
            "fit_intercept : bool, default=True\n",
            "    Whether the intercept should be estimated or not. If False, the\n",
            "    data is assumed to be already centered.\n",
            "\n",
            "max_iter : int, default=1000\n",
            "    The maximum number of passes over the training data (aka epochs).\n",
            "    It only impacts the behavior in the ``fit`` method, and not the\n",
            "    :meth:`partial_fit` method.\n",
            "\n",
            "    .. versionadded:: 0.19\n",
            "\n",
            "tol : float or None, default=1e-3\n",
            "    The stopping criterion. If it is not None, the iterations will stop\n",
            "    when (loss > previous_loss - tol).\n",
            "\n",
            "    .. versionadded:: 0.19\n",
            "\n",
            "shuffle : bool, default=True\n",
            "    Whether or not the training data should be shuffled after each epoch.\n",
            "\n",
            "verbose : int, default=0\n",
            "    The verbosity level.\n",
            "\n",
            "eta0 : float, default=1\n",
            "    Constant by which the updates are multiplied.\n",
            "\n",
            "n_jobs : int, default=None\n",
            "    The number of CPUs to use to do the OVA (One Versus All, for\n",
            "    multi-class problems) computation.\n",
            "    ``None`` means 1 unless in a :obj:`joblib.parallel_backend` context.\n",
            "    ``-1`` means using all processors. See :term:`Glossary <n_jobs>`\n",
            "    for more details.\n",
            "\n",
            "random_state : int, RandomState instance or None, default=0\n",
            "    Used to shuffle the training data, when ``shuffle`` is set to\n",
            "    ``True``. Pass an int for reproducible output across multiple\n",
            "    function calls.\n",
            "    See :term:`Glossary <random_state>`.\n",
            "\n",
            "early_stopping : bool, default=False\n",
            "    Whether to use early stopping to terminate training when validation.\n",
            "    score is not improving. If set to True, it will automatically set aside\n",
            "    a stratified fraction of training data as validation and terminate\n",
            "    training when validation score is not improving by at least tol for\n",
            "    n_iter_no_change consecutive epochs.\n",
            "\n",
            "    .. versionadded:: 0.20\n",
            "\n",
            "validation_fraction : float, default=0.1\n",
            "    The proportion of training data to set aside as validation set for\n",
            "    early stopping. Must be between 0 and 1.\n",
            "    Only used if early_stopping is True.\n",
            "\n",
            "    .. versionadded:: 0.20\n",
            "\n",
            "n_iter_no_change : int, default=5\n",
            "    Number of iterations with no improvement to wait before early stopping.\n",
            "\n",
            "    .. versionadded:: 0.20\n",
            "\n",
            "class_weight : dict, {class_label: weight} or \"balanced\", default=None\n",
            "    Preset for the class_weight fit parameter.\n",
            "\n",
            "    Weights associated with classes. If not given, all classes\n",
            "    are supposed to have weight one.\n",
            "\n",
            "    The \"balanced\" mode uses the values of y to automatically adjust\n",
            "    weights inversely proportional to class frequencies in the input data\n",
            "    as ``n_samples / (n_classes * np.bincount(y))``.\n",
            "\n",
            "warm_start : bool, default=False\n",
            "    When set to True, reuse the solution of the previous call to fit as\n",
            "    initialization, otherwise, just erase the previous solution. See\n",
            "    :term:`the Glossary <warm_start>`.\n",
            "\n",
            "Attributes\n",
            "----------\n",
            "classes_ : ndarray of shape (n_classes,)\n",
            "    The unique classes labels.\n",
            "\n",
            "coef_ : ndarray of shape (1, n_features) if n_classes == 2 else             (n_classes, n_features)\n",
            "    Weights assigned to the features.\n",
            "\n",
            "intercept_ : ndarray of shape (1,) if n_classes == 2 else (n_classes,)\n",
            "    Constants in decision function.\n",
            "\n",
            "loss_function_ : concrete LossFunction\n",
            "    The function that determines the loss, or difference between the\n",
            "    output of the algorithm and the target values.\n",
            "\n",
            "n_features_in_ : int\n",
            "    Number of features seen during :term:`fit`.\n",
            "\n",
            "    .. versionadded:: 0.24\n",
            "\n",
            "feature_names_in_ : ndarray of shape (`n_features_in_`,)\n",
            "    Names of features seen during :term:`fit`. Defined only when `X`\n",
            "    has feature names that are all strings.\n",
            "\n",
            "    .. versionadded:: 1.0\n",
            "\n",
            "n_iter_ : int\n",
            "    The actual number of iterations to reach the stopping criterion.\n",
            "    For multiclass fits, it is the maximum over every binary fit.\n",
            "\n",
            "t_ : int\n",
            "    Number of weight updates performed during training.\n",
            "    Same as ``(n_iter_ * n_samples + 1)``.\n",
            "\n",
            "See Also\n",
            "--------\n",
            "sklearn.linear_model.SGDClassifier : Linear classifiers\n",
            "    (SVM, logistic regression, etc.) with SGD training.\n",
            "\n",
            "Notes\n",
            "-----\n",
            "``Perceptron`` is a classification algorithm which shares the same\n",
            "underlying implementation with ``SGDClassifier``. In fact,\n",
            "``Perceptron()`` is equivalent to `SGDClassifier(loss=\"perceptron\",\n",
            "eta0=1, learning_rate=\"constant\", penalty=None)`.\n",
            "\n",
            "References\n",
            "----------\n",
            "https://en.wikipedia.org/wiki/Perceptron and references therein.\n",
            "\n",
            "Examples\n",
            "--------\n",
            ">>> from sklearn.datasets import load_digits\n",
            ">>> from sklearn.linear_model import Perceptron\n",
            ">>> X, y = load_digits(return_X_y=True)\n",
            ">>> clf = Perceptron(tol=1e-3, random_state=0)\n",
            ">>> clf.fit(X, y)\n",
            "Perceptron()\n",
            ">>> clf.score(X, y)\n",
            "0.939...\n",
            "\u001b[0;31mFile:\u001b[0m           ~/Library/Python/3.9/lib/python/site-packages/sklearn/linear_model/_perceptron.py\n",
            "\u001b[0;31mType:\u001b[0m           ABCMeta\n",
            "\u001b[0;31mSubclasses:\u001b[0m     "
          ]
        }
      ],
      "source": [
        "?Perceptron"
      ]
    },
    {
      "cell_type": "code",
      "execution_count": 32,
      "metadata": {
        "id": "FyU3yVkIrNyV"
      },
      "outputs": [],
      "source": [
        "p_model = Perceptron(fit_intercept=True, warm_start=False)"
      ]
    },
    {
      "cell_type": "code",
      "execution_count": 33,
      "metadata": {
        "colab": {
          "base_uri": "https://localhost:8080/"
        },
        "id": "KeW8-OWTrx3N",
        "outputId": "504d9a64-75ac-4acc-ab7d-a2a946644ed6"
      },
      "outputs": [
        {
          "data": {
            "text/plain": [
              "0.813"
            ]
          },
          "execution_count": 33,
          "metadata": {},
          "output_type": "execute_result"
        }
      ],
      "source": [
        "p_model.fit(X_train, y_train)\n",
        "p_model.score(X_train, y_train)"
      ]
    },
    {
      "cell_type": "code",
      "execution_count": 34,
      "metadata": {
        "id": "CpGLcK5-r2N_"
      },
      "outputs": [],
      "source": [
        "p_model2 = Perceptron(early_stopping=True, fit_intercept=True, warm_start=False)"
      ]
    },
    {
      "cell_type": "code",
      "execution_count": 35,
      "metadata": {
        "colab": {
          "base_uri": "https://localhost:8080/"
        },
        "id": "tftftRznsFkm",
        "outputId": "6a823b26-005e-4ba8-f6c8-32d2dfdcc24e"
      },
      "outputs": [
        {
          "data": {
            "text/plain": [
              "array([-6.])"
            ]
          },
          "execution_count": 35,
          "metadata": {},
          "output_type": "execute_result"
        }
      ],
      "source": [
        "p_model2.fit(X_train,y_train)\n",
        "p_model2.intercept_"
      ]
    },
    {
      "cell_type": "code",
      "execution_count": null,
      "metadata": {
        "id": "vIt2wblmsnjm"
      },
      "outputs": [],
      "source": []
    },
    {
      "cell_type": "code",
      "execution_count": 36,
      "metadata": {
        "id": "r231pX0SsLGk"
      },
      "outputs": [
        {
          "name": "stdout",
          "output_type": "stream",
          "text": [
            "\u001b[0;31mInit signature:\u001b[0m\n",
            "\u001b[0mSGDClassifier\u001b[0m\u001b[0;34m(\u001b[0m\u001b[0;34m\u001b[0m\n",
            "\u001b[0;34m\u001b[0m    \u001b[0mloss\u001b[0m\u001b[0;34m=\u001b[0m\u001b[0;34m'hinge'\u001b[0m\u001b[0;34m,\u001b[0m\u001b[0;34m\u001b[0m\n",
            "\u001b[0;34m\u001b[0m    \u001b[0;34m*\u001b[0m\u001b[0;34m,\u001b[0m\u001b[0;34m\u001b[0m\n",
            "\u001b[0;34m\u001b[0m    \u001b[0mpenalty\u001b[0m\u001b[0;34m=\u001b[0m\u001b[0;34m'l2'\u001b[0m\u001b[0;34m,\u001b[0m\u001b[0;34m\u001b[0m\n",
            "\u001b[0;34m\u001b[0m    \u001b[0malpha\u001b[0m\u001b[0;34m=\u001b[0m\u001b[0;36m0.0001\u001b[0m\u001b[0;34m,\u001b[0m\u001b[0;34m\u001b[0m\n",
            "\u001b[0;34m\u001b[0m    \u001b[0ml1_ratio\u001b[0m\u001b[0;34m=\u001b[0m\u001b[0;36m0.15\u001b[0m\u001b[0;34m,\u001b[0m\u001b[0;34m\u001b[0m\n",
            "\u001b[0;34m\u001b[0m    \u001b[0mfit_intercept\u001b[0m\u001b[0;34m=\u001b[0m\u001b[0;32mTrue\u001b[0m\u001b[0;34m,\u001b[0m\u001b[0;34m\u001b[0m\n",
            "\u001b[0;34m\u001b[0m    \u001b[0mmax_iter\u001b[0m\u001b[0;34m=\u001b[0m\u001b[0;36m1000\u001b[0m\u001b[0;34m,\u001b[0m\u001b[0;34m\u001b[0m\n",
            "\u001b[0;34m\u001b[0m    \u001b[0mtol\u001b[0m\u001b[0;34m=\u001b[0m\u001b[0;36m0.001\u001b[0m\u001b[0;34m,\u001b[0m\u001b[0;34m\u001b[0m\n",
            "\u001b[0;34m\u001b[0m    \u001b[0mshuffle\u001b[0m\u001b[0;34m=\u001b[0m\u001b[0;32mTrue\u001b[0m\u001b[0;34m,\u001b[0m\u001b[0;34m\u001b[0m\n",
            "\u001b[0;34m\u001b[0m    \u001b[0mverbose\u001b[0m\u001b[0;34m=\u001b[0m\u001b[0;36m0\u001b[0m\u001b[0;34m,\u001b[0m\u001b[0;34m\u001b[0m\n",
            "\u001b[0;34m\u001b[0m    \u001b[0mepsilon\u001b[0m\u001b[0;34m=\u001b[0m\u001b[0;36m0.1\u001b[0m\u001b[0;34m,\u001b[0m\u001b[0;34m\u001b[0m\n",
            "\u001b[0;34m\u001b[0m    \u001b[0mn_jobs\u001b[0m\u001b[0;34m=\u001b[0m\u001b[0;32mNone\u001b[0m\u001b[0;34m,\u001b[0m\u001b[0;34m\u001b[0m\n",
            "\u001b[0;34m\u001b[0m    \u001b[0mrandom_state\u001b[0m\u001b[0;34m=\u001b[0m\u001b[0;32mNone\u001b[0m\u001b[0;34m,\u001b[0m\u001b[0;34m\u001b[0m\n",
            "\u001b[0;34m\u001b[0m    \u001b[0mlearning_rate\u001b[0m\u001b[0;34m=\u001b[0m\u001b[0;34m'optimal'\u001b[0m\u001b[0;34m,\u001b[0m\u001b[0;34m\u001b[0m\n",
            "\u001b[0;34m\u001b[0m    \u001b[0meta0\u001b[0m\u001b[0;34m=\u001b[0m\u001b[0;36m0.0\u001b[0m\u001b[0;34m,\u001b[0m\u001b[0;34m\u001b[0m\n",
            "\u001b[0;34m\u001b[0m    \u001b[0mpower_t\u001b[0m\u001b[0;34m=\u001b[0m\u001b[0;36m0.5\u001b[0m\u001b[0;34m,\u001b[0m\u001b[0;34m\u001b[0m\n",
            "\u001b[0;34m\u001b[0m    \u001b[0mearly_stopping\u001b[0m\u001b[0;34m=\u001b[0m\u001b[0;32mFalse\u001b[0m\u001b[0;34m,\u001b[0m\u001b[0;34m\u001b[0m\n",
            "\u001b[0;34m\u001b[0m    \u001b[0mvalidation_fraction\u001b[0m\u001b[0;34m=\u001b[0m\u001b[0;36m0.1\u001b[0m\u001b[0;34m,\u001b[0m\u001b[0;34m\u001b[0m\n",
            "\u001b[0;34m\u001b[0m    \u001b[0mn_iter_no_change\u001b[0m\u001b[0;34m=\u001b[0m\u001b[0;36m5\u001b[0m\u001b[0;34m,\u001b[0m\u001b[0;34m\u001b[0m\n",
            "\u001b[0;34m\u001b[0m    \u001b[0mclass_weight\u001b[0m\u001b[0;34m=\u001b[0m\u001b[0;32mNone\u001b[0m\u001b[0;34m,\u001b[0m\u001b[0;34m\u001b[0m\n",
            "\u001b[0;34m\u001b[0m    \u001b[0mwarm_start\u001b[0m\u001b[0;34m=\u001b[0m\u001b[0;32mFalse\u001b[0m\u001b[0;34m,\u001b[0m\u001b[0;34m\u001b[0m\n",
            "\u001b[0;34m\u001b[0m    \u001b[0maverage\u001b[0m\u001b[0;34m=\u001b[0m\u001b[0;32mFalse\u001b[0m\u001b[0;34m,\u001b[0m\u001b[0;34m\u001b[0m\n",
            "\u001b[0;34m\u001b[0m\u001b[0;34m)\u001b[0m\u001b[0;34m\u001b[0m\u001b[0;34m\u001b[0m\u001b[0m\n",
            "\u001b[0;31mDocstring:\u001b[0m     \n",
            "Linear classifiers (SVM, logistic regression, etc.) with SGD training.\n",
            "\n",
            "This estimator implements regularized linear models with stochastic\n",
            "gradient descent (SGD) learning: the gradient of the loss is estimated\n",
            "each sample at a time and the model is updated along the way with a\n",
            "decreasing strength schedule (aka learning rate). SGD allows minibatch\n",
            "(online/out-of-core) learning via the `partial_fit` method.\n",
            "For best results using the default learning rate schedule, the data should\n",
            "have zero mean and unit variance.\n",
            "\n",
            "This implementation works with data represented as dense or sparse arrays\n",
            "of floating point values for the features. The model it fits can be\n",
            "controlled with the loss parameter; by default, it fits a linear support\n",
            "vector machine (SVM).\n",
            "\n",
            "The regularizer is a penalty added to the loss function that shrinks model\n",
            "parameters towards the zero vector using either the squared euclidean norm\n",
            "L2 or the absolute norm L1 or a combination of both (Elastic Net). If the\n",
            "parameter update crosses the 0.0 value because of the regularizer, the\n",
            "update is truncated to 0.0 to allow for learning sparse models and achieve\n",
            "online feature selection.\n",
            "\n",
            "Read more in the :ref:`User Guide <sgd>`.\n",
            "\n",
            "Parameters\n",
            "----------\n",
            "loss : {'hinge', 'log_loss', 'log', 'modified_huber', 'squared_hinge',        'perceptron', 'squared_error', 'huber', 'epsilon_insensitive',        'squared_epsilon_insensitive'}, default='hinge'\n",
            "    The loss function to be used.\n",
            "\n",
            "    - 'hinge' gives a linear SVM.\n",
            "    - 'log_loss' gives logistic regression, a probabilistic classifier.\n",
            "    - 'modified_huber' is another smooth loss that brings tolerance to\n",
            "       outliers as well as probability estimates.\n",
            "    - 'squared_hinge' is like hinge but is quadratically penalized.\n",
            "    - 'perceptron' is the linear loss used by the perceptron algorithm.\n",
            "    - The other losses, 'squared_error', 'huber', 'epsilon_insensitive' and\n",
            "      'squared_epsilon_insensitive' are designed for regression but can be useful\n",
            "      in classification as well; see\n",
            "      :class:`~sklearn.linear_model.SGDRegressor` for a description.\n",
            "\n",
            "    More details about the losses formulas can be found in the\n",
            "    :ref:`User Guide <sgd_mathematical_formulation>`.\n",
            "\n",
            "    .. deprecated:: 1.1\n",
            "        The loss 'log' was deprecated in v1.1 and will be removed\n",
            "        in version 1.3. Use `loss='log_loss'` which is equivalent.\n",
            "\n",
            "penalty : {'l2', 'l1', 'elasticnet', None}, default='l2'\n",
            "    The penalty (aka regularization term) to be used. Defaults to 'l2'\n",
            "    which is the standard regularizer for linear SVM models. 'l1' and\n",
            "    'elasticnet' might bring sparsity to the model (feature selection)\n",
            "    not achievable with 'l2'. No penalty is added when set to `None`.\n",
            "\n",
            "alpha : float, default=0.0001\n",
            "    Constant that multiplies the regularization term. The higher the\n",
            "    value, the stronger the regularization. Also used to compute the\n",
            "    learning rate when `learning_rate` is set to 'optimal'.\n",
            "    Values must be in the range `[0.0, inf)`.\n",
            "\n",
            "l1_ratio : float, default=0.15\n",
            "    The Elastic Net mixing parameter, with 0 <= l1_ratio <= 1.\n",
            "    l1_ratio=0 corresponds to L2 penalty, l1_ratio=1 to L1.\n",
            "    Only used if `penalty` is 'elasticnet'.\n",
            "    Values must be in the range `[0.0, 1.0]`.\n",
            "\n",
            "fit_intercept : bool, default=True\n",
            "    Whether the intercept should be estimated or not. If False, the\n",
            "    data is assumed to be already centered.\n",
            "\n",
            "max_iter : int, default=1000\n",
            "    The maximum number of passes over the training data (aka epochs).\n",
            "    It only impacts the behavior in the ``fit`` method, and not the\n",
            "    :meth:`partial_fit` method.\n",
            "    Values must be in the range `[1, inf)`.\n",
            "\n",
            "    .. versionadded:: 0.19\n",
            "\n",
            "tol : float or None, default=1e-3\n",
            "    The stopping criterion. If it is not None, training will stop\n",
            "    when (loss > best_loss - tol) for ``n_iter_no_change`` consecutive\n",
            "    epochs.\n",
            "    Convergence is checked against the training loss or the\n",
            "    validation loss depending on the `early_stopping` parameter.\n",
            "    Values must be in the range `[0.0, inf)`.\n",
            "\n",
            "    .. versionadded:: 0.19\n",
            "\n",
            "shuffle : bool, default=True\n",
            "    Whether or not the training data should be shuffled after each epoch.\n",
            "\n",
            "verbose : int, default=0\n",
            "    The verbosity level.\n",
            "    Values must be in the range `[0, inf)`.\n",
            "\n",
            "epsilon : float, default=0.1\n",
            "    Epsilon in the epsilon-insensitive loss functions; only if `loss` is\n",
            "    'huber', 'epsilon_insensitive', or 'squared_epsilon_insensitive'.\n",
            "    For 'huber', determines the threshold at which it becomes less\n",
            "    important to get the prediction exactly right.\n",
            "    For epsilon-insensitive, any differences between the current prediction\n",
            "    and the correct label are ignored if they are less than this threshold.\n",
            "    Values must be in the range `[0.0, inf)`.\n",
            "\n",
            "n_jobs : int, default=None\n",
            "    The number of CPUs to use to do the OVA (One Versus All, for\n",
            "    multi-class problems) computation.\n",
            "    ``None`` means 1 unless in a :obj:`joblib.parallel_backend` context.\n",
            "    ``-1`` means using all processors. See :term:`Glossary <n_jobs>`\n",
            "    for more details.\n",
            "\n",
            "random_state : int, RandomState instance, default=None\n",
            "    Used for shuffling the data, when ``shuffle`` is set to ``True``.\n",
            "    Pass an int for reproducible output across multiple function calls.\n",
            "    See :term:`Glossary <random_state>`.\n",
            "    Integer values must be in the range `[0, 2**32 - 1]`.\n",
            "\n",
            "learning_rate : str, default='optimal'\n",
            "    The learning rate schedule:\n",
            "\n",
            "    - 'constant': `eta = eta0`\n",
            "    - 'optimal': `eta = 1.0 / (alpha * (t + t0))`\n",
            "      where `t0` is chosen by a heuristic proposed by Leon Bottou.\n",
            "    - 'invscaling': `eta = eta0 / pow(t, power_t)`\n",
            "    - 'adaptive': `eta = eta0`, as long as the training keeps decreasing.\n",
            "      Each time n_iter_no_change consecutive epochs fail to decrease the\n",
            "      training loss by tol or fail to increase validation score by tol if\n",
            "      `early_stopping` is `True`, the current learning rate is divided by 5.\n",
            "\n",
            "        .. versionadded:: 0.20\n",
            "            Added 'adaptive' option\n",
            "\n",
            "eta0 : float, default=0.0\n",
            "    The initial learning rate for the 'constant', 'invscaling' or\n",
            "    'adaptive' schedules. The default value is 0.0 as eta0 is not used by\n",
            "    the default schedule 'optimal'.\n",
            "    Values must be in the range `(0.0, inf)`.\n",
            "\n",
            "power_t : float, default=0.5\n",
            "    The exponent for inverse scaling learning rate [default 0.5].\n",
            "    Values must be in the range `(-inf, inf)`.\n",
            "\n",
            "early_stopping : bool, default=False\n",
            "    Whether to use early stopping to terminate training when validation\n",
            "    score is not improving. If set to `True`, it will automatically set aside\n",
            "    a stratified fraction of training data as validation and terminate\n",
            "    training when validation score returned by the `score` method is not\n",
            "    improving by at least tol for n_iter_no_change consecutive epochs.\n",
            "\n",
            "    .. versionadded:: 0.20\n",
            "        Added 'early_stopping' option\n",
            "\n",
            "validation_fraction : float, default=0.1\n",
            "    The proportion of training data to set aside as validation set for\n",
            "    early stopping. Must be between 0 and 1.\n",
            "    Only used if `early_stopping` is True.\n",
            "    Values must be in the range `(0.0, 1.0)`.\n",
            "\n",
            "    .. versionadded:: 0.20\n",
            "        Added 'validation_fraction' option\n",
            "\n",
            "n_iter_no_change : int, default=5\n",
            "    Number of iterations with no improvement to wait before stopping\n",
            "    fitting.\n",
            "    Convergence is checked against the training loss or the\n",
            "    validation loss depending on the `early_stopping` parameter.\n",
            "    Integer values must be in the range `[1, max_iter)`.\n",
            "\n",
            "    .. versionadded:: 0.20\n",
            "        Added 'n_iter_no_change' option\n",
            "\n",
            "class_weight : dict, {class_label: weight} or \"balanced\", default=None\n",
            "    Preset for the class_weight fit parameter.\n",
            "\n",
            "    Weights associated with classes. If not given, all classes\n",
            "    are supposed to have weight one.\n",
            "\n",
            "    The \"balanced\" mode uses the values of y to automatically adjust\n",
            "    weights inversely proportional to class frequencies in the input data\n",
            "    as ``n_samples / (n_classes * np.bincount(y))``.\n",
            "\n",
            "warm_start : bool, default=False\n",
            "    When set to True, reuse the solution of the previous call to fit as\n",
            "    initialization, otherwise, just erase the previous solution.\n",
            "    See :term:`the Glossary <warm_start>`.\n",
            "\n",
            "    Repeatedly calling fit or partial_fit when warm_start is True can\n",
            "    result in a different solution than when calling fit a single time\n",
            "    because of the way the data is shuffled.\n",
            "    If a dynamic learning rate is used, the learning rate is adapted\n",
            "    depending on the number of samples already seen. Calling ``fit`` resets\n",
            "    this counter, while ``partial_fit`` will result in increasing the\n",
            "    existing counter.\n",
            "\n",
            "average : bool or int, default=False\n",
            "    When set to `True`, computes the averaged SGD weights across all\n",
            "    updates and stores the result in the ``coef_`` attribute. If set to\n",
            "    an int greater than 1, averaging will begin once the total number of\n",
            "    samples seen reaches `average`. So ``average=10`` will begin\n",
            "    averaging after seeing 10 samples.\n",
            "    Integer values must be in the range `[1, n_samples]`.\n",
            "\n",
            "Attributes\n",
            "----------\n",
            "coef_ : ndarray of shape (1, n_features) if n_classes == 2 else             (n_classes, n_features)\n",
            "    Weights assigned to the features.\n",
            "\n",
            "intercept_ : ndarray of shape (1,) if n_classes == 2 else (n_classes,)\n",
            "    Constants in decision function.\n",
            "\n",
            "n_iter_ : int\n",
            "    The actual number of iterations before reaching the stopping criterion.\n",
            "    For multiclass fits, it is the maximum over every binary fit.\n",
            "\n",
            "loss_function_ : concrete ``LossFunction``\n",
            "\n",
            "classes_ : array of shape (n_classes,)\n",
            "\n",
            "t_ : int\n",
            "    Number of weight updates performed during training.\n",
            "    Same as ``(n_iter_ * n_samples + 1)``.\n",
            "\n",
            "n_features_in_ : int\n",
            "    Number of features seen during :term:`fit`.\n",
            "\n",
            "    .. versionadded:: 0.24\n",
            "\n",
            "feature_names_in_ : ndarray of shape (`n_features_in_`,)\n",
            "    Names of features seen during :term:`fit`. Defined only when `X`\n",
            "    has feature names that are all strings.\n",
            "\n",
            "    .. versionadded:: 1.0\n",
            "\n",
            "See Also\n",
            "--------\n",
            "sklearn.svm.LinearSVC : Linear support vector classification.\n",
            "LogisticRegression : Logistic regression.\n",
            "Perceptron : Inherits from SGDClassifier. ``Perceptron()`` is equivalent to\n",
            "    ``SGDClassifier(loss=\"perceptron\", eta0=1, learning_rate=\"constant\",\n",
            "    penalty=None)``.\n",
            "\n",
            "Examples\n",
            "--------\n",
            ">>> import numpy as np\n",
            ">>> from sklearn.linear_model import SGDClassifier\n",
            ">>> from sklearn.preprocessing import StandardScaler\n",
            ">>> from sklearn.pipeline import make_pipeline\n",
            ">>> X = np.array([[-1, -1], [-2, -1], [1, 1], [2, 1]])\n",
            ">>> Y = np.array([1, 1, 2, 2])\n",
            ">>> # Always scale the input. The most convenient way is to use a pipeline.\n",
            ">>> clf = make_pipeline(StandardScaler(),\n",
            "...                     SGDClassifier(max_iter=1000, tol=1e-3))\n",
            ">>> clf.fit(X, Y)\n",
            "Pipeline(steps=[('standardscaler', StandardScaler()),\n",
            "                ('sgdclassifier', SGDClassifier())])\n",
            ">>> print(clf.predict([[-0.8, -1]]))\n",
            "[1]\n",
            "\u001b[0;31mFile:\u001b[0m           ~/Library/Python/3.9/lib/python/site-packages/sklearn/linear_model/_stochastic_gradient.py\n",
            "\u001b[0;31mType:\u001b[0m           ABCMeta\n",
            "\u001b[0;31mSubclasses:\u001b[0m     "
          ]
        }
      ],
      "source": [
        "# SGDClassifier on the training dataset (X_train and y_train)\n",
        "\n",
        "# log is the loss function to be used\n",
        "# apply ridge regularization,\n",
        "# maximum number of passes over the training data is 10\n",
        "# initial learning rate is 0.01,\n",
        "# regularization rate value is 0.001,\n",
        "# learning rate should not change during training.\n",
        "# Take random_state=64.\n",
        "# Set warm_state as False\n",
        "\n",
        "from sklearn.linear_model import SGDClassifier\n",
        "\n",
        "?SGDClassifier"
      ]
    },
    {
      "cell_type": "code",
      "execution_count": 37,
      "metadata": {
        "id": "0bo7kV9VsqZt"
      },
      "outputs": [],
      "source": [
        "sgd_model = SGDClassifier(loss = 'log',\n",
        "                          penalty = 'l2',\n",
        "                          max_iter = 10,\n",
        "                          eta0 = .01,\n",
        "                          alpha = 0.001,\n",
        "                          learning_rate = 'constant',\n",
        "                          random_state = 64,\n",
        "                          warm_start = False\n",
        "                          )"
      ]
    },
    {
      "cell_type": "code",
      "execution_count": 38,
      "metadata": {
        "colab": {
          "base_uri": "https://localhost:8080/",
          "height": 148
        },
        "id": "JDy9hO_5ugjU",
        "outputId": "670f3616-f7f1-4d61-a206-c13624eac741"
      },
      "outputs": [
        {
          "name": "stderr",
          "output_type": "stream",
          "text": [
            "/Users/priyanshu/Library/Python/3.9/lib/python/site-packages/sklearn/linear_model/_stochastic_gradient.py:163: FutureWarning: The loss 'log' was deprecated in v1.1 and will be removed in version 1.3. Use `loss='log_loss'` which is equivalent.\n",
            "  warnings.warn(\n"
          ]
        },
        {
          "data": {
            "text/html": [
              "<style>#sk-container-id-1 {color: black;background-color: white;}#sk-container-id-1 pre{padding: 0;}#sk-container-id-1 div.sk-toggleable {background-color: white;}#sk-container-id-1 label.sk-toggleable__label {cursor: pointer;display: block;width: 100%;margin-bottom: 0;padding: 0.3em;box-sizing: border-box;text-align: center;}#sk-container-id-1 label.sk-toggleable__label-arrow:before {content: \"▸\";float: left;margin-right: 0.25em;color: #696969;}#sk-container-id-1 label.sk-toggleable__label-arrow:hover:before {color: black;}#sk-container-id-1 div.sk-estimator:hover label.sk-toggleable__label-arrow:before {color: black;}#sk-container-id-1 div.sk-toggleable__content {max-height: 0;max-width: 0;overflow: hidden;text-align: left;background-color: #f0f8ff;}#sk-container-id-1 div.sk-toggleable__content pre {margin: 0.2em;color: black;border-radius: 0.25em;background-color: #f0f8ff;}#sk-container-id-1 input.sk-toggleable__control:checked~div.sk-toggleable__content {max-height: 200px;max-width: 100%;overflow: auto;}#sk-container-id-1 input.sk-toggleable__control:checked~label.sk-toggleable__label-arrow:before {content: \"▾\";}#sk-container-id-1 div.sk-estimator input.sk-toggleable__control:checked~label.sk-toggleable__label {background-color: #d4ebff;}#sk-container-id-1 div.sk-label input.sk-toggleable__control:checked~label.sk-toggleable__label {background-color: #d4ebff;}#sk-container-id-1 input.sk-hidden--visually {border: 0;clip: rect(1px 1px 1px 1px);clip: rect(1px, 1px, 1px, 1px);height: 1px;margin: -1px;overflow: hidden;padding: 0;position: absolute;width: 1px;}#sk-container-id-1 div.sk-estimator {font-family: monospace;background-color: #f0f8ff;border: 1px dotted black;border-radius: 0.25em;box-sizing: border-box;margin-bottom: 0.5em;}#sk-container-id-1 div.sk-estimator:hover {background-color: #d4ebff;}#sk-container-id-1 div.sk-parallel-item::after {content: \"\";width: 100%;border-bottom: 1px solid gray;flex-grow: 1;}#sk-container-id-1 div.sk-label:hover label.sk-toggleable__label {background-color: #d4ebff;}#sk-container-id-1 div.sk-serial::before {content: \"\";position: absolute;border-left: 1px solid gray;box-sizing: border-box;top: 0;bottom: 0;left: 50%;z-index: 0;}#sk-container-id-1 div.sk-serial {display: flex;flex-direction: column;align-items: center;background-color: white;padding-right: 0.2em;padding-left: 0.2em;position: relative;}#sk-container-id-1 div.sk-item {position: relative;z-index: 1;}#sk-container-id-1 div.sk-parallel {display: flex;align-items: stretch;justify-content: center;background-color: white;position: relative;}#sk-container-id-1 div.sk-item::before, #sk-container-id-1 div.sk-parallel-item::before {content: \"\";position: absolute;border-left: 1px solid gray;box-sizing: border-box;top: 0;bottom: 0;left: 50%;z-index: -1;}#sk-container-id-1 div.sk-parallel-item {display: flex;flex-direction: column;z-index: 1;position: relative;background-color: white;}#sk-container-id-1 div.sk-parallel-item:first-child::after {align-self: flex-end;width: 50%;}#sk-container-id-1 div.sk-parallel-item:last-child::after {align-self: flex-start;width: 50%;}#sk-container-id-1 div.sk-parallel-item:only-child::after {width: 0;}#sk-container-id-1 div.sk-dashed-wrapped {border: 1px dashed gray;margin: 0 0.4em 0.5em 0.4em;box-sizing: border-box;padding-bottom: 0.4em;background-color: white;}#sk-container-id-1 div.sk-label label {font-family: monospace;font-weight: bold;display: inline-block;line-height: 1.2em;}#sk-container-id-1 div.sk-label-container {text-align: center;}#sk-container-id-1 div.sk-container {/* jupyter's `normalize.less` sets `[hidden] { display: none; }` but bootstrap.min.css set `[hidden] { display: none !important; }` so we also need the `!important` here to be able to override the default hidden behavior on the sphinx rendered scikit-learn.org. See: https://github.com/scikit-learn/scikit-learn/issues/21755 */display: inline-block !important;position: relative;}#sk-container-id-1 div.sk-text-repr-fallback {display: none;}</style><div id=\"sk-container-id-1\" class=\"sk-top-container\"><div class=\"sk-text-repr-fallback\"><pre>SGDClassifier(alpha=0.001, eta0=0.01, learning_rate=&#x27;constant&#x27;, loss=&#x27;log&#x27;,\n",
              "              max_iter=10, random_state=64)</pre><b>In a Jupyter environment, please rerun this cell to show the HTML representation or trust the notebook. <br />On GitHub, the HTML representation is unable to render, please try loading this page with nbviewer.org.</b></div><div class=\"sk-container\" hidden><div class=\"sk-item\"><div class=\"sk-estimator sk-toggleable\"><input class=\"sk-toggleable__control sk-hidden--visually\" id=\"sk-estimator-id-1\" type=\"checkbox\" checked><label for=\"sk-estimator-id-1\" class=\"sk-toggleable__label sk-toggleable__label-arrow\">SGDClassifier</label><div class=\"sk-toggleable__content\"><pre>SGDClassifier(alpha=0.001, eta0=0.01, learning_rate=&#x27;constant&#x27;, loss=&#x27;log&#x27;,\n",
              "              max_iter=10, random_state=64)</pre></div></div></div></div></div>"
            ],
            "text/plain": [
              "SGDClassifier(alpha=0.001, eta0=0.01, learning_rate='constant', loss='log',\n",
              "              max_iter=10, random_state=64)"
            ]
          },
          "execution_count": 38,
          "metadata": {},
          "output_type": "execute_result"
        }
      ],
      "source": [
        "sgd_model.fit(X_train, y_train)\n"
      ]
    },
    {
      "cell_type": "code",
      "execution_count": 39,
      "metadata": {
        "colab": {
          "base_uri": "https://localhost:8080/"
        },
        "id": "NXhjsGcwuz-S",
        "outputId": "6ecec3c1-9596-4766-88fe-5221d13939e5"
      },
      "outputs": [
        {
          "data": {
            "text/plain": [
              "0.8510625"
            ]
          },
          "execution_count": 39,
          "metadata": {},
          "output_type": "execute_result"
        }
      ],
      "source": [
        "sgd_model.score(X_train, y_train)"
      ]
    },
    {
      "cell_type": "code",
      "execution_count": 40,
      "metadata": {
        "id": "xTt-BQsixk_a"
      },
      "outputs": [
        {
          "name": "stdout",
          "output_type": "stream",
          "text": [
            "\u001b[0;31mInit signature:\u001b[0m\n",
            "\u001b[0mLogisticRegression\u001b[0m\u001b[0;34m(\u001b[0m\u001b[0;34m\u001b[0m\n",
            "\u001b[0;34m\u001b[0m    \u001b[0mpenalty\u001b[0m\u001b[0;34m=\u001b[0m\u001b[0;34m'l2'\u001b[0m\u001b[0;34m,\u001b[0m\u001b[0;34m\u001b[0m\n",
            "\u001b[0;34m\u001b[0m    \u001b[0;34m*\u001b[0m\u001b[0;34m,\u001b[0m\u001b[0;34m\u001b[0m\n",
            "\u001b[0;34m\u001b[0m    \u001b[0mdual\u001b[0m\u001b[0;34m=\u001b[0m\u001b[0;32mFalse\u001b[0m\u001b[0;34m,\u001b[0m\u001b[0;34m\u001b[0m\n",
            "\u001b[0;34m\u001b[0m    \u001b[0mtol\u001b[0m\u001b[0;34m=\u001b[0m\u001b[0;36m0.0001\u001b[0m\u001b[0;34m,\u001b[0m\u001b[0;34m\u001b[0m\n",
            "\u001b[0;34m\u001b[0m    \u001b[0mC\u001b[0m\u001b[0;34m=\u001b[0m\u001b[0;36m1.0\u001b[0m\u001b[0;34m,\u001b[0m\u001b[0;34m\u001b[0m\n",
            "\u001b[0;34m\u001b[0m    \u001b[0mfit_intercept\u001b[0m\u001b[0;34m=\u001b[0m\u001b[0;32mTrue\u001b[0m\u001b[0;34m,\u001b[0m\u001b[0;34m\u001b[0m\n",
            "\u001b[0;34m\u001b[0m    \u001b[0mintercept_scaling\u001b[0m\u001b[0;34m=\u001b[0m\u001b[0;36m1\u001b[0m\u001b[0;34m,\u001b[0m\u001b[0;34m\u001b[0m\n",
            "\u001b[0;34m\u001b[0m    \u001b[0mclass_weight\u001b[0m\u001b[0;34m=\u001b[0m\u001b[0;32mNone\u001b[0m\u001b[0;34m,\u001b[0m\u001b[0;34m\u001b[0m\n",
            "\u001b[0;34m\u001b[0m    \u001b[0mrandom_state\u001b[0m\u001b[0;34m=\u001b[0m\u001b[0;32mNone\u001b[0m\u001b[0;34m,\u001b[0m\u001b[0;34m\u001b[0m\n",
            "\u001b[0;34m\u001b[0m    \u001b[0msolver\u001b[0m\u001b[0;34m=\u001b[0m\u001b[0;34m'lbfgs'\u001b[0m\u001b[0;34m,\u001b[0m\u001b[0;34m\u001b[0m\n",
            "\u001b[0;34m\u001b[0m    \u001b[0mmax_iter\u001b[0m\u001b[0;34m=\u001b[0m\u001b[0;36m100\u001b[0m\u001b[0;34m,\u001b[0m\u001b[0;34m\u001b[0m\n",
            "\u001b[0;34m\u001b[0m    \u001b[0mmulti_class\u001b[0m\u001b[0;34m=\u001b[0m\u001b[0;34m'auto'\u001b[0m\u001b[0;34m,\u001b[0m\u001b[0;34m\u001b[0m\n",
            "\u001b[0;34m\u001b[0m    \u001b[0mverbose\u001b[0m\u001b[0;34m=\u001b[0m\u001b[0;36m0\u001b[0m\u001b[0;34m,\u001b[0m\u001b[0;34m\u001b[0m\n",
            "\u001b[0;34m\u001b[0m    \u001b[0mwarm_start\u001b[0m\u001b[0;34m=\u001b[0m\u001b[0;32mFalse\u001b[0m\u001b[0;34m,\u001b[0m\u001b[0;34m\u001b[0m\n",
            "\u001b[0;34m\u001b[0m    \u001b[0mn_jobs\u001b[0m\u001b[0;34m=\u001b[0m\u001b[0;32mNone\u001b[0m\u001b[0;34m,\u001b[0m\u001b[0;34m\u001b[0m\n",
            "\u001b[0;34m\u001b[0m    \u001b[0ml1_ratio\u001b[0m\u001b[0;34m=\u001b[0m\u001b[0;32mNone\u001b[0m\u001b[0;34m,\u001b[0m\u001b[0;34m\u001b[0m\n",
            "\u001b[0;34m\u001b[0m\u001b[0;34m)\u001b[0m\u001b[0;34m\u001b[0m\u001b[0;34m\u001b[0m\u001b[0m\n",
            "\u001b[0;31mDocstring:\u001b[0m     \n",
            "Logistic Regression (aka logit, MaxEnt) classifier.\n",
            "\n",
            "In the multiclass case, the training algorithm uses the one-vs-rest (OvR)\n",
            "scheme if the 'multi_class' option is set to 'ovr', and uses the\n",
            "cross-entropy loss if the 'multi_class' option is set to 'multinomial'.\n",
            "(Currently the 'multinomial' option is supported only by the 'lbfgs',\n",
            "'sag', 'saga' and 'newton-cg' solvers.)\n",
            "\n",
            "This class implements regularized logistic regression using the\n",
            "'liblinear' library, 'newton-cg', 'sag', 'saga' and 'lbfgs' solvers. **Note\n",
            "that regularization is applied by default**. It can handle both dense\n",
            "and sparse input. Use C-ordered arrays or CSR matrices containing 64-bit\n",
            "floats for optimal performance; any other input format will be converted\n",
            "(and copied).\n",
            "\n",
            "The 'newton-cg', 'sag', and 'lbfgs' solvers support only L2 regularization\n",
            "with primal formulation, or no regularization. The 'liblinear' solver\n",
            "supports both L1 and L2 regularization, with a dual formulation only for\n",
            "the L2 penalty. The Elastic-Net regularization is only supported by the\n",
            "'saga' solver.\n",
            "\n",
            "Read more in the :ref:`User Guide <logistic_regression>`.\n",
            "\n",
            "Parameters\n",
            "----------\n",
            "penalty : {'l1', 'l2', 'elasticnet', None}, default='l2'\n",
            "    Specify the norm of the penalty:\n",
            "\n",
            "    - `None`: no penalty is added;\n",
            "    - `'l2'`: add a L2 penalty term and it is the default choice;\n",
            "    - `'l1'`: add a L1 penalty term;\n",
            "    - `'elasticnet'`: both L1 and L2 penalty terms are added.\n",
            "\n",
            "    .. warning::\n",
            "       Some penalties may not work with some solvers. See the parameter\n",
            "       `solver` below, to know the compatibility between the penalty and\n",
            "       solver.\n",
            "\n",
            "    .. versionadded:: 0.19\n",
            "       l1 penalty with SAGA solver (allowing 'multinomial' + L1)\n",
            "\n",
            "    .. deprecated:: 1.2\n",
            "       The 'none' option was deprecated in version 1.2, and will be removed\n",
            "       in 1.4. Use `None` instead.\n",
            "\n",
            "dual : bool, default=False\n",
            "    Dual or primal formulation. Dual formulation is only implemented for\n",
            "    l2 penalty with liblinear solver. Prefer dual=False when\n",
            "    n_samples > n_features.\n",
            "\n",
            "tol : float, default=1e-4\n",
            "    Tolerance for stopping criteria.\n",
            "\n",
            "C : float, default=1.0\n",
            "    Inverse of regularization strength; must be a positive float.\n",
            "    Like in support vector machines, smaller values specify stronger\n",
            "    regularization.\n",
            "\n",
            "fit_intercept : bool, default=True\n",
            "    Specifies if a constant (a.k.a. bias or intercept) should be\n",
            "    added to the decision function.\n",
            "\n",
            "intercept_scaling : float, default=1\n",
            "    Useful only when the solver 'liblinear' is used\n",
            "    and self.fit_intercept is set to True. In this case, x becomes\n",
            "    [x, self.intercept_scaling],\n",
            "    i.e. a \"synthetic\" feature with constant value equal to\n",
            "    intercept_scaling is appended to the instance vector.\n",
            "    The intercept becomes ``intercept_scaling * synthetic_feature_weight``.\n",
            "\n",
            "    Note! the synthetic feature weight is subject to l1/l2 regularization\n",
            "    as all other features.\n",
            "    To lessen the effect of regularization on synthetic feature weight\n",
            "    (and therefore on the intercept) intercept_scaling has to be increased.\n",
            "\n",
            "class_weight : dict or 'balanced', default=None\n",
            "    Weights associated with classes in the form ``{class_label: weight}``.\n",
            "    If not given, all classes are supposed to have weight one.\n",
            "\n",
            "    The \"balanced\" mode uses the values of y to automatically adjust\n",
            "    weights inversely proportional to class frequencies in the input data\n",
            "    as ``n_samples / (n_classes * np.bincount(y))``.\n",
            "\n",
            "    Note that these weights will be multiplied with sample_weight (passed\n",
            "    through the fit method) if sample_weight is specified.\n",
            "\n",
            "    .. versionadded:: 0.17\n",
            "       *class_weight='balanced'*\n",
            "\n",
            "random_state : int, RandomState instance, default=None\n",
            "    Used when ``solver`` == 'sag', 'saga' or 'liblinear' to shuffle the\n",
            "    data. See :term:`Glossary <random_state>` for details.\n",
            "\n",
            "solver : {'lbfgs', 'liblinear', 'newton-cg', 'newton-cholesky', 'sag', 'saga'},             default='lbfgs'\n",
            "\n",
            "    Algorithm to use in the optimization problem. Default is 'lbfgs'.\n",
            "    To choose a solver, you might want to consider the following aspects:\n",
            "\n",
            "        - For small datasets, 'liblinear' is a good choice, whereas 'sag'\n",
            "          and 'saga' are faster for large ones;\n",
            "        - For multiclass problems, only 'newton-cg', 'sag', 'saga' and\n",
            "          'lbfgs' handle multinomial loss;\n",
            "        - 'liblinear' is limited to one-versus-rest schemes.\n",
            "        - 'newton-cholesky' is a good choice for `n_samples` >> `n_features`,\n",
            "          especially with one-hot encoded categorical features with rare\n",
            "          categories. Note that it is limited to binary classification and the\n",
            "          one-versus-rest reduction for multiclass classification. Be aware that\n",
            "          the memory usage of this solver has a quadratic dependency on\n",
            "          `n_features` because it explicitly computes the Hessian matrix.\n",
            "\n",
            "    .. warning::\n",
            "       The choice of the algorithm depends on the penalty chosen.\n",
            "       Supported penalties by solver:\n",
            "\n",
            "       - 'lbfgs'           -   ['l2', None]\n",
            "       - 'liblinear'       -   ['l1', 'l2']\n",
            "       - 'newton-cg'       -   ['l2', None]\n",
            "       - 'newton-cholesky' -   ['l2', None]\n",
            "       - 'sag'             -   ['l2', None]\n",
            "       - 'saga'            -   ['elasticnet', 'l1', 'l2', None]\n",
            "\n",
            "    .. note::\n",
            "       'sag' and 'saga' fast convergence is only guaranteed on features\n",
            "       with approximately the same scale. You can preprocess the data with\n",
            "       a scaler from :mod:`sklearn.preprocessing`.\n",
            "\n",
            "    .. seealso::\n",
            "       Refer to the User Guide for more information regarding\n",
            "       :class:`LogisticRegression` and more specifically the\n",
            "       :ref:`Table <Logistic_regression>`\n",
            "       summarizing solver/penalty supports.\n",
            "\n",
            "    .. versionadded:: 0.17\n",
            "       Stochastic Average Gradient descent solver.\n",
            "    .. versionadded:: 0.19\n",
            "       SAGA solver.\n",
            "    .. versionchanged:: 0.22\n",
            "        The default solver changed from 'liblinear' to 'lbfgs' in 0.22.\n",
            "    .. versionadded:: 1.2\n",
            "       newton-cholesky solver.\n",
            "\n",
            "max_iter : int, default=100\n",
            "    Maximum number of iterations taken for the solvers to converge.\n",
            "\n",
            "multi_class : {'auto', 'ovr', 'multinomial'}, default='auto'\n",
            "    If the option chosen is 'ovr', then a binary problem is fit for each\n",
            "    label. For 'multinomial' the loss minimised is the multinomial loss fit\n",
            "    across the entire probability distribution, *even when the data is\n",
            "    binary*. 'multinomial' is unavailable when solver='liblinear'.\n",
            "    'auto' selects 'ovr' if the data is binary, or if solver='liblinear',\n",
            "    and otherwise selects 'multinomial'.\n",
            "\n",
            "    .. versionadded:: 0.18\n",
            "       Stochastic Average Gradient descent solver for 'multinomial' case.\n",
            "    .. versionchanged:: 0.22\n",
            "        Default changed from 'ovr' to 'auto' in 0.22.\n",
            "\n",
            "verbose : int, default=0\n",
            "    For the liblinear and lbfgs solvers set verbose to any positive\n",
            "    number for verbosity.\n",
            "\n",
            "warm_start : bool, default=False\n",
            "    When set to True, reuse the solution of the previous call to fit as\n",
            "    initialization, otherwise, just erase the previous solution.\n",
            "    Useless for liblinear solver. See :term:`the Glossary <warm_start>`.\n",
            "\n",
            "    .. versionadded:: 0.17\n",
            "       *warm_start* to support *lbfgs*, *newton-cg*, *sag*, *saga* solvers.\n",
            "\n",
            "n_jobs : int, default=None\n",
            "    Number of CPU cores used when parallelizing over classes if\n",
            "    multi_class='ovr'\". This parameter is ignored when the ``solver`` is\n",
            "    set to 'liblinear' regardless of whether 'multi_class' is specified or\n",
            "    not. ``None`` means 1 unless in a :obj:`joblib.parallel_backend`\n",
            "    context. ``-1`` means using all processors.\n",
            "    See :term:`Glossary <n_jobs>` for more details.\n",
            "\n",
            "l1_ratio : float, default=None\n",
            "    The Elastic-Net mixing parameter, with ``0 <= l1_ratio <= 1``. Only\n",
            "    used if ``penalty='elasticnet'``. Setting ``l1_ratio=0`` is equivalent\n",
            "    to using ``penalty='l2'``, while setting ``l1_ratio=1`` is equivalent\n",
            "    to using ``penalty='l1'``. For ``0 < l1_ratio <1``, the penalty is a\n",
            "    combination of L1 and L2.\n",
            "\n",
            "Attributes\n",
            "----------\n",
            "\n",
            "classes_ : ndarray of shape (n_classes, )\n",
            "    A list of class labels known to the classifier.\n",
            "\n",
            "coef_ : ndarray of shape (1, n_features) or (n_classes, n_features)\n",
            "    Coefficient of the features in the decision function.\n",
            "\n",
            "    `coef_` is of shape (1, n_features) when the given problem is binary.\n",
            "    In particular, when `multi_class='multinomial'`, `coef_` corresponds\n",
            "    to outcome 1 (True) and `-coef_` corresponds to outcome 0 (False).\n",
            "\n",
            "intercept_ : ndarray of shape (1,) or (n_classes,)\n",
            "    Intercept (a.k.a. bias) added to the decision function.\n",
            "\n",
            "    If `fit_intercept` is set to False, the intercept is set to zero.\n",
            "    `intercept_` is of shape (1,) when the given problem is binary.\n",
            "    In particular, when `multi_class='multinomial'`, `intercept_`\n",
            "    corresponds to outcome 1 (True) and `-intercept_` corresponds to\n",
            "    outcome 0 (False).\n",
            "\n",
            "n_features_in_ : int\n",
            "    Number of features seen during :term:`fit`.\n",
            "\n",
            "    .. versionadded:: 0.24\n",
            "\n",
            "feature_names_in_ : ndarray of shape (`n_features_in_`,)\n",
            "    Names of features seen during :term:`fit`. Defined only when `X`\n",
            "    has feature names that are all strings.\n",
            "\n",
            "    .. versionadded:: 1.0\n",
            "\n",
            "n_iter_ : ndarray of shape (n_classes,) or (1, )\n",
            "    Actual number of iterations for all classes. If binary or multinomial,\n",
            "    it returns only 1 element. For liblinear solver, only the maximum\n",
            "    number of iteration across all classes is given.\n",
            "\n",
            "    .. versionchanged:: 0.20\n",
            "\n",
            "        In SciPy <= 1.0.0 the number of lbfgs iterations may exceed\n",
            "        ``max_iter``. ``n_iter_`` will now report at most ``max_iter``.\n",
            "\n",
            "See Also\n",
            "--------\n",
            "SGDClassifier : Incrementally trained logistic regression (when given\n",
            "    the parameter ``loss=\"log\"``).\n",
            "LogisticRegressionCV : Logistic regression with built-in cross validation.\n",
            "\n",
            "Notes\n",
            "-----\n",
            "The underlying C implementation uses a random number generator to\n",
            "select features when fitting the model. It is thus not uncommon,\n",
            "to have slightly different results for the same input data. If\n",
            "that happens, try with a smaller tol parameter.\n",
            "\n",
            "Predict output may not match that of standalone liblinear in certain\n",
            "cases. See :ref:`differences from liblinear <liblinear_differences>`\n",
            "in the narrative documentation.\n",
            "\n",
            "References\n",
            "----------\n",
            "\n",
            "L-BFGS-B -- Software for Large-scale Bound-constrained Optimization\n",
            "    Ciyou Zhu, Richard Byrd, Jorge Nocedal and Jose Luis Morales.\n",
            "    http://users.iems.northwestern.edu/~nocedal/lbfgsb.html\n",
            "\n",
            "LIBLINEAR -- A Library for Large Linear Classification\n",
            "    https://www.csie.ntu.edu.tw/~cjlin/liblinear/\n",
            "\n",
            "SAG -- Mark Schmidt, Nicolas Le Roux, and Francis Bach\n",
            "    Minimizing Finite Sums with the Stochastic Average Gradient\n",
            "    https://hal.inria.fr/hal-00860051/document\n",
            "\n",
            "SAGA -- Defazio, A., Bach F. & Lacoste-Julien S. (2014).\n",
            "        :arxiv:`\"SAGA: A Fast Incremental Gradient Method With Support\n",
            "        for Non-Strongly Convex Composite Objectives\" <1407.0202>`\n",
            "\n",
            "Hsiang-Fu Yu, Fang-Lan Huang, Chih-Jen Lin (2011). Dual coordinate descent\n",
            "    methods for logistic regression and maximum entropy models.\n",
            "    Machine Learning 85(1-2):41-75.\n",
            "    https://www.csie.ntu.edu.tw/~cjlin/papers/maxent_dual.pdf\n",
            "\n",
            "Examples\n",
            "--------\n",
            ">>> from sklearn.datasets import load_iris\n",
            ">>> from sklearn.linear_model import LogisticRegression\n",
            ">>> X, y = load_iris(return_X_y=True)\n",
            ">>> clf = LogisticRegression(random_state=0).fit(X, y)\n",
            ">>> clf.predict(X[:2, :])\n",
            "array([0, 0])\n",
            ">>> clf.predict_proba(X[:2, :])\n",
            "array([[9.8...e-01, 1.8...e-02, 1.4...e-08],\n",
            "       [9.7...e-01, 2.8...e-02, ...e-08]])\n",
            ">>> clf.score(X, y)\n",
            "0.97...\n",
            "\u001b[0;31mFile:\u001b[0m           ~/Library/Python/3.9/lib/python/site-packages/sklearn/linear_model/_logistic.py\n",
            "\u001b[0;31mType:\u001b[0m           type\n",
            "\u001b[0;31mSubclasses:\u001b[0m     LogisticRegressionCV"
          ]
        }
      ],
      "source": [
        "from sklearn.linear_model import LogisticRegression\n",
        "?LogisticRegression\n",
        "\n",
        "# Use sag as solver\n",
        "# Set random state to be equal to 64\n",
        "# Tolerance for stopping criteria to be 1e-3\n",
        "# Maximum number of iterations taken for the solvers to converge to be 100"
      ]
    },
    {
      "cell_type": "code",
      "execution_count": 41,
      "metadata": {
        "id": "KWDQUQkxxtkx"
      },
      "outputs": [
        {
          "name": "stderr",
          "output_type": "stream",
          "text": [
            "/Users/priyanshu/Library/Python/3.9/lib/python/site-packages/sklearn/linear_model/_sag.py:350: ConvergenceWarning: The max_iter was reached which means the coef_ did not converge\n",
            "  warnings.warn(\n"
          ]
        }
      ],
      "source": [
        "lr = LogisticRegression(solver='sag',\n",
        "                        random_state=64,\n",
        "                        tol=1e-3,\n",
        "                        max_iter=100)\n",
        "lr.fit(X_train,y_train)\n",
        "y_pred = lr.predict(X_train)"
      ]
    },
    {
      "cell_type": "code",
      "execution_count": 42,
      "metadata": {
        "id": "w8eQqQNHyT-I"
      },
      "outputs": [
        {
          "data": {
            "text/plain": [
              "0.7630706745050128"
            ]
          },
          "execution_count": 42,
          "metadata": {},
          "output_type": "execute_result"
        }
      ],
      "source": [
        "from sklearn.metrics import recall_score\n",
        "recall_score(y_train, y_pred, average='macro')"
      ]
    },
    {
      "cell_type": "code",
      "execution_count": 43,
      "metadata": {
        "id": "MBXZLZG4zZ4_"
      },
      "outputs": [
        {
          "name": "stdout",
          "output_type": "stream",
          "text": [
            "\u001b[0;31mInit signature:\u001b[0m\n",
            "\u001b[0mGridSearchCV\u001b[0m\u001b[0;34m(\u001b[0m\u001b[0;34m\u001b[0m\n",
            "\u001b[0;34m\u001b[0m    \u001b[0mestimator\u001b[0m\u001b[0;34m,\u001b[0m\u001b[0;34m\u001b[0m\n",
            "\u001b[0;34m\u001b[0m    \u001b[0mparam_grid\u001b[0m\u001b[0;34m,\u001b[0m\u001b[0;34m\u001b[0m\n",
            "\u001b[0;34m\u001b[0m    \u001b[0;34m*\u001b[0m\u001b[0;34m,\u001b[0m\u001b[0;34m\u001b[0m\n",
            "\u001b[0;34m\u001b[0m    \u001b[0mscoring\u001b[0m\u001b[0;34m=\u001b[0m\u001b[0;32mNone\u001b[0m\u001b[0;34m,\u001b[0m\u001b[0;34m\u001b[0m\n",
            "\u001b[0;34m\u001b[0m    \u001b[0mn_jobs\u001b[0m\u001b[0;34m=\u001b[0m\u001b[0;32mNone\u001b[0m\u001b[0;34m,\u001b[0m\u001b[0;34m\u001b[0m\n",
            "\u001b[0;34m\u001b[0m    \u001b[0mrefit\u001b[0m\u001b[0;34m=\u001b[0m\u001b[0;32mTrue\u001b[0m\u001b[0;34m,\u001b[0m\u001b[0;34m\u001b[0m\n",
            "\u001b[0;34m\u001b[0m    \u001b[0mcv\u001b[0m\u001b[0;34m=\u001b[0m\u001b[0;32mNone\u001b[0m\u001b[0;34m,\u001b[0m\u001b[0;34m\u001b[0m\n",
            "\u001b[0;34m\u001b[0m    \u001b[0mverbose\u001b[0m\u001b[0;34m=\u001b[0m\u001b[0;36m0\u001b[0m\u001b[0;34m,\u001b[0m\u001b[0;34m\u001b[0m\n",
            "\u001b[0;34m\u001b[0m    \u001b[0mpre_dispatch\u001b[0m\u001b[0;34m=\u001b[0m\u001b[0;34m'2*n_jobs'\u001b[0m\u001b[0;34m,\u001b[0m\u001b[0;34m\u001b[0m\n",
            "\u001b[0;34m\u001b[0m    \u001b[0merror_score\u001b[0m\u001b[0;34m=\u001b[0m\u001b[0mnan\u001b[0m\u001b[0;34m,\u001b[0m\u001b[0;34m\u001b[0m\n",
            "\u001b[0;34m\u001b[0m    \u001b[0mreturn_train_score\u001b[0m\u001b[0;34m=\u001b[0m\u001b[0;32mFalse\u001b[0m\u001b[0;34m,\u001b[0m\u001b[0;34m\u001b[0m\n",
            "\u001b[0;34m\u001b[0m\u001b[0;34m)\u001b[0m\u001b[0;34m\u001b[0m\u001b[0;34m\u001b[0m\u001b[0m\n",
            "\u001b[0;31mDocstring:\u001b[0m     \n",
            "Exhaustive search over specified parameter values for an estimator.\n",
            "\n",
            "Important members are fit, predict.\n",
            "\n",
            "GridSearchCV implements a \"fit\" and a \"score\" method.\n",
            "It also implements \"score_samples\", \"predict\", \"predict_proba\",\n",
            "\"decision_function\", \"transform\" and \"inverse_transform\" if they are\n",
            "implemented in the estimator used.\n",
            "\n",
            "The parameters of the estimator used to apply these methods are optimized\n",
            "by cross-validated grid-search over a parameter grid.\n",
            "\n",
            "Read more in the :ref:`User Guide <grid_search>`.\n",
            "\n",
            "Parameters\n",
            "----------\n",
            "estimator : estimator object\n",
            "    This is assumed to implement the scikit-learn estimator interface.\n",
            "    Either estimator needs to provide a ``score`` function,\n",
            "    or ``scoring`` must be passed.\n",
            "\n",
            "param_grid : dict or list of dictionaries\n",
            "    Dictionary with parameters names (`str`) as keys and lists of\n",
            "    parameter settings to try as values, or a list of such\n",
            "    dictionaries, in which case the grids spanned by each dictionary\n",
            "    in the list are explored. This enables searching over any sequence\n",
            "    of parameter settings.\n",
            "\n",
            "scoring : str, callable, list, tuple or dict, default=None\n",
            "    Strategy to evaluate the performance of the cross-validated model on\n",
            "    the test set.\n",
            "\n",
            "    If `scoring` represents a single score, one can use:\n",
            "\n",
            "    - a single string (see :ref:`scoring_parameter`);\n",
            "    - a callable (see :ref:`scoring`) that returns a single value.\n",
            "\n",
            "    If `scoring` represents multiple scores, one can use:\n",
            "\n",
            "    - a list or tuple of unique strings;\n",
            "    - a callable returning a dictionary where the keys are the metric\n",
            "      names and the values are the metric scores;\n",
            "    - a dictionary with metric names as keys and callables a values.\n",
            "\n",
            "    See :ref:`multimetric_grid_search` for an example.\n",
            "\n",
            "n_jobs : int, default=None\n",
            "    Number of jobs to run in parallel.\n",
            "    ``None`` means 1 unless in a :obj:`joblib.parallel_backend` context.\n",
            "    ``-1`` means using all processors. See :term:`Glossary <n_jobs>`\n",
            "    for more details.\n",
            "\n",
            "    .. versionchanged:: v0.20\n",
            "       `n_jobs` default changed from 1 to None\n",
            "\n",
            "refit : bool, str, or callable, default=True\n",
            "    Refit an estimator using the best found parameters on the whole\n",
            "    dataset.\n",
            "\n",
            "    For multiple metric evaluation, this needs to be a `str` denoting the\n",
            "    scorer that would be used to find the best parameters for refitting\n",
            "    the estimator at the end.\n",
            "\n",
            "    Where there are considerations other than maximum score in\n",
            "    choosing a best estimator, ``refit`` can be set to a function which\n",
            "    returns the selected ``best_index_`` given ``cv_results_``. In that\n",
            "    case, the ``best_estimator_`` and ``best_params_`` will be set\n",
            "    according to the returned ``best_index_`` while the ``best_score_``\n",
            "    attribute will not be available.\n",
            "\n",
            "    The refitted estimator is made available at the ``best_estimator_``\n",
            "    attribute and permits using ``predict`` directly on this\n",
            "    ``GridSearchCV`` instance.\n",
            "\n",
            "    Also for multiple metric evaluation, the attributes ``best_index_``,\n",
            "    ``best_score_`` and ``best_params_`` will only be available if\n",
            "    ``refit`` is set and all of them will be determined w.r.t this specific\n",
            "    scorer.\n",
            "\n",
            "    See ``scoring`` parameter to know more about multiple metric\n",
            "    evaluation.\n",
            "\n",
            "    See :ref:`sphx_glr_auto_examples_model_selection_plot_grid_search_digits.py`\n",
            "    to see how to design a custom selection strategy using a callable\n",
            "    via `refit`.\n",
            "\n",
            "    .. versionchanged:: 0.20\n",
            "        Support for callable added.\n",
            "\n",
            "cv : int, cross-validation generator or an iterable, default=None\n",
            "    Determines the cross-validation splitting strategy.\n",
            "    Possible inputs for cv are:\n",
            "\n",
            "    - None, to use the default 5-fold cross validation,\n",
            "    - integer, to specify the number of folds in a `(Stratified)KFold`,\n",
            "    - :term:`CV splitter`,\n",
            "    - An iterable yielding (train, test) splits as arrays of indices.\n",
            "\n",
            "    For integer/None inputs, if the estimator is a classifier and ``y`` is\n",
            "    either binary or multiclass, :class:`StratifiedKFold` is used. In all\n",
            "    other cases, :class:`KFold` is used. These splitters are instantiated\n",
            "    with `shuffle=False` so the splits will be the same across calls.\n",
            "\n",
            "    Refer :ref:`User Guide <cross_validation>` for the various\n",
            "    cross-validation strategies that can be used here.\n",
            "\n",
            "    .. versionchanged:: 0.22\n",
            "        ``cv`` default value if None changed from 3-fold to 5-fold.\n",
            "\n",
            "verbose : int\n",
            "    Controls the verbosity: the higher, the more messages.\n",
            "\n",
            "    - >1 : the computation time for each fold and parameter candidate is\n",
            "      displayed;\n",
            "    - >2 : the score is also displayed;\n",
            "    - >3 : the fold and candidate parameter indexes are also displayed\n",
            "      together with the starting time of the computation.\n",
            "\n",
            "pre_dispatch : int, or str, default='2*n_jobs'\n",
            "    Controls the number of jobs that get dispatched during parallel\n",
            "    execution. Reducing this number can be useful to avoid an\n",
            "    explosion of memory consumption when more jobs get dispatched\n",
            "    than CPUs can process. This parameter can be:\n",
            "\n",
            "        - None, in which case all the jobs are immediately\n",
            "          created and spawned. Use this for lightweight and\n",
            "          fast-running jobs, to avoid delays due to on-demand\n",
            "          spawning of the jobs\n",
            "\n",
            "        - An int, giving the exact number of total jobs that are\n",
            "          spawned\n",
            "\n",
            "        - A str, giving an expression as a function of n_jobs,\n",
            "          as in '2*n_jobs'\n",
            "\n",
            "error_score : 'raise' or numeric, default=np.nan\n",
            "    Value to assign to the score if an error occurs in estimator fitting.\n",
            "    If set to 'raise', the error is raised. If a numeric value is given,\n",
            "    FitFailedWarning is raised. This parameter does not affect the refit\n",
            "    step, which will always raise the error.\n",
            "\n",
            "return_train_score : bool, default=False\n",
            "    If ``False``, the ``cv_results_`` attribute will not include training\n",
            "    scores.\n",
            "    Computing training scores is used to get insights on how different\n",
            "    parameter settings impact the overfitting/underfitting trade-off.\n",
            "    However computing the scores on the training set can be computationally\n",
            "    expensive and is not strictly required to select the parameters that\n",
            "    yield the best generalization performance.\n",
            "\n",
            "    .. versionadded:: 0.19\n",
            "\n",
            "    .. versionchanged:: 0.21\n",
            "        Default value was changed from ``True`` to ``False``\n",
            "\n",
            "Attributes\n",
            "----------\n",
            "cv_results_ : dict of numpy (masked) ndarrays\n",
            "    A dict with keys as column headers and values as columns, that can be\n",
            "    imported into a pandas ``DataFrame``.\n",
            "\n",
            "    For instance the below given table\n",
            "\n",
            "    +------------+-----------+------------+-----------------+---+---------+\n",
            "    |param_kernel|param_gamma|param_degree|split0_test_score|...|rank_t...|\n",
            "    +============+===========+============+=================+===+=========+\n",
            "    |  'poly'    |     --    |      2     |       0.80      |...|    2    |\n",
            "    +------------+-----------+------------+-----------------+---+---------+\n",
            "    |  'poly'    |     --    |      3     |       0.70      |...|    4    |\n",
            "    +------------+-----------+------------+-----------------+---+---------+\n",
            "    |  'rbf'     |     0.1   |     --     |       0.80      |...|    3    |\n",
            "    +------------+-----------+------------+-----------------+---+---------+\n",
            "    |  'rbf'     |     0.2   |     --     |       0.93      |...|    1    |\n",
            "    +------------+-----------+------------+-----------------+---+---------+\n",
            "\n",
            "    will be represented by a ``cv_results_`` dict of::\n",
            "\n",
            "        {\n",
            "        'param_kernel': masked_array(data = ['poly', 'poly', 'rbf', 'rbf'],\n",
            "                                     mask = [False False False False]...)\n",
            "        'param_gamma': masked_array(data = [-- -- 0.1 0.2],\n",
            "                                    mask = [ True  True False False]...),\n",
            "        'param_degree': masked_array(data = [2.0 3.0 -- --],\n",
            "                                     mask = [False False  True  True]...),\n",
            "        'split0_test_score'  : [0.80, 0.70, 0.80, 0.93],\n",
            "        'split1_test_score'  : [0.82, 0.50, 0.70, 0.78],\n",
            "        'mean_test_score'    : [0.81, 0.60, 0.75, 0.85],\n",
            "        'std_test_score'     : [0.01, 0.10, 0.05, 0.08],\n",
            "        'rank_test_score'    : [2, 4, 3, 1],\n",
            "        'split0_train_score' : [0.80, 0.92, 0.70, 0.93],\n",
            "        'split1_train_score' : [0.82, 0.55, 0.70, 0.87],\n",
            "        'mean_train_score'   : [0.81, 0.74, 0.70, 0.90],\n",
            "        'std_train_score'    : [0.01, 0.19, 0.00, 0.03],\n",
            "        'mean_fit_time'      : [0.73, 0.63, 0.43, 0.49],\n",
            "        'std_fit_time'       : [0.01, 0.02, 0.01, 0.01],\n",
            "        'mean_score_time'    : [0.01, 0.06, 0.04, 0.04],\n",
            "        'std_score_time'     : [0.00, 0.00, 0.00, 0.01],\n",
            "        'params'             : [{'kernel': 'poly', 'degree': 2}, ...],\n",
            "        }\n",
            "\n",
            "    NOTE\n",
            "\n",
            "    The key ``'params'`` is used to store a list of parameter\n",
            "    settings dicts for all the parameter candidates.\n",
            "\n",
            "    The ``mean_fit_time``, ``std_fit_time``, ``mean_score_time`` and\n",
            "    ``std_score_time`` are all in seconds.\n",
            "\n",
            "    For multi-metric evaluation, the scores for all the scorers are\n",
            "    available in the ``cv_results_`` dict at the keys ending with that\n",
            "    scorer's name (``'_<scorer_name>'``) instead of ``'_score'`` shown\n",
            "    above. ('split0_test_precision', 'mean_train_precision' etc.)\n",
            "\n",
            "best_estimator_ : estimator\n",
            "    Estimator that was chosen by the search, i.e. estimator\n",
            "    which gave highest score (or smallest loss if specified)\n",
            "    on the left out data. Not available if ``refit=False``.\n",
            "\n",
            "    See ``refit`` parameter for more information on allowed values.\n",
            "\n",
            "best_score_ : float\n",
            "    Mean cross-validated score of the best_estimator\n",
            "\n",
            "    For multi-metric evaluation, this is present only if ``refit`` is\n",
            "    specified.\n",
            "\n",
            "    This attribute is not available if ``refit`` is a function.\n",
            "\n",
            "best_params_ : dict\n",
            "    Parameter setting that gave the best results on the hold out data.\n",
            "\n",
            "    For multi-metric evaluation, this is present only if ``refit`` is\n",
            "    specified.\n",
            "\n",
            "best_index_ : int\n",
            "    The index (of the ``cv_results_`` arrays) which corresponds to the best\n",
            "    candidate parameter setting.\n",
            "\n",
            "    The dict at ``search.cv_results_['params'][search.best_index_]`` gives\n",
            "    the parameter setting for the best model, that gives the highest\n",
            "    mean score (``search.best_score_``).\n",
            "\n",
            "    For multi-metric evaluation, this is present only if ``refit`` is\n",
            "    specified.\n",
            "\n",
            "scorer_ : function or a dict\n",
            "    Scorer function used on the held out data to choose the best\n",
            "    parameters for the model.\n",
            "\n",
            "    For multi-metric evaluation, this attribute holds the validated\n",
            "    ``scoring`` dict which maps the scorer key to the scorer callable.\n",
            "\n",
            "n_splits_ : int\n",
            "    The number of cross-validation splits (folds/iterations).\n",
            "\n",
            "refit_time_ : float\n",
            "    Seconds used for refitting the best model on the whole dataset.\n",
            "\n",
            "    This is present only if ``refit`` is not False.\n",
            "\n",
            "    .. versionadded:: 0.20\n",
            "\n",
            "multimetric_ : bool\n",
            "    Whether or not the scorers compute several metrics.\n",
            "\n",
            "classes_ : ndarray of shape (n_classes,)\n",
            "    The classes labels. This is present only if ``refit`` is specified and\n",
            "    the underlying estimator is a classifier.\n",
            "\n",
            "n_features_in_ : int\n",
            "    Number of features seen during :term:`fit`. Only defined if\n",
            "    `best_estimator_` is defined (see the documentation for the `refit`\n",
            "    parameter for more details) and that `best_estimator_` exposes\n",
            "    `n_features_in_` when fit.\n",
            "\n",
            "    .. versionadded:: 0.24\n",
            "\n",
            "feature_names_in_ : ndarray of shape (`n_features_in_`,)\n",
            "    Names of features seen during :term:`fit`. Only defined if\n",
            "    `best_estimator_` is defined (see the documentation for the `refit`\n",
            "    parameter for more details) and that `best_estimator_` exposes\n",
            "    `feature_names_in_` when fit.\n",
            "\n",
            "    .. versionadded:: 1.0\n",
            "\n",
            "See Also\n",
            "--------\n",
            "ParameterGrid : Generates all the combinations of a hyperparameter grid.\n",
            "train_test_split : Utility function to split the data into a development\n",
            "    set usable for fitting a GridSearchCV instance and an evaluation set\n",
            "    for its final evaluation.\n",
            "sklearn.metrics.make_scorer : Make a scorer from a performance metric or\n",
            "    loss function.\n",
            "\n",
            "Notes\n",
            "-----\n",
            "The parameters selected are those that maximize the score of the left out\n",
            "data, unless an explicit score is passed in which case it is used instead.\n",
            "\n",
            "If `n_jobs` was set to a value higher than one, the data is copied for each\n",
            "point in the grid (and not `n_jobs` times). This is done for efficiency\n",
            "reasons if individual jobs take very little time, but may raise errors if\n",
            "the dataset is large and not enough memory is available.  A workaround in\n",
            "this case is to set `pre_dispatch`. Then, the memory is copied only\n",
            "`pre_dispatch` many times. A reasonable value for `pre_dispatch` is `2 *\n",
            "n_jobs`.\n",
            "\n",
            "Examples\n",
            "--------\n",
            ">>> from sklearn import svm, datasets\n",
            ">>> from sklearn.model_selection import GridSearchCV\n",
            ">>> iris = datasets.load_iris()\n",
            ">>> parameters = {'kernel':('linear', 'rbf'), 'C':[1, 10]}\n",
            ">>> svc = svm.SVC()\n",
            ">>> clf = GridSearchCV(svc, parameters)\n",
            ">>> clf.fit(iris.data, iris.target)\n",
            "GridSearchCV(estimator=SVC(),\n",
            "             param_grid={'C': [1, 10], 'kernel': ('linear', 'rbf')})\n",
            ">>> sorted(clf.cv_results_.keys())\n",
            "['mean_fit_time', 'mean_score_time', 'mean_test_score',...\n",
            " 'param_C', 'param_kernel', 'params',...\n",
            " 'rank_test_score', 'split0_test_score',...\n",
            " 'split2_test_score', ...\n",
            " 'std_fit_time', 'std_score_time', 'std_test_score']\n",
            "\u001b[0;31mFile:\u001b[0m           ~/Library/Python/3.9/lib/python/site-packages/sklearn/model_selection/_search.py\n",
            "\u001b[0;31mType:\u001b[0m           ABCMeta\n",
            "\u001b[0;31mSubclasses:\u001b[0m     "
          ]
        }
      ],
      "source": [
        "from sklearn.neighbors import KNeighborsClassifier\n",
        "from sklearn.model_selection import GridSearchCV\n",
        "\n",
        "?GridSearchCV"
      ]
    },
    {
      "cell_type": "code",
      "execution_count": 45,
      "metadata": {},
      "outputs": [],
      "source": [
        "gsc = GridSearchCV(KNeighborsClassifier(metric='minkowski',p=2), param_grid={'n_neighbors':[1,3,5,7]}, cv = 4, scoring='accuracy')"
      ]
    },
    {
      "cell_type": "code",
      "execution_count": 46,
      "metadata": {},
      "outputs": [
        {
          "data": {
            "text/plain": [
              "{'n_neighbors': 7}"
            ]
          },
          "execution_count": 46,
          "metadata": {},
          "output_type": "execute_result"
        }
      ],
      "source": [
        "gsc.fit(X_train, y_train)\n",
        "gsc.best_params_"
      ]
    },
    {
      "cell_type": "code",
      "execution_count": null,
      "metadata": {
        "id": "2bjDTI_T076X"
      },
      "outputs": [],
      "source": [
        "# Take DecisionTreeClassifier(random_state = 64) with GridSearchCV to train the model.Hyperparameter tuning to be done over the following parameters:\n",
        "\n",
        "# Use criterion as 'entropy' or 'gini'\n",
        "# Use splitter as 'random' or 'best'\n",
        "# Use minimum number of samples per leaf as [2,4,6,8,10]\n",
        "# Use maximum depth as [3,4,5,6]\n",
        "# Use cross validation = 4\n",
        "# Enter the value (up to 2 decimal points) of the 'score' on testing set using best"
      ]
    },
    {
      "cell_type": "code",
      "execution_count": 50,
      "metadata": {},
      "outputs": [],
      "source": [
        "from sklearn.tree import DecisionTreeClassifier\n",
        "params = {\n",
        "    \"criterion\":['entropy','gini'],\n",
        "    'splitter':['random','best'],\n",
        "    'min_samples_leaf':[2,4,6,8,10],\n",
        "    'max_depth':[3,4,5,6]}\n",
        "gcv2 = GridSearchCV(DecisionTreeClassifier(random_state = 64), param_grid=params, cv=4)\n"
      ]
    },
    {
      "cell_type": "code",
      "execution_count": 62,
      "metadata": {},
      "outputs": [
        {
          "data": {
            "text/html": [
              "<style>#sk-container-id-2 {color: black;background-color: white;}#sk-container-id-2 pre{padding: 0;}#sk-container-id-2 div.sk-toggleable {background-color: white;}#sk-container-id-2 label.sk-toggleable__label {cursor: pointer;display: block;width: 100%;margin-bottom: 0;padding: 0.3em;box-sizing: border-box;text-align: center;}#sk-container-id-2 label.sk-toggleable__label-arrow:before {content: \"▸\";float: left;margin-right: 0.25em;color: #696969;}#sk-container-id-2 label.sk-toggleable__label-arrow:hover:before {color: black;}#sk-container-id-2 div.sk-estimator:hover label.sk-toggleable__label-arrow:before {color: black;}#sk-container-id-2 div.sk-toggleable__content {max-height: 0;max-width: 0;overflow: hidden;text-align: left;background-color: #f0f8ff;}#sk-container-id-2 div.sk-toggleable__content pre {margin: 0.2em;color: black;border-radius: 0.25em;background-color: #f0f8ff;}#sk-container-id-2 input.sk-toggleable__control:checked~div.sk-toggleable__content {max-height: 200px;max-width: 100%;overflow: auto;}#sk-container-id-2 input.sk-toggleable__control:checked~label.sk-toggleable__label-arrow:before {content: \"▾\";}#sk-container-id-2 div.sk-estimator input.sk-toggleable__control:checked~label.sk-toggleable__label {background-color: #d4ebff;}#sk-container-id-2 div.sk-label input.sk-toggleable__control:checked~label.sk-toggleable__label {background-color: #d4ebff;}#sk-container-id-2 input.sk-hidden--visually {border: 0;clip: rect(1px 1px 1px 1px);clip: rect(1px, 1px, 1px, 1px);height: 1px;margin: -1px;overflow: hidden;padding: 0;position: absolute;width: 1px;}#sk-container-id-2 div.sk-estimator {font-family: monospace;background-color: #f0f8ff;border: 1px dotted black;border-radius: 0.25em;box-sizing: border-box;margin-bottom: 0.5em;}#sk-container-id-2 div.sk-estimator:hover {background-color: #d4ebff;}#sk-container-id-2 div.sk-parallel-item::after {content: \"\";width: 100%;border-bottom: 1px solid gray;flex-grow: 1;}#sk-container-id-2 div.sk-label:hover label.sk-toggleable__label {background-color: #d4ebff;}#sk-container-id-2 div.sk-serial::before {content: \"\";position: absolute;border-left: 1px solid gray;box-sizing: border-box;top: 0;bottom: 0;left: 50%;z-index: 0;}#sk-container-id-2 div.sk-serial {display: flex;flex-direction: column;align-items: center;background-color: white;padding-right: 0.2em;padding-left: 0.2em;position: relative;}#sk-container-id-2 div.sk-item {position: relative;z-index: 1;}#sk-container-id-2 div.sk-parallel {display: flex;align-items: stretch;justify-content: center;background-color: white;position: relative;}#sk-container-id-2 div.sk-item::before, #sk-container-id-2 div.sk-parallel-item::before {content: \"\";position: absolute;border-left: 1px solid gray;box-sizing: border-box;top: 0;bottom: 0;left: 50%;z-index: -1;}#sk-container-id-2 div.sk-parallel-item {display: flex;flex-direction: column;z-index: 1;position: relative;background-color: white;}#sk-container-id-2 div.sk-parallel-item:first-child::after {align-self: flex-end;width: 50%;}#sk-container-id-2 div.sk-parallel-item:last-child::after {align-self: flex-start;width: 50%;}#sk-container-id-2 div.sk-parallel-item:only-child::after {width: 0;}#sk-container-id-2 div.sk-dashed-wrapped {border: 1px dashed gray;margin: 0 0.4em 0.5em 0.4em;box-sizing: border-box;padding-bottom: 0.4em;background-color: white;}#sk-container-id-2 div.sk-label label {font-family: monospace;font-weight: bold;display: inline-block;line-height: 1.2em;}#sk-container-id-2 div.sk-label-container {text-align: center;}#sk-container-id-2 div.sk-container {/* jupyter's `normalize.less` sets `[hidden] { display: none; }` but bootstrap.min.css set `[hidden] { display: none !important; }` so we also need the `!important` here to be able to override the default hidden behavior on the sphinx rendered scikit-learn.org. See: https://github.com/scikit-learn/scikit-learn/issues/21755 */display: inline-block !important;position: relative;}#sk-container-id-2 div.sk-text-repr-fallback {display: none;}</style><div id=\"sk-container-id-2\" class=\"sk-top-container\"><div class=\"sk-text-repr-fallback\"><pre>GridSearchCV(cv=4, estimator=DecisionTreeClassifier(random_state=64),\n",
              "             param_grid={&#x27;criterion&#x27;: [&#x27;entropy&#x27;, &#x27;gini&#x27;],\n",
              "                         &#x27;max_depth&#x27;: [3, 4, 5, 6],\n",
              "                         &#x27;min_samples_leaf&#x27;: [2, 4, 6, 8, 10],\n",
              "                         &#x27;splitter&#x27;: [&#x27;random&#x27;, &#x27;best&#x27;]})</pre><b>In a Jupyter environment, please rerun this cell to show the HTML representation or trust the notebook. <br />On GitHub, the HTML representation is unable to render, please try loading this page with nbviewer.org.</b></div><div class=\"sk-container\" hidden><div class=\"sk-item sk-dashed-wrapped\"><div class=\"sk-label-container\"><div class=\"sk-label sk-toggleable\"><input class=\"sk-toggleable__control sk-hidden--visually\" id=\"sk-estimator-id-2\" type=\"checkbox\" ><label for=\"sk-estimator-id-2\" class=\"sk-toggleable__label sk-toggleable__label-arrow\">GridSearchCV</label><div class=\"sk-toggleable__content\"><pre>GridSearchCV(cv=4, estimator=DecisionTreeClassifier(random_state=64),\n",
              "             param_grid={&#x27;criterion&#x27;: [&#x27;entropy&#x27;, &#x27;gini&#x27;],\n",
              "                         &#x27;max_depth&#x27;: [3, 4, 5, 6],\n",
              "                         &#x27;min_samples_leaf&#x27;: [2, 4, 6, 8, 10],\n",
              "                         &#x27;splitter&#x27;: [&#x27;random&#x27;, &#x27;best&#x27;]})</pre></div></div></div><div class=\"sk-parallel\"><div class=\"sk-parallel-item\"><div class=\"sk-item\"><div class=\"sk-label-container\"><div class=\"sk-label sk-toggleable\"><input class=\"sk-toggleable__control sk-hidden--visually\" id=\"sk-estimator-id-3\" type=\"checkbox\" ><label for=\"sk-estimator-id-3\" class=\"sk-toggleable__label sk-toggleable__label-arrow\">estimator: DecisionTreeClassifier</label><div class=\"sk-toggleable__content\"><pre>DecisionTreeClassifier(random_state=64)</pre></div></div></div><div class=\"sk-serial\"><div class=\"sk-item\"><div class=\"sk-estimator sk-toggleable\"><input class=\"sk-toggleable__control sk-hidden--visually\" id=\"sk-estimator-id-4\" type=\"checkbox\" ><label for=\"sk-estimator-id-4\" class=\"sk-toggleable__label sk-toggleable__label-arrow\">DecisionTreeClassifier</label><div class=\"sk-toggleable__content\"><pre>DecisionTreeClassifier(random_state=64)</pre></div></div></div></div></div></div></div></div></div></div>"
            ],
            "text/plain": [
              "GridSearchCV(cv=4, estimator=DecisionTreeClassifier(random_state=64),\n",
              "             param_grid={'criterion': ['entropy', 'gini'],\n",
              "                         'max_depth': [3, 4, 5, 6],\n",
              "                         'min_samples_leaf': [2, 4, 6, 8, 10],\n",
              "                         'splitter': ['random', 'best']})"
            ]
          },
          "execution_count": 62,
          "metadata": {},
          "output_type": "execute_result"
        }
      ],
      "source": [
        "gcv2.fit(X_train, y_train)"
      ]
    },
    {
      "cell_type": "code",
      "execution_count": 63,
      "metadata": {},
      "outputs": [
        {
          "data": {
            "text/plain": [
              "0.84975"
            ]
          },
          "execution_count": 63,
          "metadata": {},
          "output_type": "execute_result"
        }
      ],
      "source": [
        "gcv2.best_estimator_.score(X_test, y_test)"
      ]
    },
    {
      "cell_type": "code",
      "execution_count": 64,
      "metadata": {},
      "outputs": [
        {
          "data": {
            "text/plain": [
              "{'criterion': 'gini',\n",
              " 'max_depth': 6,\n",
              " 'min_samples_leaf': 10,\n",
              " 'splitter': 'best'}"
            ]
          },
          "execution_count": 64,
          "metadata": {},
          "output_type": "execute_result"
        }
      ],
      "source": [
        "gcv2.best_params_"
      ]
    },
    {
      "cell_type": "code",
      "execution_count": 68,
      "metadata": {},
      "outputs": [
        {
          "data": {
            "text/plain": [
              "75"
            ]
          },
          "execution_count": 68,
          "metadata": {},
          "output_type": "execute_result"
        }
      ],
      "source": [
        "gcv2.best_estimator_.tree_.node_count"
      ]
    },
    {
      "cell_type": "code",
      "execution_count": 72,
      "metadata": {},
      "outputs": [
        {
          "data": {
            "text/plain": [
              "{'n_estimators': 10}"
            ]
          },
          "execution_count": 72,
          "metadata": {},
          "output_type": "execute_result"
        }
      ],
      "source": [
        "from sklearn.ensemble import RandomForestClassifier\n",
        "gcv3 = GridSearchCV(RandomForestClassifier(random_state=64), param_grid={'n_estimators':[5,6,7,8,9,10]})\n",
        "gcv3.fit(X_train, y_train)\n",
        "gcv3.best_params_"
      ]
    },
    {
      "cell_type": "code",
      "execution_count": 75,
      "metadata": {},
      "outputs": [],
      "source": [
        "from sklearn.ensemble import AdaBoostClassifier\n",
        "\n",
        "gcv4 = GridSearchCV(AdaBoostClassifier(random_state = 64), param_grid={'n_estimators':[10,20,30],'learning_rate':[0.5,1,2]})"
      ]
    },
    {
      "cell_type": "code",
      "execution_count": 76,
      "metadata": {},
      "outputs": [
        {
          "data": {
            "text/plain": [
              "0.85475"
            ]
          },
          "execution_count": 76,
          "metadata": {},
          "output_type": "execute_result"
        }
      ],
      "source": [
        "gcv4.fit(X_train, y_train)\n",
        "from sklearn.metrics import accuracy_score\n",
        "\n",
        "accuracy_score(y_test, gcv4.predict(X_test))"
      ]
    },
    {
      "cell_type": "code",
      "execution_count": 77,
      "metadata": {},
      "outputs": [
        {
          "data": {
            "text/plain": [
              "{'learning_rate': 0.5, 'n_estimators': 20}"
            ]
          },
          "execution_count": 77,
          "metadata": {},
          "output_type": "execute_result"
        }
      ],
      "source": [
        "gcv4.best_params_"
      ]
    },
    {
      "cell_type": "code",
      "execution_count": null,
      "metadata": {},
      "outputs": [],
      "source": []
    }
  ],
  "metadata": {
    "colab": {
      "provenance": []
    },
    "kernelspec": {
      "display_name": "Python 3",
      "name": "python3"
    },
    "language_info": {
      "codemirror_mode": {
        "name": "ipython",
        "version": 3
      },
      "file_extension": ".py",
      "mimetype": "text/x-python",
      "name": "python",
      "nbconvert_exporter": "python",
      "pygments_lexer": "ipython3",
      "version": "3.9.6"
    }
  },
  "nbformat": 4,
  "nbformat_minor": 0
}
