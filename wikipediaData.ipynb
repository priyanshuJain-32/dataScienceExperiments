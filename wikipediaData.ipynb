{
 "cells": [
  {
   "cell_type": "code",
   "execution_count": 12,
   "id": "f8fb62d2-863f-4b78-8859-7792139db1f4",
   "metadata": {},
   "outputs": [],
   "source": [
    "import wikipedia as wk"
   ]
  },
  {
   "cell_type": "code",
   "execution_count": 13,
   "id": "d1e079e7-831c-4601-b527-9f05312ecb85",
   "metadata": {},
   "outputs": [
    {
     "data": {
      "text/plain": [
       "['IIT Madras',\n",
       " 'Indian Institutes of Technology',\n",
       " 'Joint Entrance Examination – Advanced',\n",
       " 'Inter IIT Sports Meet',\n",
       " 'IIT Tirupati',\n",
       " 'BharOS',\n",
       " 'IIT Palakkad',\n",
       " 'List of IIT Madras people',\n",
       " 'IIT Kharagpur',\n",
       " 'History of Indian Institutes of Technology']"
      ]
     },
     "execution_count": 13,
     "metadata": {},
     "output_type": "execute_result"
    }
   ],
   "source": [
    "wk.search(\"IIT Madras\")"
   ]
  },
  {
   "cell_type": "code",
   "execution_count": 20,
   "id": "ca38a4de-daaf-4d70-bdf3-4d797220be36",
   "metadata": {},
   "outputs": [
    {
     "data": {
      "text/plain": [
       "['IIT Madras', 'Indian Institutes of Technology']"
      ]
     },
     "execution_count": 20,
     "metadata": {},
     "output_type": "execute_result"
    }
   ],
   "source": [
    "wk.search(\"IIT Madras\", results=2)"
   ]
  },
  {
   "cell_type": "code",
   "execution_count": 25,
   "id": "f07e7eed-a5a9-4755-bd26-37f43ebdb64a",
   "metadata": {},
   "outputs": [
    {
     "data": {
      "text/plain": [
       "'Chennai ( , Tamil: [ˈt͡ɕenːaɪ̯]), formerly known as Madras, is the capital city of Tamil Nadu, the southernmost Indian state. It is the state\\'s primate city both in area and population and is located on the Coromandel Coast of the Bay of Bengal. According to the 2011 Indian census, Chennai is the sixth-most populous city in India and forms the fourth-most populous urban agglomeration. Incorporated in 1866, the Greater Chennai Corporation is the oldest municipal corporation of India and the second oldest in the world after London.\\nHistorically, Chennai and surroundings were part of the Chola, Pandya, Pallava and Vijayanagara kingdoms for many centuries. The coastal land, which then contained the fishing village Madrasapattinam, was purchased by the British East India Company from the Nayak ruler Damarla Chennapa Nayaka, in the 17th century. The British garrison established the Madras city and port, and built Fort St. George—the first British fortress in India—which the French won over briefly in 1746, before becoming the winter capital of the Madras Presidency, a colonial province of the British Raj in the Indian subcontinent. After India gained its independence in 1947, Madras continued as the capital city of the Madras State and present-day Tamil Nadu. The city was officially renamed as Chennai in 1996.\\nThe city is coterminous with Chennai district, which together with the adjoining suburbs constitutes the Chennai Metropolitan Area, the 36th-largest urban area in the world by population and one of the largest metropolitan economies of India. As the traditional and de facto gateway of South India, Chennai is among the most-visited Indian cities by foreigners. It was ranked the 43rd most-visited city in the world in 2015 and 36th in 2019. The Quality of Living Survey rates it as India\\'s safest city. Chennai attracts 45 percent of health tourists visiting India, and 30 to 40 percent of domestic health tourists. As such, it is termed \"India\\'s health capital\". Chennai has the fifth-largest urban economy, and had the third-largest expatriate population in India.Ranked as a beta-level city in the Global Cities Index, Chennai was dubbed India\\'s best city by India Today in 2014. It was named the \"hottest\" city (city worth visiting and worth living in for long term) by the BBC in 2015, citing its amalgam of both modern and traditional values. It was the only South Asian city to be ranked among National Geographic\\'s \"Top 10 food cities\" in 2015, and ranked ninth on Lonely Planet\\'s best cosmopolitan cities of the world. In October 2017, Chennai was added to the UNESCO Creative Cities Network (UCCN) list for its rich musical tradition. Chennai hosts more than one-third of India\\'s automobile industry, and is a major film production center, home to the Tamil-language film industry.'"
      ]
     },
     "execution_count": 25,
     "metadata": {},
     "output_type": "execute_result"
    }
   ],
   "source": [
    "wk.summary(\"hit Madras\")"
   ]
  },
  {
   "cell_type": "code",
   "execution_count": 26,
   "id": "5718364f-e8a9-4837-951e-e2276ce4e787",
   "metadata": {},
   "outputs": [
    {
     "data": {
      "text/plain": [
       "\"Chennai ( , Tamil: [ˈt͡ɕenːaɪ̯]), formerly known as Madras, is the capital city of Tamil Nadu, the southernmost Indian state. It is the state's primate city both in area and population and is located on the Coromandel Coast of the Bay of Bengal.\""
      ]
     },
     "execution_count": 26,
     "metadata": {},
     "output_type": "execute_result"
    }
   ],
   "source": [
    "wk.summary(\"hit Madras\", sentences = 2)"
   ]
  },
  {
   "cell_type": "code",
   "execution_count": 30,
   "id": "59c78510-9ce5-4d8d-b8bc-628a3b256a94",
   "metadata": {},
   "outputs": [],
   "source": [
    "full_page = wk.page(pageid=6961226)"
   ]
  },
  {
   "cell_type": "code",
   "execution_count": 31,
   "id": "cd907399-3ad7-4710-b5f9-d9bf12bf0ae7",
   "metadata": {},
   "outputs": [
    {
     "data": {
      "text/plain": [
       "'https://en.wikipedia.org/wiki/IIT_Madras'"
      ]
     },
     "execution_count": 31,
     "metadata": {},
     "output_type": "execute_result"
    }
   ],
   "source": [
    "full_page.url"
   ]
  },
  {
   "cell_type": "code",
   "execution_count": 32,
   "id": "82abca5e-e9af-4a1c-b8e0-d38a7b5262f9",
   "metadata": {},
   "outputs": [
    {
     "data": {
      "text/plain": [
       "['http://archiv.tu-chemnitz.de/pub/2006/0020/data/MAthesis_EvelynRichter.pdf',\n",
       " 'http://respark.iitm.ac.in/',\n",
       " 'http://www.iitm.ac.in/aboutcampus',\n",
       " 'http://www.csail.mit.edu/user/723',\n",
       " 'http://www.businessweek.com/smallbiz/news/date/9811/e981130.htm',\n",
       " 'http://www.oeb.harvard.edu/faculty/mahadevan/mahadevan-oeb.html',\n",
       " 'http://www.macfound.org/site/c.lkLXJ8MQKrH/b.5458019/k.8448/L_Mahadevan.htm',\n",
       " 'http://nptel.iitm.ac.in/',\n",
       " 'http://nptel.iitm.ac.in/pdf/NPTEL%20Document.pdf',\n",
       " 'http://www.thehindu.com/sci-tech/technology/iitm-computer-system-gets-fastest-tag/article3972727.ece',\n",
       " 'http://placement.iitm.ac.in/academics.html',\n",
       " 'http://ccw.iitm.ac.in/?q=IITMHostels/hinfo',\n",
       " 'http://www.iitsystem.ac.in/IITcouncil/council.jsp',\n",
       " 'http://t5e.iitm.ac.in/2009/12/the-snet-energy-survey-8th-nov/',\n",
       " 'http://www.shaastra.org/2013/main',\n",
       " 'https://web.archive.org/web/20140810091111/http://www.iitsystem.ac.in/IITcouncil/council.jsp',\n",
       " 'http://timesofindia.indiatimes.com/tech/tech-news/IIT-Madras-is-Indias-Stanford/articleshow/46629160.cms',\n",
       " 'https://web.archive.org/web/20130907050154/http://www.shaastra.org/2013/main',\n",
       " 'https://web.archive.org/web/20091115092457/http://www.businessweek.com/smallbiz/news/date/9811/e981130.htm',\n",
       " 'https://web.archive.org/web/20120227163617/http://www.oeb.harvard.edu/faculty/mahadevan/mahadevan-oeb.html',\n",
       " 'http://nptel.ac.in/course.php',\n",
       " 'https://web.archive.org/web/20130409125154/http://placement.iitm.ac.in/academics.html',\n",
       " 'https://www.youtube.com/watch?v=5485lx6wsao',\n",
       " 'http://www.hindu.com/2009/02/28/stories/2009022854140500.htm',\n",
       " 'http://www.iitm.ac.in/The%20Institute/',\n",
       " 'https://www.idref.fr/033570418',\n",
       " 'https://web.archive.org/web/20060427232338/http://www.iitm.ac.in/The%20Institute/',\n",
       " 'https://web.archive.org/web/20120113170811/http://www.nptel.iitm.ac.in/',\n",
       " 'https://web.archive.org/web/20130707013747/http://t5e.iitm.ac.in/',\n",
       " 'http://nms.lcs.mit.edu/~hari/',\n",
       " 'http://www.hri.res.in/~pinaki/',\n",
       " 'http://ssbprize.gov.in/Content/Detail.aspx?AID=531',\n",
       " 'https://www.nirfindia.org/2018/EngineeringRanking.html',\n",
       " 'https://aleph.nkp.cz/F/?func=find-c&local_base=aut&ccl_term=ica=ko2008435605&CON_LNG=ENG',\n",
       " 'https://catalogue.bnf.fr/ark:/12148/cb12442559g',\n",
       " 'https://www.collegesearch.in/exam/jee-advanced/article/top-10-iits-in-india-2018-29-174',\n",
       " 'https://www.nirfindia.org/2019/EngineeringRanking.html',\n",
       " 'https://data.bnf.fr/ark:/12148/cb12442559g',\n",
       " 'https://www.thehindu.com/news/cities/chennai/iitm-turns-60-a-chat-with-first-batch-students/article28744533.ece',\n",
       " 'https://www.thehindu.com/news/cities/chennai/chen-society/golden-jubilee-of-iitms-first-batch-of-graduands/article6218293.ece',\n",
       " 'https://www.thehindu.com/education/in-1966-she-was-iit-madras-first-woman-civil-engineering-student/article28759995.ece',\n",
       " 'http://ofb.gov.in/download/pr/pr_dgof_interview.pdf',\n",
       " 'https://web.archive.org/web/20120904044551/http://nptel.iitm.ac.in/pdf/NPTEL%20Document.pdf',\n",
       " 'https://web.archive.org/web/20141103172852/http://t5e.iitm.ac.in/2009/12/the-snet-energy-survey-8th-nov/',\n",
       " 'https://web.archive.org/web/20120623211803/http://www.nss.iitm.ac.in/',\n",
       " 'https://web.archive.org/web/20100215010549/http://archiv.tu-chemnitz.de/pub/2006/0020/data/MAthesis_EvelynRichter.pdf',\n",
       " 'https://www.nobelprize.org/prizes/chemistry/2019/goodenough/lecture/',\n",
       " 'https://timesofindia.indiatimes.com/city/chennai/iit-madras-diamond-jubilee-celebrations-assume-global-proportions-events-to-be-held-in-83-cities/articleshow/70143608.cms',\n",
       " 'https://www.projekt-mida.de/reflexicon/indo-german-entanglements-in-science-and-technology-the-indian-institute-of-technology-madras/',\n",
       " 'https://www.ndtv.com/education/iit-madras-to-hold-open-house-to-showcase-student-innovations-2125282',\n",
       " 'https://www.wikidata.org/wiki/Q858662#identifiers',\n",
       " 'https://research.iitm.ac.in/department_list#:~:text=RESEARCH%20AREAS,-Cellular,%20Molecular%20and&text=Bioinformatics%20and%20Computational%20Biology;%20Biomedical,Molecular%20Genetics%20of%20Plant%20Development.',\n",
       " 'https://oir.iitm.ac.in/mou/',\n",
       " 'https://isni.org/isni/000000012314788X',\n",
       " 'https://www.iitm.ac.in/the-institute/administration/academic-administration',\n",
       " 'https://viaf.org/viaf/168123199',\n",
       " 'https://isni.org/isni/0000000123151926',\n",
       " 'https://web.archive.org/web/20090303061238/http://www.hindu.com/2009/02/28/stories/2009022854140500.htm',\n",
       " 'https://www.iitm.ac.in/happenings/press-releases-and-coverages/iit-madras-launches-cricket-hackathon-2021',\n",
       " 'https://www.iitm.ac.in/sites/default/files/Others/annual-budget-2021-22.pdf',\n",
       " 'https://cms.caltech.edu/people/mani',\n",
       " 'https://ghostarchive.org/varchive/youtube/20211107/5485lx6wsao',\n",
       " 'https://eparlib.nic.in/bitstream/123456789/1769/1/lsd_02_08_10-08-1959.pdf',\n",
       " 'https://timesofindia.indiatimes.com/city/chennai/iit-madras-alumnus-is-now-its-new-director/articleshow/88821542.cms',\n",
       " 'https://web.archive.org/web/20161128191932/http://nptel.ac.in/course.php',\n",
       " 'https://www.thenewsminute.com/tamils/287?amp',\n",
       " 'https://timesofindia.indiatimes.com/city/chennai/Its-spit-of-anger-vs-kiss-of-love-at-IIT/articleshow/45183914.cms',\n",
       " 'https://www.livemint.com/news/india/iit-madras-raises-700-crore-as-endowment-fund-11616957609084.html',\n",
       " 'https://www.iitm.ac.in/',\n",
       " 'http://uli.nli.org.il/F/?func=find-b&local_base=NLX10&find_code=UID&request=987007362775105171',\n",
       " 'https://www.nirfindia.org/2022/EngineeringRanking.html',\n",
       " 'https://www.iitm.ac.in/happenings/press-releases-and-coverages/iit-madras-launch-two-year-ma-programmes-economics-english',\n",
       " 'https://admission.aglasem.com/hsee/',\n",
       " 'http://www.iitm.ac.in/admissiontests',\n",
       " 'http://www.shanghairanking.com/rankings/arwu/2022',\n",
       " 'https://www.topuniversities.com/university-rankings/world-university-rankings/2023',\n",
       " 'https://www.topuniversities.com/university-rankings/asia-university-rankings/2023',\n",
       " 'https://study.iitm.ac.in/ds/',\n",
       " 'https://study.iitm.ac.in/ds/admissions.html#AD2',\n",
       " 'https://www.deccanherald.com/national/south/iit-madras-s-bs-course-wins-wharton-education-award-1175298.html',\n",
       " 'https://margazhi.iitmparadox.org/',\n",
       " 'https://study.iitm.ac.in/ds/paradox.html',\n",
       " 'https://www.isical.ac.in/',\n",
       " 'https://study.iitm.ac.in/course_pages/BSCMA1001.html#9003',\n",
       " 'https://study.iitm.ac.in/ds/course_pages/BSCHS1001.html',\n",
       " 'https://study.iitm.ac.in/ds/course_pages/BSCMA1004.html',\n",
       " 'https://study.iitm.ac.in/ds/course_pages/BSCCS1002.html',\n",
       " 'https://www.iitm.ac.in/students',\n",
       " 'https://diploma.iitm.ac.in/',\n",
       " 'https://www.worldcat.org/issn/0971-751X',\n",
       " 'https://www.worldcat.org/issn/0971-8257',\n",
       " 'https://timesofindia.indiatimes.com/city/chennai/1-million-google-grant-for-artificial-intelligence-centre-at-iit-madras/articleshow/96356642.cms',\n",
       " 'https://www.iitm.ac.in/happenings/press-releases-and-coverages/cargill-announces-scholarship-iit-madras-bs-degree-students',\n",
       " 'https://indianexpress.com/article/education/uk-gulf-countries-and-egypt-among-7-locations-on-iit-expansion-list-8102363/',\n",
       " 'https://acr.iitm.ac.in/iitm_in_news/iit-madras-considers-setting-up-campus-in-tanzania-nepal-lanka-too-send-requests/',\n",
       " 'https://news.careers360.com/iit-madras-dharmendra-pradhan-launch-bs-in-electronic-systems-on-march-6',\n",
       " 'https://www.ee.iitm.ac.in/',\n",
       " 'https://eparlib.nic.in/bitstream/123456789/1530/1/lsd_02_06_02-12-1958.pdf',\n",
       " 'https://timesofindia.indiatimes.com/city/chennai/iit-madras-to-soon-launch-online-bed-programme-in-maths/articleshow/97506475.cms',\n",
       " 'https://web.archive.org/web/20190902212630/http://ofb.gov.in/download/pr/pr_dgof_interview.pdf',\n",
       " 'https://www.jstor.org/action/doBasicSearch?Query=%22IIT+Madras%22&acc=on&wc=on',\n",
       " 'http://www.frontline.in/static/html/fl2003/stories/20030214007506500.htm',\n",
       " 'https://www.iitm.ac.in/sites/default/files/NIRF/IITMadras20230131-NIRF-OVERALL.pdf',\n",
       " 'http://www.iitm.ac.in/',\n",
       " 'https://respark.iitm.ac.in/',\n",
       " 'https://www.telegraphindia.com/edugraph/news/iit-madras-won-wharton-qs-reimagine-education-awards-for-data-science-nptel-course/cid/1906351',\n",
       " 'https://id.loc.gov/authorities/n50063099',\n",
       " 'https://study.iitm.ac.in/ds/',\n",
       " 'https://geohack.toolforge.org/geohack.php?pagename=IIT_Madras&params=12.99151_N_80.23362_E_',\n",
       " 'https://www.google.com/search?as_eq=wikipedia&q=%22IIT+Madras%22',\n",
       " 'https://www.google.com/search?tbm=nws&q=%22IIT+Madras%22+-wikipedia&tbs=ar:1',\n",
       " 'https://www.google.com/search?&q=%22IIT+Madras%22&tbs=bkt:s&tbm=bks',\n",
       " 'https://www.google.com/search?tbs=bks:1&q=%22IIT+Madras%22+-wikipedia',\n",
       " 'https://scholar.google.com/scholar?q=%22IIT+Madras%22',\n",
       " 'https://www.hindustantimes.com/india-news/india-signs-agreement-with-tanzania-to-set-up-first-iit-campus-abroad-101688624260560.html',\n",
       " 'https://nexustechai.blogspot.com/2023/07/iit-campus-tanzania-first-campus-outside-india-in-zanzibar-jee-main-jee-advance-know-jee-counselling-date-addmission-process-2023.html',\n",
       " 'https://indianexpress.com/article/education/iit-madras-zanzibar-to-be-the-first-ever-female-led-iit-jeemain-jeeadvanced-8823525/',\n",
       " 'https://www.thehindubusinessline.com/on-campus/iit-madras-zanzibar-campus-to-commence-classes-from-october/article67071731.ece',\n",
       " 'https://www.indiatoday.in/education-today/news/story/iit-madras-set-to-create-history-by-establishing-an-international-campus-in-zanzibar-tanzania-2404437-2023-07-10',\n",
       " 'https://zanzibar.iitm.ac.in/',\n",
       " 'https://www.dnaindia.com/business/report-tarun-mehta-swapnil-jain-iit-madras-alums-disrupting-india-s-ev-market-with-their-800-million-company-ather-3035728',\n",
       " 'https://www.thehindu.com/news/national/tamil-nadu/iit-madras-presents-distinguished-alumnus-awards/article66760474.ece',\n",
       " 'https://www.nirfindia.org/2023/OverallRanking.html',\n",
       " 'https://www.nirfindia.org/2023/ResearchRanking.html',\n",
       " 'https://www.nirfindia.org/2023/EngineeringRanking.html',\n",
       " 'https://www.nirfindia.org/2023/ManagementRanking.html',\n",
       " 'https://www.outlookindia.com/education/outlook-icare-rankings-2022-india-s-top-25-government-engineering-institutes-magazine-205709',\n",
       " 'https://www.hticiitm.org/',\n",
       " 'https://www.iitm.ac.in/happenings/press-releases-and-coverages/iit-madras-inaugurates-its-largest-hostel-campus',\n",
       " 'https://www.indiatimes.com/technology/news/iit-madras-saaf-water-ibm-call-for-code-556076.html',\n",
       " 'https://www.thehindu.com/education/youngsters-come-up-with-a-device-that-monitors-and-pre-warns-community-about-groundwater-abnormalities/article65037574.ece',\n",
       " 'https://www.topuniversities.com/university-rankings/rankings-by-location/india/2020']"
      ]
     },
     "execution_count": 32,
     "metadata": {},
     "output_type": "execute_result"
    }
   ],
   "source": [
    "full_page.references"
   ]
  },
  {
   "cell_type": "code",
   "execution_count": 33,
   "id": "6d282dd8-3bc0-4c23-bf82-492f990d1381",
   "metadata": {},
   "outputs": [
    {
     "data": {
      "text/plain": [
       "['https://upload.wikimedia.org/wikipedia/commons/f/f2/Blackbuck_white.jpg',\n",
       " 'https://upload.wikimedia.org/wikipedia/commons/1/1b/Brahmaputra_Hostel.jpg',\n",
       " 'https://upload.wikimedia.org/wikipedia/commons/c/c4/Deer_of_IIT_Madras_masatran_0058_0010.jpeg',\n",
       " 'https://upload.wikimedia.org/wikipedia/commons/f/fa/E-Summit.jpg',\n",
       " 'https://upload.wikimedia.org/wikipedia/commons/e/e4/Godavari_Hostel_Entrance.jpg',\n",
       " 'https://upload.wikimedia.org/wikipedia/commons/0/08/Heritage_Center1.jpg',\n",
       " 'https://upload.wikimedia.org/wikipedia/commons/8/85/Pfeil_links.svg',\n",
       " 'https://upload.wikimedia.org/wikipedia/commons/7/76/Pfeil_oben.svg',\n",
       " 'https://upload.wikimedia.org/wikipedia/commons/c/c5/Pfeil_rechts.svg',\n",
       " 'https://upload.wikimedia.org/wikipedia/commons/c/c3/Pfeil_unten.svg',\n",
       " 'https://upload.wikimedia.org/wikipedia/commons/7/71/Sabarmathi_hostel2.jpg',\n",
       " 'https://upload.wikimedia.org/wikipedia/commons/4/4c/Walkway_A_C_Blocks_IITM_Research_Park_Jun23_A7C_05195.jpg',\n",
       " 'https://upload.wikimedia.org/wikipedia/en/4/4a/Commons-logo.svg',\n",
       " 'https://upload.wikimedia.org/wikipedia/en/f/f2/Edit-clear.svg',\n",
       " 'https://upload.wikimedia.org/wikipedia/en/4/41/Flag_of_India.svg',\n",
       " 'https://upload.wikimedia.org/wikipedia/en/6/69/IIT_Madras_Logo.svg',\n",
       " 'https://upload.wikimedia.org/wikipedia/en/8/8a/OOjs_UI_icon_edit-ltr-progressive.svg',\n",
       " 'https://upload.wikimedia.org/wikipedia/en/9/99/Question_book-new.svg',\n",
       " 'https://upload.wikimedia.org/wikipedia/en/9/96/Symbol_category_class.svg']"
      ]
     },
     "execution_count": 33,
     "metadata": {},
     "output_type": "execute_result"
    }
   ],
   "source": [
    "full_page.images"
   ]
  },
  {
   "cell_type": "code",
   "execution_count": 34,
   "id": "e8cc69e9-60b2-4c47-8e4e-c089bbe0169e",
   "metadata": {},
   "outputs": [
    {
     "data": {
      "text/plain": [
       "'IIT Madras'"
      ]
     },
     "execution_count": 34,
     "metadata": {},
     "output_type": "execute_result"
    }
   ],
   "source": [
    "full_page.title"
   ]
  },
  {
   "cell_type": "code",
   "execution_count": 41,
   "id": "2189f786-32d2-43b1-8a16-8d7df25ac08d",
   "metadata": {},
   "outputs": [],
   "source": [
    "html = full_page.html().encode(\"UTF-16\")\n",
    "\n",
    "data = pd.read_html(html)[5]"
   ]
  },
  {
   "cell_type": "code",
   "execution_count": 42,
   "id": "e7780234-a21b-490e-89fe-8877d4fcb41f",
   "metadata": {},
   "outputs": [
    {
     "data": {
      "text/html": [
       "<div>\n",
       "<style scoped>\n",
       "    .dataframe tbody tr th:only-of-type {\n",
       "        vertical-align: middle;\n",
       "    }\n",
       "\n",
       "    .dataframe tbody tr th {\n",
       "        vertical-align: top;\n",
       "    }\n",
       "\n",
       "    .dataframe thead th {\n",
       "        text-align: right;\n",
       "    }\n",
       "</style>\n",
       "<table border=\"1\" class=\"dataframe\">\n",
       "  <thead>\n",
       "    <tr style=\"text-align: right;\">\n",
       "      <th></th>\n",
       "      <th>Fest name</th>\n",
       "      <th>Department</th>\n",
       "    </tr>\n",
       "  </thead>\n",
       "  <tbody>\n",
       "    <tr>\n",
       "      <th>0</th>\n",
       "      <td>Aero fest</td>\n",
       "      <td>Aerospace Engineering</td>\n",
       "    </tr>\n",
       "    <tr>\n",
       "      <th>1</th>\n",
       "      <td>ElecFest</td>\n",
       "      <td>Electrical Engineering</td>\n",
       "    </tr>\n",
       "    <tr>\n",
       "      <th>2</th>\n",
       "      <td>Samanvay</td>\n",
       "      <td>Department of Management Studies</td>\n",
       "    </tr>\n",
       "    <tr>\n",
       "      <th>3</th>\n",
       "      <td>Biofest</td>\n",
       "      <td>Biotechnology</td>\n",
       "    </tr>\n",
       "    <tr>\n",
       "      <th>4</th>\n",
       "      <td>ExeBit</td>\n",
       "      <td>Computer Science and Engineering</td>\n",
       "    </tr>\n",
       "    <tr>\n",
       "      <th>5</th>\n",
       "      <td>Amalgam</td>\n",
       "      <td>Metallurgical and Materials Engineering</td>\n",
       "    </tr>\n",
       "    <tr>\n",
       "      <th>6</th>\n",
       "      <td>CEA Fest</td>\n",
       "      <td>Civil Engineering</td>\n",
       "    </tr>\n",
       "    <tr>\n",
       "      <th>7</th>\n",
       "      <td>Chemplus</td>\n",
       "      <td>Chemical Engineering</td>\n",
       "    </tr>\n",
       "    <tr>\n",
       "      <th>8</th>\n",
       "      <td>Forays</td>\n",
       "      <td>Mathematics</td>\n",
       "    </tr>\n",
       "    <tr>\n",
       "      <th>9</th>\n",
       "      <td>Mechanica</td>\n",
       "      <td>Mechanical Engineering</td>\n",
       "    </tr>\n",
       "    <tr>\n",
       "      <th>10</th>\n",
       "      <td>Paradox</td>\n",
       "      <td>Data Science and Applications</td>\n",
       "    </tr>\n",
       "    <tr>\n",
       "      <th>11</th>\n",
       "      <td>Wavez</td>\n",
       "      <td>Ocean Engineering</td>\n",
       "    </tr>\n",
       "    <tr>\n",
       "      <th>12</th>\n",
       "      <td>Annual Academic Conference</td>\n",
       "      <td>Humanities and Social Sciences</td>\n",
       "    </tr>\n",
       "    <tr>\n",
       "      <th>13</th>\n",
       "      <td>Bhoutics</td>\n",
       "      <td>Physics</td>\n",
       "    </tr>\n",
       "    <tr>\n",
       "      <th>14</th>\n",
       "      <td>CiHS</td>\n",
       "      <td>Chemistry</td>\n",
       "    </tr>\n",
       "  </tbody>\n",
       "</table>\n",
       "</div>"
      ],
      "text/plain": [
       "                     Fest name                               Department\n",
       "0                    Aero fest                    Aerospace Engineering\n",
       "1                     ElecFest                   Electrical Engineering\n",
       "2                     Samanvay         Department of Management Studies\n",
       "3                      Biofest                            Biotechnology\n",
       "4                       ExeBit         Computer Science and Engineering\n",
       "5                      Amalgam  Metallurgical and Materials Engineering\n",
       "6                     CEA Fest                        Civil Engineering\n",
       "7                     Chemplus                     Chemical Engineering\n",
       "8                       Forays                              Mathematics\n",
       "9                    Mechanica                   Mechanical Engineering\n",
       "10                     Paradox            Data Science and Applications\n",
       "11                       Wavez                        Ocean Engineering\n",
       "12  Annual Academic Conference           Humanities and Social Sciences\n",
       "13                    Bhoutics                                  Physics\n",
       "14                        CiHS                                Chemistry"
      ]
     },
     "execution_count": 42,
     "metadata": {},
     "output_type": "execute_result"
    }
   ],
   "source": [
    "data"
   ]
  },
  {
   "cell_type": "code",
   "execution_count": null,
   "id": "68dbbcd4-dec0-4d70-a759-c13e73c7980a",
   "metadata": {},
   "outputs": [],
   "source": []
  }
 ],
 "metadata": {
  "kernelspec": {
   "display_name": "Python 3 (ipykernel)",
   "language": "python",
   "name": "python3"
  },
  "language_info": {
   "codemirror_mode": {
    "name": "ipython",
    "version": 3
   },
   "file_extension": ".py",
   "mimetype": "text/x-python",
   "name": "python",
   "nbconvert_exporter": "python",
   "pygments_lexer": "ipython3",
   "version": "3.9.6"
  }
 },
 "nbformat": 4,
 "nbformat_minor": 5
}
