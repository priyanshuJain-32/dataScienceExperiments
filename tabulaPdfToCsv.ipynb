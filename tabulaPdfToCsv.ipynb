{
 "cells": [
  {
   "cell_type": "code",
   "execution_count": 2,
   "id": "4581e32b-d2bf-4e70-a83e-1b229d10eac1",
   "metadata": {},
   "outputs": [
    {
     "name": "stderr",
     "output_type": "stream",
     "text": [
      "/Users/priyanshu/Library/Python/3.9/lib/python/site-packages/urllib3/__init__.py:34: NotOpenSSLWarning: urllib3 v2.0 only supports OpenSSL 1.1.1+, currently the 'ssl' module is compiled with 'LibreSSL 2.8.3'. See: https://github.com/urllib3/urllib3/issues/3020\n",
      "  warnings.warn(\n"
     ]
    }
   ],
   "source": [
    "import os\n",
    "import requests\n",
    "import pandas as pd\n",
    "from urllib.parse import urljoin\n",
    "from bs4 import BeautifulSoup"
   ]
  },
  {
   "cell_type": "code",
   "execution_count": 3,
   "id": "a97fd4fb-e09d-419c-bb12-bf1ebd915184",
   "metadata": {},
   "outputs": [],
   "source": [
    "import tabula"
   ]
  },
  {
   "cell_type": "code",
   "execution_count": 4,
   "id": "67bbd30d-9ce7-41bd-80d3-2905c1d6d161",
   "metadata": {},
   "outputs": [],
   "source": [
    "url = 'https://www.premierleague.com/publications'"
   ]
  },
  {
   "cell_type": "code",
   "execution_count": 5,
   "id": "d318f6d8-45fe-48a4-8253-8688051e1a53",
   "metadata": {},
   "outputs": [],
   "source": [
    "folder_location = r'/Users/priyanshu/myFolder/jupy'\n",
    "if not os.path.exists(folder_location):\n",
    "    os.mkdir(folder_location)"
   ]
  },
  {
   "cell_type": "code",
   "execution_count": 6,
   "id": "fec9438c-4a82-4cf6-8549-a5441a29ac65",
   "metadata": {},
   "outputs": [],
   "source": [
    "response = requests.get(url)\n",
    "soup = BeautifulSoup(response.text, \"html.parser\")"
   ]
  },
  {
   "cell_type": "code",
   "execution_count": 17,
   "id": "e534446b-d5da-4e0e-8d33-fbcbb2d45ee3",
   "metadata": {},
   "outputs": [],
   "source": [
    "for link in soup.select(\"a[href$='.pdf']\"):\n",
    "    filename = os.path.join(folder_location, link['href'].split('/')[-1])\n",
    "    with (open(filename,'wb') as f):\n",
    "        f.write(requests.get(urljoin(url, link['href'])).content)"
   ]
  },
  {
   "cell_type": "code",
   "execution_count": null,
   "id": "42aa2807-e382-423f-9ce5-70ffc56237c1",
   "metadata": {},
   "outputs": [],
   "source": [
    "combined_pdf = os.path.join(folder_location + \"/This-is-PL-Interactive-Combined.pdf\")\n",
    "tabula.read_pdf(combined_pdf, pages='18')"
   ]
  },
  {
   "cell_type": "code",
   "execution_count": 1,
   "id": "edd2962c-095f-4c88-8636-dea2c16a6608",
   "metadata": {},
   "outputs": [
    {
     "ename": "NameError",
     "evalue": "name 'combined_pdf' is not defined",
     "output_type": "error",
     "traceback": [
      "\u001b[0;31m---------------------------------------------------------------------------\u001b[0m",
      "\u001b[0;31mNameError\u001b[0m                                 Traceback (most recent call last)",
      "Cell \u001b[0;32mIn[1], line 3\u001b[0m\n\u001b[1;32m      1\u001b[0m \u001b[38;5;28;01mfrom\u001b[39;00m \u001b[38;5;21;01mtabula\u001b[39;00m \u001b[38;5;28;01mimport\u001b[39;00m convert_into\n\u001b[0;32m----> 3\u001b[0m convert_into(\u001b[43mcombined_pdf\u001b[49m, folder_location \u001b[38;5;241m+\u001b[39m\u001b[38;5;124m\"\u001b[39m\u001b[38;5;124m/table_output.csv\u001b[39m\u001b[38;5;124m\"\u001b[39m, outpur_format\u001b[38;5;241m=\u001b[39m\u001b[38;5;124m\"\u001b[39m\u001b[38;5;124mcsv\u001b[39m\u001b[38;5;124m\"\u001b[39m, pages\u001b[38;5;241m=\u001b[39m \u001b[38;5;241m18\u001b[39m, area\u001b[38;5;241m=\u001b[39m[[\u001b[38;5;241m275\u001b[39m,\u001b[38;5;241m504\u001b[39m,\u001b[38;5;241m640\u001b[39m,\u001b[38;5;241m900\u001b[39m]])\n\u001b[1;32m      4\u001b[0m pd\u001b[38;5;241m.\u001b[39mread_csv(folder_location\u001b[38;5;241m+\u001b[39m\u001b[38;5;124m\"\u001b[39m\u001b[38;5;124m/table_output.csv\u001b[39m\u001b[38;5;124m\"\u001b[39m)\n",
      "\u001b[0;31mNameError\u001b[0m: name 'combined_pdf' is not defined"
     ]
    }
   ],
   "source": [
    "from tabula import convert_into\n",
    "\n",
    "convert_into(combined_pdf, folder_location +\"/table_output.csv\", outpur_format=\"csv\", pages= 18, area=[[275,504,640,900]])\n",
    "pd.read_csv(folder_location+\"/table_output.csv\")"
   ]
  },
  {
   "cell_type": "code",
   "execution_count": null,
   "id": "2c98a28a-59fd-4bc5-bdf2-72672b5889d3",
   "metadata": {},
   "outputs": [],
   "source": []
  }
 ],
 "metadata": {
  "kernelspec": {
   "display_name": "Python 3 (ipykernel)",
   "language": "python",
   "name": "python3"
  },
  "language_info": {
   "codemirror_mode": {
    "name": "ipython",
    "version": 3
   },
   "file_extension": ".py",
   "mimetype": "text/x-python",
   "name": "python",
   "nbconvert_exporter": "python",
   "pygments_lexer": "ipython3",
   "version": "3.9.6"
  }
 },
 "nbformat": 4,
 "nbformat_minor": 5
}
